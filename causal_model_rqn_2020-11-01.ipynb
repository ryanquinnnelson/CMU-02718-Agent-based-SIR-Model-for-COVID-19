{
 "cells": [
  {
   "cell_type": "markdown",
   "metadata": {
    "id": "H0zzS9dpUpNM"
   },
   "source": [
    "# Question 1\n",
    "## Part 1.1 Implement an agent-based model \n",
    "\n",
    "I subdivided the agent-based model into a number of classes:\n",
    "\n",
    "- Agent: defines an Agent's properties and behaviors when interacting with other Agents.\n",
    "- AgentGenerator: produces the required number and properties for unpositioned Agents to be used in the Agent-based model.\n",
    "- AgentMover: Defines a virtual n x n torus grid world and manages positioning and movement of all Agents in the world.\n",
    "- ABM: generates the model in which all Agents are built, positioned, and managed, as well as captures world metrics for each time step"
   ]
  },
  {
   "cell_type": "code",
   "execution_count": 3,
   "metadata": {},
   "outputs": [],
   "source": [
    "import random\n",
    "import numpy as np\n",
    "import matplotlib.pyplot as plt\n",
    "from IPython.display import display, clear_output"
   ]
  },
  {
   "cell_type": "markdown",
   "metadata": {},
   "source": [
    "#### Define Agent class"
   ]
  },
  {
   "cell_type": "code",
   "execution_count": 1,
   "metadata": {
    "id": "d4brKchREiYS"
   },
   "outputs": [],
   "source": [
    "class Agent:\n",
    "    '''\n",
    "    Defines an Agent's properties and behaviors \n",
    "    when interacting with other Agents.\n",
    "    \n",
    "    Fields:\n",
    "    \n",
    "        asymptomatic:  True if agent is asymptomatic when infected.\n",
    "        \n",
    "        days_infected: How long agent has been infected, if currently infected.\n",
    "    \n",
    "        distancing: True if agent is physically distancing.\n",
    "        \n",
    "        mask: True if agent is wearing a mask.\n",
    "        \n",
    "        position: Location of the Agent in the world, as defined by (x,y).\n",
    "    \n",
    "        status: The state of the Agent's health. Allowable statuses are: \n",
    "                (R) Recovered\n",
    "                (S) Susceptible to Infection\n",
    "                (I) Infected\n",
    "                (Q) Quarantined     \n",
    "    '''\n",
    "    statuses = ['R', 'S', 'I', 'Q'] # allowable statuses\n",
    "    days_infected = 0\n",
    "    \n",
    "    def __init__(self, \n",
    "                 position, \n",
    "                 status,  \n",
    "                 mask, \n",
    "                 distancing):\n",
    "        '''\n",
    "        Initialize an agent.\n",
    "        '''\n",
    "        # position (x,y)\n",
    "        self.position = position\n",
    "\n",
    "        # status\n",
    "        if status in self.statuses:\n",
    "            self.status = status\n",
    "        else:\n",
    "            raise ValueError('status: ' + status + ' is not valid.')\n",
    "\n",
    "        # possibly asymptomatic if infected\n",
    "        if status == 'I':\n",
    "            if self.is_asymptomatic():\n",
    "                 self.asymptomatic = True\n",
    "            else:\n",
    "                self.asymptomatic = False\n",
    "        else:\n",
    "            self.asymptomatic = False \n",
    "                            \n",
    "        self.mask = mask\n",
    "        self.distancing = distancing \n",
    "        \n",
    "    \n",
    "    def is_event(self, num_event, num_outcomes):\n",
    "        '''\n",
    "        If an event has a 25% chance, num_event = 1 and num_outcomes = 4\n",
    "        Returns true if event is selected from outcomes, False otherwise.\n",
    "        '''\n",
    "        return random.randint(1,num_outcomes) <= num_event\n",
    "    \n",
    "    \n",
    "    def is_infected(self, adjacent_agents):\n",
    "        '''\n",
    "        Returns True if the agent is now infected, given whether\n",
    "        an adjacent agent is infected or masked and whether the \n",
    "        agent is masked. False otherwise.\n",
    "        \n",
    "        Check is performed for each agent adjacent to this agent. \n",
    "        ''' \n",
    "        infected = False\n",
    "        \n",
    "        # perform check for all adjacent agents\n",
    "        for adjacent in adjacent_agents:\n",
    "        \n",
    "            # chance of infection if an adjacent agent is infected\n",
    "            if adjacent.status == 'I':\n",
    "\n",
    "                # infection probability depends on mask status of both\n",
    "                if self.mask and adjacent.mask: \n",
    "\n",
    "                    if self.is_event(1,10000): # 0.01% chance\n",
    "                        infected = True\n",
    "\n",
    "                elif self.mask or adjacent.mask: \n",
    "\n",
    "                    if self.is_event(1,100):  # 1% chance\n",
    "                        infected = True\n",
    "\n",
    "                else:  \n",
    "\n",
    "                    if self.is_event(1,4):   # 25% chance\n",
    "                        infected = True\n",
    "            \n",
    "        return infected\n",
    "            \n",
    "    \n",
    "    def is_asymptomatic(self):\n",
    "        '''\n",
    "        Returns True if agent is asymptomatic, False otherwise.\n",
    "        '''\n",
    "        return self.is_event(1,5) # 20% chance of being asymptomatic\n",
    "        \n",
    "    \n",
    "    def will_quarantine(self):\n",
    "        '''       \n",
    "        Returns True if the agent has been infected for \n",
    "        at least 3 days and is symptomatic, False otherwise.\n",
    "        '''       \n",
    "        return self.days_infected > 2 and not self.asymptomatic\n",
    "\n",
    "        \n",
    "    \n",
    "    def infection_over(self):\n",
    "        '''\n",
    "        Returns True if the agent has been infected for at\n",
    "        least 15 days, False otherwise\n",
    "        '''\n",
    "        return self.days_infected > 14\n",
    "                \n",
    "    \n",
    "    def update_status(self, adjacent_agents):\n",
    "        '''\n",
    "        Checks whether modification to the agent's status \n",
    "        is needed, and updates the status as necessary.\n",
    "        '''\n",
    "        \n",
    "        if self.status == 'S': # not yet infected\n",
    "            \n",
    "            if self.is_infected(adjacent_agents):\n",
    "                self.status = 'I'\n",
    "                \n",
    "        elif self.status == 'I': # already infected\n",
    "            \n",
    "            if self.will_quarantine():\n",
    "                self.status = 'Q'\n",
    "        \n",
    "            if self.infection_over():\n",
    "                self.status = 'R'\n",
    "                \n",
    "        elif self.status == 'Q': # already in quarantine\n",
    "            \n",
    "            if self.infection_over():\n",
    "                self.status = 'R'\n",
    "            \n",
    "            \n",
    "    def update_agent(self, adjacent_agents):\n",
    "        '''\n",
    "        Updates agent metrics based on adjacent agents.\n",
    "        Does not update position.\n",
    "        '''\n",
    "        \n",
    "        # update days infected if already infected\n",
    "        if self.status == 'I' or self.status == 'Q':\n",
    "            self.days_infected += 1 # day passed since infection started            \n",
    "        \n",
    "        # update status\n",
    "        status_before = self.status\n",
    "        self.update_status(adjacent_agents)\n",
    "        \n",
    "         # if now infected, determine if asymptomatic\n",
    "        if status_before != 'I' and self.status == 'I':\n",
    "            self.asymptomatic = self.is_asymptomatic()\n",
    "            \n",
    "        elif status_before != 'R' and self.status == 'R':\n",
    "            \n",
    "            # reset metrics related to infection\n",
    "            self.days_infected = 0\n",
    "            self.asymptomatic = False\n",
    "            \n",
    "    \n",
    "    def __str__(self):  \n",
    "        return  'Agent{'+'position:'+ str(self.position)+', status:'+ str(self.status)+', mask:'+ str(self.mask)+', distancing:'+ str(self.distancing)+', days_infected:'+ str(self.days_infected)+', asymptomatic:'+ str(self.asymptomatic)+'}'      \n",
    "    \n",
    "    \n",
    "    def has_died(self):\n",
    "        '''\n",
    "        Return True if agent dies due to infection, False otherwise.\n",
    "        '''  \n",
    "        infected = self.status == 'I' or self.status == 'Q'\n",
    "        return infected and self.is_event(2,1000) #0.2% chance\n",
    "    "
   ]
  },
  {
   "cell_type": "markdown",
   "metadata": {},
   "source": [
    "#### Test Agent class"
   ]
  },
  {
   "cell_type": "code",
   "execution_count": 287,
   "metadata": {},
   "outputs": [
    {
     "name": "stdout",
     "output_type": "stream",
     "text": [
      "Test constructor\n",
      "Agent{position:(1, 1), status:I, mask:True, distancing:True, days_infected:0, asymptomatic:True}\n"
     ]
    }
   ],
   "source": [
    "print(\"Test constructor\")\n",
    "a1 = Agent((1,1), 'I', mask=True, distancing=True)\n",
    "print(a1)\n",
    "\n",
    "# check provided parameters\n",
    "assert a1.position == (1,1)\n",
    "assert a1.status == 'I'\n",
    "assert a1.mask == True\n",
    "assert a1.distancing == True\n",
    "assert a1.days_infected == 0\n",
    "\n",
    "\n",
    "# check derived parameters\n",
    "num = 100000\n",
    "counter = 0\n",
    "for i in range(num):\n",
    "    a1 = Agent((1,1), 'I', mask=True, distancing=True)\n",
    "    if a1.asymptomatic == True:\n",
    "        counter += 1\n",
    "assert round(counter/num,2) == 0.20"
   ]
  },
  {
   "cell_type": "code",
   "execution_count": 288,
   "metadata": {},
   "outputs": [
    {
     "name": "stdout",
     "output_type": "stream",
     "text": [
      "Test is_event()\n"
     ]
    }
   ],
   "source": [
    "print('Test is_event()')\n",
    "a1 = Agent((1,1), 'I', mask=True, distancing=True)\n",
    "\n",
    "num = 100000\n",
    "counter = 0\n",
    "for i in range(num):\n",
    "    if a1.is_event(1,10000):\n",
    "        counter += 1\n",
    "assert round(counter/num,4) == 0.0001, 'Failed with ' + str(round(counter/num,4))\n",
    "\n",
    "counter = 0\n",
    "for i in range(num):\n",
    "    if a1.is_event(1,100):\n",
    "        counter += 1\n",
    "assert round(counter/num,2) == 0.01\n",
    "\n",
    "counter = 0\n",
    "for i in range(num):\n",
    "    if a1.is_event(1,4):\n",
    "        counter += 1\n",
    "assert round(counter/num,2) == 0.25\n",
    "\n",
    "counter = 0\n",
    "for i in range(num):\n",
    "    if a1.is_event(2,1000):\n",
    "        counter += 1\n",
    "assert round(counter/num,3) == 0.002, 'Failed with ' + str(round(counter/num,3))"
   ]
  },
  {
   "cell_type": "code",
   "execution_count": 289,
   "metadata": {},
   "outputs": [
    {
     "name": "stdout",
     "output_type": "stream",
     "text": [
      "Test is_asymptomatic()\n"
     ]
    }
   ],
   "source": [
    "print('Test is_asymptomatic()')\n",
    "\n",
    "counter = 0\n",
    "for i in range(num):\n",
    "    if a1.is_asymptomatic():\n",
    "        counter += 1\n",
    "assert round(counter/num,2) == 0.20"
   ]
  },
  {
   "cell_type": "code",
   "execution_count": 290,
   "metadata": {},
   "outputs": [
    {
     "name": "stdout",
     "output_type": "stream",
     "text": [
      "Test will_quarantine()\n"
     ]
    }
   ],
   "source": [
    "print('Test will_quarantine()')\n",
    "\n",
    "a2 = Agent((0,1), 'I', mask=True, distancing=True)\n",
    "\n",
    "# possibility of quarantine when symptomatic\n",
    "a2.asymptomatic = False\n",
    "\n",
    "a2.days_infected = 2\n",
    "assert a2.will_quarantine() == False\n",
    "\n",
    "a2.days_infected = 3\n",
    "assert a2.will_quarantine() == True\n",
    "\n",
    "a2.days_infected = 4\n",
    "assert a2.will_quarantine() == True\n",
    "\n",
    "\n",
    "# when asymptomatic, will not quarantine\n",
    "a2.asymptomatic = True\n",
    "a2.days_infected = 2\n",
    "assert a2.will_quarantine() == False\n",
    "\n",
    "a2.days_infected = 3\n",
    "assert a2.will_quarantine() == False\n",
    "\n",
    "a2.days_infected = 4\n",
    "assert a2.will_quarantine() == False\n"
   ]
  },
  {
   "cell_type": "code",
   "execution_count": 291,
   "metadata": {},
   "outputs": [
    {
     "name": "stdout",
     "output_type": "stream",
     "text": [
      "Test infection_over()\n"
     ]
    }
   ],
   "source": [
    "print('Test infection_over()')\n",
    "a3 = Agent((0,1), 'I', mask=True, distancing=True)\n",
    "a3.days_infected = 13\n",
    "assert a3.infection_over() == False\n",
    "\n",
    "a3.days_infected = 14\n",
    "assert a3.infection_over() == False\n",
    "\n",
    "a3.days_infected = 15\n",
    "assert a3.infection_over() == True\n"
   ]
  },
  {
   "cell_type": "code",
   "execution_count": 292,
   "metadata": {},
   "outputs": [
    {
     "name": "stdout",
     "output_type": "stream",
     "text": [
      "Test is_infected()\n"
     ]
    }
   ],
   "source": [
    "print('Test is_infected()')\n",
    "a1 = Agent((1,1), 'S', mask=True, distancing=True)\n",
    "a2 = Agent((0,1), 'I', mask=True, distancing=True)\n",
    "\n",
    "# test 1 adjacent, 1 infected, both masked\n",
    "a1.mask = True\n",
    "a2.mask = True\n",
    "num = 100000\n",
    "counter = 0\n",
    "for i in range(num):\n",
    "    if a1.is_infected([a2]):\n",
    "        counter += 1\n",
    "assert round(counter/num,4) == 0.0001, round(counter/num,4)\n",
    "\n",
    "# test 1 adjacent, 1 infected, only agent masked\n",
    "a1.mask = True\n",
    "a2.mask = False\n",
    "counter = 0\n",
    "for i in range(num):\n",
    "    if a1.is_infected([a2]):\n",
    "        counter += 1\n",
    "assert round(counter/num,2) == 0.01\n",
    "\n",
    "# test 1 adjacent, 1 infected, only adjacent masked\n",
    "a1.mask = False\n",
    "a2.mask = True\n",
    "counter = 0\n",
    "for i in range(num):\n",
    "    if a1.is_infected([a2]):\n",
    "        counter += 1\n",
    "assert round(counter/num,2) == 0.01\n",
    "\n",
    "# test 1 adjacent, 1 infected, no masks\n",
    "a1.mask = False\n",
    "a2.mask = False\n",
    "counter = 0\n",
    "for i in range(num):\n",
    "    if a1.is_infected([a2]):\n",
    "        counter += 1\n",
    "assert round(counter/num,2) == 0.25"
   ]
  },
  {
   "cell_type": "code",
   "execution_count": 293,
   "metadata": {},
   "outputs": [
    {
     "name": "stdout",
     "output_type": "stream",
     "text": [
      "Test is_infected()\n"
     ]
    }
   ],
   "source": [
    "print('Test is_infected()')\n",
    "a3 = Agent((1,2), 'R', mask=True, distancing=True)\n",
    "\n",
    "# test 2 adjacent, 1 infected, all masked\n",
    "a1.mask = True\n",
    "a2.mask = True\n",
    "a3.mask = True\n",
    "counter = 0\n",
    "for i in range(num):\n",
    "    if a1.is_infected([a2,a3]):\n",
    "        counter += 1\n",
    "assert round(counter/num,4) == 0.0001\n",
    "\n",
    "# test 2 adjacent, 1 infected, only agent masked\n",
    "a1.mask = True\n",
    "a2.mask = False\n",
    "a3.mask = False\n",
    "counter = 0\n",
    "for i in range(num):\n",
    "    if a1.is_infected([a2,a3]):\n",
    "        counter += 1\n",
    "assert round(counter/num,2) == 0.01\n",
    "\n",
    "# test 2 adjacent, 1 infected, no one masked\n",
    "a2.mask = False\n",
    "a3.mask = False\n",
    "a1.mask = False\n",
    "counter = 0\n",
    "for i in range(num):\n",
    "    if a1.is_infected([a2,a3]):\n",
    "        counter += 1\n",
    "assert round(counter/num,2) == 0.25"
   ]
  },
  {
   "cell_type": "code",
   "execution_count": 294,
   "metadata": {},
   "outputs": [
    {
     "name": "stdout",
     "output_type": "stream",
     "text": [
      "Test is_infected()\n",
      "0.0002\n",
      "0.02\n",
      "0.01\n",
      "0.44\n"
     ]
    }
   ],
   "source": [
    "print('Test is_infected()')\n",
    "# test 2 adjacent, 2 infected, all masked\n",
    "a3.status = 'I'\n",
    "a1.mask = True\n",
    "a2.mask = True\n",
    "a3.mask = True\n",
    "counter = 0\n",
    "for i in range(num):\n",
    "    if a1.is_infected([a2,a3]):\n",
    "        counter += 1\n",
    "print(round(counter/num,4))\n",
    "assert round(counter/num,4) > 0.0001, 'Failed with ' + str(round(counter/num,4))\n",
    "\n",
    "# test 2 adjacent, 2 infected, agent masked\n",
    "a3.status = 'I'\n",
    "a1.mask = True\n",
    "a2.mask = False\n",
    "a3.mask = False\n",
    "counter = 0\n",
    "for i in range(num):\n",
    "    if a1.is_infected([a2,a3]):\n",
    "        counter += 1\n",
    "print(round(counter/num,2))\n",
    "assert round(counter/num,2) > 0.01\n",
    "\n",
    "# test 2 adjacent, 2 infected, agent masked, one adjacent masked\n",
    "a3.status = 'I'\n",
    "a1.mask = True\n",
    "a2.mask = True\n",
    "a3.mask = False\n",
    "counter = 0\n",
    "for i in range(num):\n",
    "    if a1.is_infected([a2,a3]):\n",
    "        counter += 1\n",
    "print(round(counter/num,2))\n",
    "assert round(counter/num,2) >= 0.01\n",
    "\n",
    "# test 2 adjacent, 2 infected, no one masked\n",
    "a3.status = 'I'\n",
    "a1.mask = False\n",
    "a2.mask = False\n",
    "a3.mask = False\n",
    "counter = 0\n",
    "for i in range(num):\n",
    "    if a1.is_infected([a2,a3]):\n",
    "        counter += 1\n",
    "print(round(counter/num,2))\n",
    "assert round(counter/num,2) > 0.25"
   ]
  },
  {
   "cell_type": "code",
   "execution_count": 295,
   "metadata": {},
   "outputs": [
    {
     "name": "stdout",
     "output_type": "stream",
     "text": [
      "Test update_status()\n",
      "Test R status...\n",
      "Test I status...\n",
      "Test Q status...\n",
      "Test S status...\n"
     ]
    }
   ],
   "source": [
    "print('Test update_status()')\n",
    "a1 = Agent((1,1), 'R', mask=True, distancing=True)\n",
    "a2 = Agent((0,1), 'I', mask=False, distancing=True)\n",
    "\n",
    "# test R status\n",
    "print('Test R status...')\n",
    "a1.update_status([a2])\n",
    "assert a1.status == 'R'\n",
    "\n",
    "# test I status\n",
    "print('Test I status...')\n",
    "\n",
    "a1.status = 'I'\n",
    "a1.days_infected = 0 # test not yet quarantined\n",
    "a1.asymptomatic = True\n",
    "a1.update_status([a2])  \n",
    "assert a1.status == 'I'\n",
    "\n",
    "\n",
    "a1.status = 'I'\n",
    "a1.days_infected = 3 # test change to quarantined\n",
    "a1.asymptomatic = False\n",
    "a1.update_status([a2]) \n",
    "assert a1.status == 'Q'\n",
    "\n",
    "a1.status = 'I'\n",
    "a1.days_infected = 15 # test change to recovered\n",
    "a1.asymptomatic = False\n",
    "a1.update_status([a2]) \n",
    "assert a1.status == 'R'\n",
    "\n",
    "# test Q status\n",
    "print('Test Q status...')\n",
    "a1.status = 'Q'\n",
    "a1.days_infected = 15 # test change to recovered\n",
    "a1.asymptomatic = False\n",
    "a1.update_status([a2]) \n",
    "assert a1.status == 'R'\n",
    "\n",
    "# test S status\n",
    "print('Test S status...')\n",
    "a1.status = 'S'\n",
    "a1.days_infected = 0\n",
    "a1.asymptomatic = False\n",
    "num = 10000\n",
    "counter = 0\n",
    "for i in range(num):\n",
    "    a1.status = 'S'\n",
    "    a1.update_status([a2])\n",
    "    if a1.status == 'I':\n",
    "        counter += 1\n",
    "assert round(counter/num,2) == 0.01"
   ]
  },
  {
   "cell_type": "code",
   "execution_count": 296,
   "metadata": {},
   "outputs": [
    {
     "name": "stdout",
     "output_type": "stream",
     "text": [
      "Test update_agent()\n"
     ]
    }
   ],
   "source": [
    "print('Test update_agent()')\n",
    "\n",
    "a1 = Agent((1,1), 'R', mask=False, distancing=True)\n",
    "a2 = Agent((0,1), 'I', mask=False, distancing=True)\n",
    "\n",
    "\n",
    "# check days_infected\n",
    "a1.status = 'I'\n",
    "a1.update_agent([a2])\n",
    "assert a1.days_infected == 1\n",
    "\n",
    "# check status if now recovered\n",
    "# check metrics if now recovered\n",
    "a1.status = 'I'\n",
    "a1.days_infected = 14\n",
    "a1.update_agent([a2])\n",
    "assert a1.status == 'R'\n",
    "assert a1.days_infected == 0\n",
    "assert a1.asymptomatic == False\n",
    "\n",
    "# check status if now recovered\n",
    "# check metrics if now recovered\n",
    "a1.status = 'Q'\n",
    "a1.days_infected = 14\n",
    "a1.update_agent([a2])\n",
    "assert a1.status == 'R'\n",
    "assert a1.days_infected == 0\n",
    "assert a1.asymptomatic == False\n",
    "    \n",
    "\n",
    "# check asymptomatic if now infected\n",
    "a1.status = 'S'\n",
    "a1.days_infected = 0\n",
    "a1.asymptomatic = False\n",
    "a1.update_agent([a2])\n",
    "\n",
    "num = 100000\n",
    "counter = 0\n",
    "for i in range(num):\n",
    "    a1.status = 'S'\n",
    "    a1.asymptomatic = False\n",
    "    a1.update_agent([a2])\n",
    "    if a1.asymptomatic == True:\n",
    "        counter += 1\n",
    "assert round(counter/num,2) == 0.05"
   ]
  },
  {
   "cell_type": "code",
   "execution_count": 4,
   "metadata": {},
   "outputs": [
    {
     "name": "stdout",
     "output_type": "stream",
     "text": [
      "Test has_died()\n"
     ]
    }
   ],
   "source": [
    "print('Test has_died()')\n",
    "num = 100000\n",
    "\n",
    "# check for infected status\n",
    "a2 = Agent((0,1), 'I', mask=False, distancing=True)\n",
    "counter = 0\n",
    "for i in range(num):\n",
    "    if a2.has_died():\n",
    "        counter += 1\n",
    "assert round(counter/num,3) == 0.002\n",
    "\n",
    "a2 = Agent((0,1), 'Q', mask=False, distancing=True)\n",
    "counter = 0\n",
    "for i in range(num):\n",
    "    if a2.has_died():\n",
    "        counter += 1\n",
    "assert round(counter/num,3) == 0.002\n",
    "\n",
    "\n",
    "# check if status not infected\n",
    "a3 = Agent((0,1), 'S', mask=False, distancing=True)\n",
    "counter = 0\n",
    "for i in range(num):\n",
    "    if a3.has_died():\n",
    "        counter += 1\n",
    "assert round(counter/num,1) == 0.0"
   ]
  },
  {
   "cell_type": "code",
   "execution_count": 298,
   "metadata": {},
   "outputs": [
    {
     "name": "stdout",
     "output_type": "stream",
     "text": [
      "All tests pass for Agent class.\n"
     ]
    }
   ],
   "source": [
    "print('All tests pass for Agent class.')"
   ]
  },
  {
   "cell_type": "markdown",
   "metadata": {},
   "source": [
    "#### Define AgentGenerator class"
   ]
  },
  {
   "cell_type": "code",
   "execution_count": 12,
   "metadata": {},
   "outputs": [],
   "source": [
    "class AgentGenerator:\n",
    "    '''  \n",
    "    Defines functionality for generating the required \n",
    "    number of Agents which match specified properties\n",
    "    (i.e. the correct number of infected, distancing, \n",
    "    masked, vaccinated).\n",
    "    \n",
    "    Mask and distancing properties are set independent of each other.\n",
    "    - Agents are randomly chosen among infected and vaccinated when \n",
    "      deciding which Agents are masked.\n",
    "    - Agents are randomly chosen among infected and vaccinated when \n",
    "      deciding which Agents are distancing.\n",
    "      \n",
    "    Fields:\n",
    "    \n",
    "        m: the number of Agents to be generated\n",
    "        \n",
    "        num_distancing: the number of Agents which have distancing=True property at the start\n",
    "        \n",
    "        num_infected: the number of Agents set as infected at the start\n",
    "        \n",
    "        num_mask: the number of Agents which are masked at the start\n",
    "        \n",
    "        num_vaccinated: the number of Agents which are in a recovered state at the start\n",
    "    '''\n",
    "    \n",
    "    \n",
    "    def __init__(self, m, num_infected, percent_distancing, percent_mask, percent_vaccinated = 0.0):\n",
    "        '''\n",
    "        Sets the number of distancing, masked, and vaccinated Agents\n",
    "        which will be generated by generate_agents().\n",
    "        '''        \n",
    "        # capture parameters\n",
    "        self.m = m\n",
    "        self.num_infected = num_infected\n",
    "\n",
    "        # set discrete numbers for distancing, mask, vaccinated\n",
    "        self.num_distancing = int(round(percent_distancing*m))\n",
    "        self.num_mask = int(round(percent_mask*m))\n",
    "        self.num_vaccinated = int(round(percent_vaccinated*m))\n",
    "        \n",
    "        # validation checks        \n",
    "        if self.num_infected + self.num_vaccinated > m:\n",
    "            raise ValueError('not allowed to have (infected + vaccinated) > total number of agents')\n",
    "    \n",
    "    \n",
    "    def is_infected(self, current_infected):\n",
    "        '''\n",
    "        Given the current number of infected Agents, returns True \n",
    "        if there should be more infected agents in order to\n",
    "        reach the required number of infected Agents.\n",
    "        Returns False otherwise.\n",
    "        '''\n",
    "        return current_infected < self.num_infected\n",
    "    \n",
    "    \n",
    "    def is_vaccinated(self,infected,current_vaccinated):\n",
    "        '''\n",
    "        Given the current number of vaccinated Agents and\n",
    "        whether this Agent is infected, returns True if \n",
    "        the agent is not infected and there should be \n",
    "        more vaccinated agents to reach the required\n",
    "        number of vaccinated Agents.\n",
    "        Returns False otherwise.\n",
    "        '''\n",
    "        if infected:\n",
    "            return False # can't be both infected and vaccinated\n",
    "        else: \n",
    "            return current_vaccinated < self.num_vaccinated\n",
    "    \n",
    "    \n",
    "    def get_status(self, infected, vaccinated):\n",
    "        '''\n",
    "        Used to help determine which status should be chosen.\n",
    "        \n",
    "        If infected, returns 'I'.\n",
    "        If vaccinated, returns 'R'.\n",
    "        If neither infected nor vaccinated, returns 'S'.\n",
    "        Raises a ValueError if Agent is both infected\n",
    "        and vaccinated (not allowed in this model).\n",
    "        '''\n",
    "        if infected and vaccinated:\n",
    "            raise ValueError('Agent is not allowed to be both infected and vaccinated.')\n",
    "        \n",
    "        if infected:\n",
    "            status = 'I'\n",
    "        elif vaccinated:\n",
    "            status = 'R'\n",
    "        else:\n",
    "            status = 'S'\n",
    "        \n",
    "        return status\n",
    "    \n",
    "\n",
    "    def select_indexes(self, p):\n",
    "        '''\n",
    "        Selects p random positions between 0 and m-1. \n",
    "        '''\n",
    "    \n",
    "        chosen = list()\n",
    "        for i in range(p):\n",
    "            \n",
    "            position = random.randint(0,self.m-1)\n",
    "            while position in chosen:\n",
    "                \n",
    "                # try again\n",
    "                position = random.randint(0,self.m-1)\n",
    "            \n",
    "            chosen.append(position)\n",
    "        return chosen\n",
    "\n",
    "\n",
    "    def generate_agents(self):\n",
    "        '''\n",
    "        Creates and returns a list of m agents, each created with \n",
    "        a randomly chosen position from the n x n grid, with the \n",
    "        required number of agents selected as infected and vaccinated.\n",
    "        \n",
    "        After setting status, randomly selects agents to be masked.\n",
    "        Separately from mask, randomly selects agents to be distancing.\n",
    "        '''\n",
    "        \n",
    "        # create agents\n",
    "        agents = list()\n",
    "        \n",
    "        # set counters\n",
    "        current_infected = 0\n",
    "        current_vaccinated = 0\n",
    "        \n",
    "        # randomly select indexes for mask and distancing\n",
    "        mask_indexes = self.select_indexes(self.num_mask)\n",
    "        distancing_indexes =  self.select_indexes(self.num_distancing)\n",
    "        \n",
    "        for i in range(self.m):\n",
    "        \n",
    "            # select if agent is infected\n",
    "            infected = self.is_infected(current_infected)\n",
    "            if infected:\n",
    "                current_infected += 1\n",
    "            \n",
    "            # select if agent is vaccinated\n",
    "            vaccinated = self.is_vaccinated(infected, current_vaccinated)\n",
    "            if vaccinated:\n",
    "                current_vaccinated += 1\n",
    "                \n",
    "            # set status\n",
    "            status = self.get_status(infected, vaccinated)\n",
    "\n",
    "            # set values for mask and distancing\n",
    "            mask = i in mask_indexes\n",
    "            distancing = i in distancing_indexes\n",
    "                \n",
    "            # position will be set later\n",
    "            new_agent = Agent((-1,-1), status, mask=mask, distancing=distancing)\n",
    "            agents.append(new_agent)          \n",
    "        \n",
    "        return agents\n",
    "    "
   ]
  },
  {
   "cell_type": "markdown",
   "metadata": {},
   "source": [
    "#### Testing AgentGenerator class"
   ]
  },
  {
   "cell_type": "code",
   "execution_count": 300,
   "metadata": {
    "scrolled": true
   },
   "outputs": [
    {
     "name": "stdout",
     "output_type": "stream",
     "text": [
      "Test constructor\n"
     ]
    }
   ],
   "source": [
    "print('Test constructor')\n",
    "\n",
    "# test version with defined percent_vaccinated\n",
    "ag = AgentGenerator(100,10,0.25,0.35,0.45)\n",
    "assert ag.m == 100\n",
    "assert ag.num_infected == 10\n",
    "assert ag.num_distancing == 25\n",
    "assert ag.num_mask == 35\n",
    "assert ag.num_vaccinated == 45\n",
    "\n",
    "# test version without defined percent_vaccinated\n",
    "ag = AgentGenerator(100,10,0.25,0.35)\n",
    "assert ag.m == 100\n",
    "assert ag.num_infected == 10\n",
    "assert ag.num_distancing == 25\n",
    "assert ag.num_mask == 35\n",
    "assert ag.num_vaccinated == 0"
   ]
  },
  {
   "cell_type": "code",
   "execution_count": 301,
   "metadata": {},
   "outputs": [
    {
     "name": "stdout",
     "output_type": "stream",
     "text": [
      "Test is_infected()\n"
     ]
    }
   ],
   "source": [
    "print('Test is_infected()')\n",
    "\n",
    "ag = AgentGenerator(100,1,0.25,0.35,0.45)\n",
    "current_infected = 0\n",
    "infected = ag.is_infected(current_infected)\n",
    "assert infected == True\n",
    "\n",
    "current_infected = 1\n",
    "infected = ag.is_infected(current_infected)\n",
    "assert infected == False"
   ]
  },
  {
   "cell_type": "code",
   "execution_count": 302,
   "metadata": {},
   "outputs": [
    {
     "name": "stdout",
     "output_type": "stream",
     "text": [
      "Test is_vaccinated()\n"
     ]
    }
   ],
   "source": [
    "print('Test is_vaccinated()')\n",
    "\n",
    "ag = AgentGenerator(100,1,0.25,0.35,0.45)\n",
    "\n",
    "# infected should not become vaccinated\n",
    "current_vaccinated = 0\n",
    "infected = True\n",
    "vaccinated = ag.is_vaccinated(infected,current_vaccinated)\n",
    "assert vaccinated == False\n",
    "\n",
    "\n",
    "# remaining should become vaccinated\n",
    "current_vaccinated = 0\n",
    "infected = False\n",
    "vaccinated = ag.is_vaccinated(infected,current_vaccinated)\n",
    "assert vaccinated == True\n",
    "\n",
    "# full should not become vaccinated\n",
    "current_vaccinated = 45\n",
    "infected = False\n",
    "vaccinated = ag.is_vaccinated(infected,current_vaccinated)\n",
    "assert vaccinated == False\n",
    "\n"
   ]
  },
  {
   "cell_type": "code",
   "execution_count": 10,
   "metadata": {},
   "outputs": [
    {
     "name": "stdout",
     "output_type": "stream",
     "text": [
      "Test get_status()\n"
     ]
    }
   ],
   "source": [
    "print('Test get_status()')\n",
    "ag = AgentGenerator(100,1,0.25,0.35,0.45)\n",
    "\n",
    "# infected\n",
    "infected = True\n",
    "vaccinated = False\n",
    "status = ag.get_status(infected, vaccinated)\n",
    "assert status == 'I'\n",
    "\n",
    "# vaccinated\n",
    "infected = False\n",
    "vaccinated = True\n",
    "status = ag.get_status(infected, vaccinated)\n",
    "assert status == 'R'\n",
    "\n",
    "# susceptible\n",
    "infected = False\n",
    "vaccinated = False\n",
    "status = ag.get_status(infected, vaccinated)\n",
    "assert status == 'S'\n",
    "\n",
    "\n",
    "# error handling\n",
    "try:\n",
    "    infected = True\n",
    "    vaccinated = True\n",
    "    status = ag.get_status(infected, vaccinated)\n",
    "    assert False\n",
    "except ValueError:\n",
    "    assert True"
   ]
  },
  {
   "cell_type": "code",
   "execution_count": 13,
   "metadata": {},
   "outputs": [
    {
     "name": "stdout",
     "output_type": "stream",
     "text": [
      "Test select_indexes()\n",
      "[27, 87, 48, 4, 92, 54, 0, 94, 62, 39, 38, 89, 97, 6, 35, 20, 60, 21, 31, 53, 33, 37, 7, 46, 14]\n"
     ]
    }
   ],
   "source": [
    "print('Test select_indexes()')\n",
    "\n",
    "m = 100\n",
    "ag = AgentGenerator(m,1,0.25,0.35,0.45)\n",
    "\n",
    "num_positions = 25\n",
    "positions = ag.select_indexes(num_positions)\n",
    "\n",
    "assert len(positions) == num_positions\n",
    "assert len(set(positions)) == num_positions\n",
    "\n",
    "counter = 0\n",
    "for p in positions:\n",
    "    if p >= m or p < 0: # should be within [0...m-1] index positions\n",
    "        counter += 1\n",
    "assert counter == 0\n",
    "print(positions)"
   ]
  },
  {
   "cell_type": "code",
   "execution_count": 305,
   "metadata": {},
   "outputs": [
    {
     "name": "stdout",
     "output_type": "stream",
     "text": [
      "Test create_agents()\n"
     ]
    }
   ],
   "source": [
    "print('Test create_agents()')\n",
    "m = 100\n",
    "ag = AgentGenerator(m,10,0.25,0.35,0.45)\n",
    "agents = ag.generate_agents()\n",
    "\n",
    "assert len(agents) == m\n",
    "\n",
    "infected_counter = 0\n",
    "vaccinated_counter = 0\n",
    "susceptible_counter = 0\n",
    "mask_counter = 0\n",
    "distancing_counter = 0\n",
    "\n",
    "for agent in agents:\n",
    "    if agent.status == 'I':\n",
    "        infected_counter += 1\n",
    "    elif agent.status == 'R':\n",
    "        vaccinated_counter += 1\n",
    "    elif agent.status == 'S':\n",
    "        susceptible_counter += 1\n",
    "        \n",
    "    if agent.mask:\n",
    "        mask_counter += 1\n",
    "    \n",
    "    if agent.distancing:\n",
    "        distancing_counter += 1\n",
    "\n",
    "assert infected_counter == 10, infected_counter\n",
    "assert distancing_counter == 25, distancing_counter\n",
    "assert mask_counter == 35, mask_counter\n",
    "assert vaccinated_counter == 45, vaccinated_counter\n",
    "assert susceptible_counter == m - infected_counter - vaccinated_counter, susceptible_counter\n"
   ]
  },
  {
   "cell_type": "code",
   "execution_count": 306,
   "metadata": {},
   "outputs": [
    {
     "name": "stdout",
     "output_type": "stream",
     "text": [
      "All tests pass for AgentGenerator class.\n"
     ]
    }
   ],
   "source": [
    "print('All tests pass for AgentGenerator class.')"
   ]
  },
  {
   "cell_type": "markdown",
   "metadata": {},
   "source": [
    "#### Define AgentMover class\n",
    "Class must consider how wrapping around the torus grid works, as shown below.\n",
    "\n",
    "![02718-HW4-Wrap.png](images/02718-HW4-Wrap.png)\n",
    "\n",
    "The grid space which must be considered while moving an agent can be limited to a region 3 units from the agent's current position, as shown below.\n",
    "\n",
    "![02718-HW4-Moves.png](images/02718-HW4-Moves.png)\n",
    "\n",
    "Available moves may be restricted depending on whether nearby agents are distancing and whether this agent is distancing. The restrictions turn out to be exactly the same.\n",
    "\n",
    "Restrictions if nearby agents are distancing\n",
    "\n",
    "![02718-HW4-OtherDistancing.png](images/02718-HW4-OtherDistancing.png)\n",
    "\n",
    "Restrictions if this agent is distancing\n",
    "\n",
    "![02718-HW4-SelfDistancing.png](images/02718-HW4-SelfDistancing.png)"
   ]
  },
  {
   "cell_type": "code",
   "execution_count": 23,
   "metadata": {},
   "outputs": [],
   "source": [
    "class AgentMover:\n",
    "    '''\n",
    "    Defines a virtual n x n torus grid world and \n",
    "    manages the positioning and movement of all \n",
    "    Agents in this world.\n",
    "    \n",
    "    Fields:\n",
    "    \n",
    "        n: the dimension of the square torus grid\n",
    "           used to define the world in which Agents\n",
    "           move\n",
    "    '''\n",
    "    \n",
    "    # allowable moves\n",
    "    directions = [[-1, 0], # left\n",
    "                  [ 1, 0], # right\n",
    "                  [ 0,-1], # up\n",
    "                  [ 0, 1], # down\n",
    "                  [-1,-1], # left & up\n",
    "                  [-1, 1], # left & down\n",
    "                  [ 1,-1], # right & up\n",
    "                  [ 1, 1]] # right & down\n",
    "    \n",
    "    # all moves which extend 3 positions from current position (0,0)\n",
    "    directions_dia_3 = [[i,j] for i in range(-3,4) for j in range (-3,4) if (i,j) != (0,0)]\n",
    "    \n",
    "    # all moves which extend 2 positions from current position (0,0)\n",
    "    directions_dia_2 = [[i,j] for i in range(-2,3) for j in range (-2,3) if (i,j) != (0,0)]\n",
    "    \n",
    "    def __init__(self, n):\n",
    "        self.n = n\n",
    "        \n",
    "\n",
    "    def get_random_position(self, selected):\n",
    "        '''\n",
    "        Returns a random (i,j) position in an n x n grid \n",
    "        which has not yet been selected.\n",
    "        '''\n",
    "        \n",
    "        # try random position\n",
    "        i = random.randint(0,self.n-1)\n",
    "        j = random.randint(0,self.n-1)\n",
    "        \n",
    "        while (i,j) in selected:\n",
    "\n",
    "            # keep trying if position has already been chosen\n",
    "            i = random.randint(0,self.n-1)\n",
    "            j = random.randint(0,self.n-1)\n",
    "            \n",
    "        return (i,j)\n",
    "    \n",
    "    \n",
    "    def split_agents(self, agents):\n",
    "        '''\n",
    "        Splits agents into those which are distancing and other. \n",
    "        Returns tuple of two lists:(distancing agents, other agents)\n",
    "        '''\n",
    "        \n",
    "        # position distancing agents first\n",
    "        distancing_agents = list()\n",
    "        other_agents = list()\n",
    "        \n",
    "        for agent in agents:\n",
    "            if agent.distancing:\n",
    "                distancing_agents.append(agent)\n",
    "            else:\n",
    "                other_agents.append(agent)\n",
    "                \n",
    "        return distancing_agents, other_agents\n",
    "    \n",
    "        \n",
    "    def get_x(self, x_curr, change):\n",
    "        '''\n",
    "        Calculates next x coordinate, wrapping around torus \n",
    "        grid if position would move off the top or bottom.\n",
    "        '''\n",
    "        \n",
    "        x_result = x_curr + change\n",
    "        if x_result < 0:\n",
    "            x_next = self.n + x_result\n",
    "        elif x_result > self.n-1:\n",
    "            x_next = x_result % self.n\n",
    "        else:\n",
    "            x_next = x_result\n",
    "                \n",
    "        return x_next\n",
    " \n",
    "\n",
    "    def get_y(self, y_curr, change):\n",
    "        '''\n",
    "        Calculates next y coordinate, wrapping around torus \n",
    "        grid if position would move off the left or right.\n",
    "        '''                       \n",
    "        return self.get_x(y_curr, change) # works the same as x changes\n",
    "\n",
    "    \n",
    "    def get_adj_positions(self, position):\n",
    "        '''\n",
    "        Returns a set of all 8 positions which surround the given position, \n",
    "        wrapping around the torus grid when necessary.\n",
    "        '''\n",
    "\n",
    "        adjacent = set()\n",
    "        \n",
    "        x_curr = position[0]\n",
    "        y_curr = position[1]\n",
    "        \n",
    "        for x_change,y_change in self.directions:\n",
    "            \n",
    "            # get resulting coordinates after change\n",
    "            x_next = self.get_x(x_curr, x_change)\n",
    "            y_next = self.get_y(y_curr, y_change)\n",
    "        \n",
    "            adjacent.add((x_next, y_next))\n",
    "        \n",
    "        return adjacent\n",
    "    \n",
    "    \n",
    "    def get_search_space(self, position, directions_set):\n",
    "        '''\n",
    "        Returns a set of all positions which surround the given position, \n",
    "        representing all moves within the directions set, and \n",
    "        wrapping around the torus grid when necessary.\n",
    "        \n",
    "        For a directions set of diameter 3, there are 48 positions.\n",
    "        For a directions set of diameter 2, there are 24 positions.\n",
    "        For a directions set of diameter 1, there are 8 positions.\n",
    "        '''\n",
    "        \n",
    "        adjacent = set()\n",
    "        \n",
    "        x_curr = position[0]\n",
    "        y_curr = position[1]\n",
    "        \n",
    "        for x_change,y_change in directions_set: \n",
    "                \n",
    "            # get resulting coordinates after change\n",
    "            x_next = self.get_x(x_curr, x_change)\n",
    "            y_next = self.get_y(y_curr, y_change)\n",
    "\n",
    "            adjacent.add((x_next, y_next))\n",
    "        \n",
    "        return adjacent\n",
    "    \n",
    "    \n",
    "    def positions_available(self, unavailable, agents, positioned):\n",
    "        '''\n",
    "        Returns True if there is at least one position \n",
    "        available for each agent not yet positioned.\n",
    "        '''\n",
    "        \n",
    "        num_agents_left = len(agents) - positioned\n",
    "        num_positions_left = self.n * self.n - len(unavailable)\n",
    "        return num_positions_left >= num_agents_left\n",
    "    \n",
    "    \n",
    "    def position_distancing_agents(self, distancing_agents):\n",
    "        '''\n",
    "        Attempts to find unique positions for given list of distancing agents \n",
    "        such that every agent maintains at least one position between itself\n",
    "        and every other agent. \n",
    "        \n",
    "        Returns (True, unavailable) if such a positioning \n",
    "        is found. Returns (False, unavailable) otherwise. \n",
    "        \n",
    "        unavailable is a set containing all positions which \n",
    "        can not be selected for agents.\n",
    "        '''\n",
    "                   \n",
    "        # reset for new attempt\n",
    "        unavailable = set()\n",
    "        num_positioned = 0\n",
    "\n",
    "        for agent in distancing_agents: \n",
    "            \n",
    "            # if there aren't enough available positions left, start over\n",
    "            if not self.positions_available(unavailable, distancing_agents, num_positioned):\n",
    "                return (False, unavailable)           \n",
    "        \n",
    "            # choose available position\n",
    "            position = self.get_random_position(unavailable)\n",
    "            agent.position = position\n",
    "\n",
    "            # update available positions\n",
    "            curr_unavailable = self.get_adj_positions(position) # positions surrounding are not available\n",
    "            curr_unavailable.add(position)                      # position taken is not available\n",
    "            unavailable = unavailable.union(curr_unavailable)   # update full list\n",
    "        \n",
    "            # update counter\n",
    "            num_positioned += 1\n",
    "        \n",
    "        # all agents were positioned successfully\n",
    "        return (True, unavailable)\n",
    "    \n",
    "    \n",
    "    def position_remaining_agents(self, agents, unavailable):\n",
    "        '''\n",
    "        Positions all agents without distancing requirements.\n",
    "        Returns True if agents were positioned successfully,\n",
    "        False otherwise.\n",
    "        '''\n",
    "        \n",
    "        num_positioned = 0\n",
    "        for agent in agents:\n",
    "            \n",
    "            # only continue if there are enough positions left\n",
    "            if not self.positions_available(unavailable, agents, num_positioned):\n",
    "                return False\n",
    "        \n",
    "            # choose available position\n",
    "            position = self.get_random_position(unavailable)\n",
    "            agent.position = position\n",
    "\n",
    "            # update available positions                     \n",
    "            unavailable.add(position)\n",
    "        \n",
    "            # update counter\n",
    "            num_positioned += 1\n",
    "        \n",
    "        # all agents were positioned successfully\n",
    "        return True\n",
    "        \n",
    "\n",
    "    def find_nearby_agents(self, agents, position):\n",
    "        '''\n",
    "        Finds all agents within 3 spaces of this agent in every direction.\n",
    "        This reduces the search space for available positions to only\n",
    "        those agents which may be affected by this agent after a move.\n",
    "        \n",
    "        The diagram above explains why a diameter of 3 is used.\n",
    "        '''\n",
    "        # determine positions within 3 spaces of this agent\n",
    "        search_space = self.get_search_space(position, self.directions_dia_3)\n",
    "        \n",
    "        # find all agents within that search space\n",
    "        nearby = list()\n",
    "        for agent in agents:\n",
    "            if agent.position in search_space:\n",
    "                nearby.append(agent)\n",
    "        \n",
    "        return nearby\n",
    "    \n",
    "    \n",
    "    def remove_position_if_occupied(self, other, avail):\n",
    "        '''\n",
    "        If position of other agent is in available positions,\n",
    "        removes it.\n",
    "        '''\n",
    "        \n",
    "        if other.position in avail:\n",
    "            avail.remove(other.position)\n",
    "     \n",
    "    \n",
    "    def remove_positions_distancing_others(self, other, avail):\n",
    "        '''\n",
    "        If other agent is distancing, removes all positions\n",
    "        adjacent to other agent from available positions.\n",
    "        '''\n",
    "        \n",
    "        # restrictions depend on distancing of agent and other\n",
    "        if other.distancing:\n",
    "            \n",
    "            # all positions within 1 space of other are unavailble\n",
    "            other_adj = self.get_adj_positions(other.position)\n",
    "        \n",
    "            # remove restricted positions\n",
    "            for pos in other_adj:\n",
    "                if pos in avail:\n",
    "                    avail.remove(pos)\n",
    "    \n",
    "    \n",
    "    def remove_positions_distancing_self(self, agent, other, avail):\n",
    "        '''\n",
    "        If this agent is distancing, removes all positions\n",
    "        which would breach distancing due to proximity\n",
    "        of other agent.\n",
    "        '''\n",
    "        \n",
    "        if agent.distancing:\n",
    "            \n",
    "            # all positions within 1 space of other are unavailable\n",
    "            other_adj = self.get_adj_positions(other.position)\n",
    "        \n",
    "            # remove restricted positions\n",
    "            for pos in other_adj:\n",
    "                if pos in avail:\n",
    "                    avail.remove(pos)\n",
    "        \n",
    "           \n",
    "    def get_available_positions(self, agent, agents):\n",
    "        '''\n",
    "        Returns a list of possible positions to which a\n",
    "        given agent can move, given the other agents.\n",
    "        \n",
    "        Constrained by the current position of other agents\n",
    "        and whether another agent is distancing.\n",
    "        \n",
    "        determine which of those positions are:\n",
    "         1 - not occupied\n",
    "         2 - allow this agent to maintain its own distancing boundaries if necessary\n",
    "         3 - outside distancing boundaries of another agent\n",
    "        '''               \n",
    "        # if no nearby agents, all positions available\n",
    "        avail = self.get_adj_positions(agent.position)\n",
    "                \n",
    "        # find all nearby agents\n",
    "        nearby = self.find_nearby_agents(agents, agent.position)\n",
    "\n",
    "        # if there are nearby agents, determine availability\n",
    "        if nearby:\n",
    "\n",
    "            # check moves against each nearby agent\n",
    "            for other in nearby:\n",
    "\n",
    "                # remove occupied positions\n",
    "                self.remove_position_if_occupied(other, avail)\n",
    "                \n",
    "                # remove positions which breach distancing of others\n",
    "                self.remove_positions_distancing_others(other, avail)\n",
    "                \n",
    "                # remove positions which breach distancing of this agent\n",
    "                self.remove_positions_distancing_self(agent,other,avail)\n",
    "                    \n",
    "        return avail      \n",
    "        \n",
    "       \n",
    "    def move_agent(self, agent, positions):\n",
    "        '''\n",
    "        Selects a random position from positions and \n",
    "        updates the agent to be at that location.\n",
    "        \n",
    "        If positions list is empty, does not move\n",
    "        the agent.\n",
    "        '''\n",
    "        if positions:\n",
    "            i = random.randint(0,len(positions)-1) # random index\n",
    "            agent.position = list(positions)[i]     \n",
    "        \n",
    "      \n",
    "    def move_all_agents(self, agents):\n",
    "        '''\n",
    "        Selects and moves each agent in agents.\n",
    "        '''\n",
    "        for agent in agents:\n",
    "            moves = self.get_available_positions(agent, agents)\n",
    "            self.move_agent(agent, moves)\n",
    "            \n",
    "            \n",
    "    def check_position_conflicts(self, agents):\n",
    "        '''\n",
    "        Returns a set of positions which contain\n",
    "        more than one agent.\n",
    "        \n",
    "        Used for testing purposes.\n",
    "        '''\n",
    "        \n",
    "        conflicts = set()\n",
    "        chosen = dict()\n",
    "        for agent in agents:\n",
    "            pos = agent.position\n",
    "            if pos in chosen:\n",
    "                chosen[pos] +=1 # increment value of key by 1\n",
    "            else:\n",
    "                chosen[pos] = 1 # add key to dictionary\n",
    "        \n",
    "        for key in chosen.keys():\n",
    "            if chosen[key] > 1:\n",
    "                conflicts.add(key) # more than 1 Agent here\n",
    "         \n",
    "        return conflicts\n",
    "        \n",
    "        \n",
    "    def check_distancing_conflicts(self, agents):\n",
    "        '''\n",
    "        Returns a set of positions which contain\n",
    "        agents that breach distancing constraints.\n",
    "        \n",
    "        Used for testing purposes.\n",
    "        '''\n",
    "        \n",
    "        conflicts = set()\n",
    "        \n",
    "        for agent in agents:\n",
    "            \n",
    "            if agent.distancing:\n",
    "                                \n",
    "                pos = agent.position\n",
    "                adj = self.get_adj_positions(pos)\n",
    "                \n",
    "                # no other agent should be in an adjacent position\n",
    "                \n",
    "                # Note agent won't conflict with itself because its\n",
    "                # position is not in adj\n",
    "                for each in agents:\n",
    "                    \n",
    "                    # check whether any agent is within the distancing range\n",
    "                    if each.position in adj:\n",
    "                        conflicts.add(each.position)\n",
    "        \n",
    "        return conflicts\n",
    "    \n",
    "    \n",
    "    def position_agents(self, agents):\n",
    "        '''\n",
    "        Positions given agents on n x n grid, following distancing \n",
    "        constraints for distancing agents. Performs multiple \n",
    "        positioning attempts until either a solution is found or\n",
    "        the number of allowed attempts is exhausted.\n",
    "        \n",
    "        Returns True if positioning is found.\n",
    "        \n",
    "        Raises ValueError if no viable positioning is found \n",
    "        after all attempts. \n",
    "        '''\n",
    "\n",
    "        # split agents into distancing and other\n",
    "        distancing_agents, other_agents = self.split_agents(agents)\n",
    "        attempt_counter_outer = 0\n",
    "        all_success = False\n",
    "\n",
    "        # both distancing and other agents must be positioned\n",
    "        while all_success == False:\n",
    "\n",
    "            # reset for next attempt\n",
    "            unavailable = set()\n",
    "            d_success = False\n",
    "            attempt_counter_inner = 0\n",
    "\n",
    "            # attempt to position distancing agents first\n",
    "            while d_success == False:\n",
    "\n",
    "                d_success, unavailable = self.position_distancing_agents(distancing_agents)\n",
    "\n",
    "                attempt_counter_inner += 1\n",
    "                if attempt_counter_inner >= 10:\n",
    "                    raise ValueError('Unable to find positions for all distancing agents')           \n",
    "            \n",
    "            # position remaining agents after successful positioning of distancing agents\n",
    "            all_success = self.position_remaining_agents(other_agents, unavailable)\n",
    "\n",
    "            attempt_counter_outer += 1\n",
    "            if attempt_counter_outer >= 100:\n",
    "                remaining = self.n * self.n - len(unavailable)\n",
    "                raise ValueError('Unable to find positions for other agents:',remaining)\n",
    "\n",
    "        # all agents positioned\n",
    "        return True\n",
    "    \n",
    "    "
   ]
  },
  {
   "cell_type": "markdown",
   "metadata": {},
   "source": [
    "#### Test AgentMover class"
   ]
  },
  {
   "cell_type": "code",
   "execution_count": 308,
   "metadata": {},
   "outputs": [
    {
     "name": "stdout",
     "output_type": "stream",
     "text": [
      "Test position_agents()\n",
      "Agent{position:(11, 10), status:I, mask:True, distancing:True, days_infected:0, asymptomatic:False}\n",
      "Agent{position:(12, 7), status:I, mask:True, distancing:False, days_infected:0, asymptomatic:False}\n",
      "250\n"
     ]
    }
   ],
   "source": [
    "print('Test position_agents()')\n",
    "\n",
    "# success\n",
    "n=25\n",
    "am = AgentMover(n)\n",
    "a1 = Agent((-1,-1), 'I', mask=True, distancing=True)\n",
    "a2 = Agent((-1,-1), 'I', mask=True, distancing=False)\n",
    "agents = [a1,a2]\n",
    "\n",
    "assert am.position_agents(agents) == True\n",
    "for each in agents:\n",
    "    print(each)\n",
    "    assert each.position != (-1,-1)\n",
    "    \n",
    "# failure\n",
    "n=1\n",
    "am = AgentMover(n)\n",
    "a1 = Agent((-1,-1), 'I', mask=True, distancing=True)\n",
    "a2 = Agent((-1,-1), 'I', mask=True, distancing=False)\n",
    "agents = [a1,a2]\n",
    "\n",
    "try:\n",
    "    am.position_agents(agents)\n",
    "    assert False\n",
    "except ValueError:\n",
    "    assert True\n",
    "    \n",
    "# try with full number of Agents with no distancing\n",
    "n=25\n",
    "am = AgentMover(n)\n",
    "agents = [Agent((-1,-1), 'I', mask=True, distancing=False) for i in range(250)]\n",
    "print(len(agents))\n",
    "result = am.position_agents(agents)\n",
    "assert result == True\n",
    "for each in agents:\n",
    "    assert each.position != (-1,-1)\n",
    "    \n",
    "# try with 10% distancing\n",
    "n=25\n",
    "am = AgentMover(n)\n",
    "ag = AgentGenerator(250,10,0.1,0.35,0.45)\n",
    "agents = ag.generate_agents()\n",
    "result = am.position_agents(agents)\n",
    "assert result == True\n",
    "for each in agents:\n",
    "    assert each.position != (-1,-1)\n",
    "    \n",
    "# try with 50% distancing\n",
    "n=25\n",
    "am = AgentMover(n)\n",
    "ag = AgentGenerator(250,10,0.20,0.35,0.45)\n",
    "agents = ag.generate_agents()\n",
    "result = am.position_agents(agents)\n",
    "assert result == True\n",
    "for each in agents:\n",
    "    assert each.position != (-1,-1)"
   ]
  },
  {
   "cell_type": "code",
   "execution_count": 309,
   "metadata": {},
   "outputs": [
    {
     "name": "stdout",
     "output_type": "stream",
     "text": [
      "Test get_random_position()\n"
     ]
    }
   ],
   "source": [
    "print('Test get_random_position()')\n",
    "n=25\n",
    "am = AgentMover(n)\n",
    "\n",
    "selected = list()\n",
    "position = am.get_random_position(selected)\n",
    "\n",
    "# check if position is within n x n grid\n",
    "assert position[0] >= 0\n",
    "assert position[0] < n\n",
    "assert position[1] >= 0\n",
    "assert position[1] < n\n",
    "\n",
    "# check if position has been taken already\n",
    "# create list with all positions taken except (0,0)\n",
    "selected = [(i,j) for i in range(n) for j in range(n) if (i,j) != (0,0) ]\n",
    "position = am.get_random_position(selected)\n",
    "assert position == (0,0)"
   ]
  },
  {
   "cell_type": "code",
   "execution_count": 310,
   "metadata": {},
   "outputs": [
    {
     "name": "stdout",
     "output_type": "stream",
     "text": [
      "Test split_agents()\n"
     ]
    }
   ],
   "source": [
    "print('Test split_agents()')\n",
    "n=25\n",
    "am = AgentMover(n)\n",
    "\n",
    "a1 = Agent((1,2), 'I', mask=True, distancing=True)\n",
    "a2 = Agent((1,2), 'I', mask=True, distancing=True)\n",
    "a3 = Agent((1,2), 'R', mask=True, distancing=False)\n",
    "a4 = Agent((1,2), 'R', mask=True, distancing=False)\n",
    "a5 = Agent((1,2), 'R', mask=True, distancing=False)\n",
    "\n",
    "distancing_agents, other_agents = am.split_agents([a1,a2,a3,a4,a5])\n",
    "\n",
    "for agent in distancing_agents:\n",
    "    assert agent.status == 'I'\n",
    "    \n",
    "for agent in other_agents:\n",
    "    assert agent.status == 'R'\n",
    "    \n",
    "assert len(distancing_agents) == 2\n",
    "assert len(other_agents) == 3"
   ]
  },
  {
   "cell_type": "code",
   "execution_count": 311,
   "metadata": {},
   "outputs": [
    {
     "name": "stdout",
     "output_type": "stream",
     "text": [
      "Test get_x()\n"
     ]
    }
   ],
   "source": [
    "print('Test get_x()')\n",
    "\n",
    "n=25\n",
    "am = AgentMover(n)\n",
    "\n",
    "# move 1 space\n",
    "assert am.get_x(0,-1) == n-1\n",
    "assert am.get_x(0,1) == 1\n",
    "assert am.get_x(n-1,1) == 0\n",
    "\n",
    "# move 2 spaces\n",
    "assert am.get_x(0,-2) == n-2\n",
    "assert am.get_x(0,2) == 2\n",
    "assert am.get_x(n-1,2) == 1"
   ]
  },
  {
   "cell_type": "code",
   "execution_count": 312,
   "metadata": {},
   "outputs": [
    {
     "name": "stdout",
     "output_type": "stream",
     "text": [
      "Test get_y()\n"
     ]
    }
   ],
   "source": [
    "print('Test get_y()')\n",
    "\n",
    "n=25\n",
    "am = AgentMover(n)\n",
    "\n",
    "# move 1 space\n",
    "assert am.get_y(0,-1) == n-1\n",
    "assert am.get_y(0,1) == 1\n",
    "assert am.get_y(n-1,1) == 0\n",
    "\n",
    "# move 2 spaces\n",
    "assert am.get_y(0,-2) == n-2\n",
    "assert am.get_y(0,2) == 2\n",
    "assert am.get_y(n-1,2) == 1"
   ]
  },
  {
   "cell_type": "code",
   "execution_count": 313,
   "metadata": {
    "scrolled": true
   },
   "outputs": [
    {
     "name": "stdout",
     "output_type": "stream",
     "text": [
      "Test get_adj_positions()\n",
      "{(0, 1), (1, 2), (2, 1), (0, 0), (2, 0), (0, 2), (2, 2), (1, 0)}\n",
      "{(0, 23), (23, 23), (24, 23), (0, 0), (23, 0), (24, 0), (0, 24), (23, 24)}\n",
      "{(0, 23), (24, 23), (0, 0), (1, 24), (24, 0), (1, 23), (1, 0), (24, 24)}\n",
      "{(0, 1), (23, 1), (24, 1), (0, 0), (23, 0), (0, 24), (23, 24), (24, 24)}\n",
      "{(0, 1), (24, 1), (1, 24), (1, 1), (24, 0), (1, 0), (0, 24), (24, 24)}\n"
     ]
    }
   ],
   "source": [
    "print('Test get_adj_positions()')\n",
    "\n",
    "n=25\n",
    "am = AgentMover(n)\n",
    "\n",
    "# non-edge position\n",
    "current_position = (1,1)\n",
    "adjacent_correct = [(0,0),(0,1),(0,2),\n",
    "                    (1,0),(1,2),\n",
    "                    (2,0),(2,1),(2,2)]\n",
    "adjacent = am.get_adj_positions(current_position)\n",
    "print(adjacent)\n",
    "for each in adjacent_correct:    \n",
    "    assert each in adjacent, str(each) + ' is missing from result.'\n",
    "\n",
    "\n",
    "# lower right corner\n",
    "current_position = (24,24)\n",
    "adjacent_correct = [(23,0),(23,23),(23,24),\n",
    "                    (24,0),(24,23),\n",
    "                    (0,0),(0,23),(0,24)]\n",
    "adjacent = am.get_adj_positions(current_position)\n",
    "print(adjacent)\n",
    "for each in adjacent_correct:    \n",
    "    assert each in adjacent, str(each) + ' is missing from result.'\n",
    "\n",
    "# upper right corner\n",
    "current_position = (0,24)\n",
    "adjacent_correct = [(24,0),(24,23),(24,24),\n",
    "                    (0,0),(0,23),\n",
    "                    (1,0),(1,23),(1,24)]\n",
    "adjacent = am.get_adj_positions(current_position)\n",
    "print(adjacent)\n",
    "for each in adjacent_correct:    \n",
    "    assert each in adjacent, str(each) + ' is missing from result.'\n",
    "\n",
    "# lower left corner\n",
    "current_position = (24,0)\n",
    "adjacent_correct = [(23,0),(23,1),(23,24),\n",
    "                    (24,1),(24,24),\n",
    "                    (0,0),(0,1),(0,24)]\n",
    "adjacent = am.get_adj_positions(current_position)\n",
    "print(adjacent)\n",
    "for each in adjacent_correct:    \n",
    "    assert each in adjacent, str(each) + ' is missing from result.'\n",
    "\n",
    "# upper left corner\n",
    "current_position = (0,0)\n",
    "adjacent_correct = [(24,0),(24,1),(24,24),\n",
    "                    (0,1),(0,24),\n",
    "                    (1,0),(1,1),(1,24)]\n",
    "adjacent = am.get_adj_positions(current_position)\n",
    "print(adjacent)\n",
    "for each in adjacent_correct:    \n",
    "    assert each in adjacent, str(each) + ' is missing from result.'"
   ]
  },
  {
   "cell_type": "code",
   "execution_count": 314,
   "metadata": {},
   "outputs": [
    {
     "name": "stdout",
     "output_type": "stream",
     "text": [
      "Test positions_available()\n"
     ]
    }
   ],
   "source": [
    "print('Test positions_available()')\n",
    "\n",
    "n=1\n",
    "am = AgentMover(n)\n",
    "a1 = Agent((-1,-1), 'I', mask=True, distancing=True)\n",
    "unavailable = set()\n",
    "\n",
    "# (unavailable, agents, positioned)\n",
    "assert am.positions_available(unavailable,[a1],0) == True \n",
    "\n",
    "unavailable.add(1)\n",
    "assert am.positions_available(unavailable,[a1],0) == False\n"
   ]
  },
  {
   "cell_type": "code",
   "execution_count": 315,
   "metadata": {},
   "outputs": [
    {
     "name": "stdout",
     "output_type": "stream",
     "text": [
      "Test position_distancing_agents()\n"
     ]
    }
   ],
   "source": [
    "print('Test position_distancing_agents()')\n",
    "\n",
    "# only possible to place one agent\n",
    "n=3\n",
    "am = AgentMover(n)\n",
    "agents = [Agent((-1,-1), 'I', mask=True, distancing=True) for i in range(2)]\n",
    "result, unavailable = am.position_distancing_agents(agents)\n",
    "assert result == False\n",
    "\n",
    "\n",
    "# multiple agents can be placed\n",
    "n=25\n",
    "am = AgentMover(n)\n",
    "agents = [Agent((-1,-1), 'I', mask=True, distancing=True) for i in range(2)]\n",
    "result, unavailable = am.position_distancing_agents(agents)\n",
    "assert result == True\n"
   ]
  },
  {
   "cell_type": "code",
   "execution_count": 316,
   "metadata": {},
   "outputs": [
    {
     "name": "stdout",
     "output_type": "stream",
     "text": [
      "Test position_remaining_agents()\n"
     ]
    }
   ],
   "source": [
    "print('Test position_remaining_agents()')\n",
    "\n",
    "n=1\n",
    "am = AgentMover(n)\n",
    "\n",
    "a1 = Agent((-1,-1), 'I', mask=True, distancing=False)\n",
    "a2 = Agent((-1,-1), 'I', mask=True, distancing=False)\n",
    "\n",
    "unavailable = set()\n",
    "\n",
    "assert am.position_remaining_agents([a1],unavailable) == True\n",
    "\n",
    "\n",
    "unavailable.add((0,0))\n",
    "assert am.position_remaining_agents([a1],unavailable) == False"
   ]
  },
  {
   "cell_type": "code",
   "execution_count": 317,
   "metadata": {},
   "outputs": [
    {
     "name": "stdout",
     "output_type": "stream",
     "text": [
      "Test get_search_space()\n"
     ]
    }
   ],
   "source": [
    "print('Test get_search_space()')\n",
    "n=25\n",
    "am = AgentMover(n)\n",
    "   \n",
    "\n",
    "# test 3 diameter, no wrap\n",
    "position = (5,5)\n",
    "\n",
    "expected = [(2, 2),(2, 3),(2, 4),(2, 5),(2, 6),(2, 7),(2, 8),\n",
    "            (3, 2),(3, 3),(3, 4),(3, 5),(3, 6),(3, 7),(3, 8),\n",
    "            (4, 2),(4, 3),(4, 4),(4, 5),(4, 6),(4, 7),(4, 8),\n",
    "            (5, 2),(5, 3),(5, 4),       (5, 6),(5, 7),(5, 8),\n",
    "            (6, 2),(6, 3),(6, 4),(6, 5),(6, 6),(6, 7),(6, 8),\n",
    "            (7, 2),(7, 3),(7, 4),(7, 5),(7, 6),(7, 7),(7, 8),\n",
    "            (8, 2),(8, 3),(8, 4),(8, 5),(8, 6),(8, 7),(8, 8)]\n",
    "actual = am.get_search_space(position,am.directions_dia_3)\n",
    "for each in expected:\n",
    "    assert each in actual, 'missing ' + str(each)\n",
    "    \n",
    "    \n",
    "# test 3 diameter, wrap\n",
    "position = (0,0)\n",
    "\n",
    "expected = [       (0, 1),(0, 2),(0, 3),       (0, 22),(0, 23),(0, 24),\n",
    "            (1, 0),(1, 1),(1, 2),(1, 3),       (1, 22),(1, 23),(1, 24),\n",
    "            (2, 0),(2, 1),(2, 2),(2, 3),       (2, 22),(2, 23),(2, 24),\n",
    "            (3, 0),(3, 1),(3, 2),(3, 3),       (3, 22),(3, 23),(3, 24),\n",
    "            \n",
    "            (22, 0),(22, 1),(22, 2),(22, 3),   (22, 22),(22, 23),(22, 24),\n",
    "            (23, 0),(23, 1),(23, 2),(23, 3),   (23, 22),(23, 23),(23, 24),\n",
    "            (24, 0),(24, 1),(24, 2),(24, 3),   (24, 22),(24, 23),(24, 24)]\n",
    "\n",
    "actual = am.get_search_space(position,am.directions_dia_3)\n",
    "for each in expected:\n",
    "    assert each in actual, 'missing ' + str(each)\n",
    "    \n"
   ]
  },
  {
   "cell_type": "code",
   "execution_count": 318,
   "metadata": {},
   "outputs": [
    {
     "name": "stdout",
     "output_type": "stream",
     "text": [
      "Test find_nearby_agents()\n",
      "[]\n",
      "\n",
      "Agent{position:(6, 6), status:I, mask:True, distancing:False, days_infected:0, asymptomatic:False}\n",
      "\n",
      "Agent{position:(6, 6), status:I, mask:True, distancing:False, days_infected:0, asymptomatic:False}\n",
      "Agent{position:(6, 7), status:I, mask:True, distancing:False, days_infected:0, asymptomatic:False}\n",
      "\n",
      "Agent{position:(24, 24), status:I, mask:True, distancing:False, days_infected:0, asymptomatic:True}\n",
      "Agent{position:(23, 23), status:I, mask:True, distancing:False, days_infected:0, asymptomatic:False}\n",
      "Agent{position:(22, 22), status:I, mask:True, distancing:False, days_infected:0, asymptomatic:False}\n",
      "\n"
     ]
    }
   ],
   "source": [
    "print('Test find_nearby_agents()')\n",
    "n=25\n",
    "am = AgentMover(n)\n",
    "position = (5,5)\n",
    "\n",
    "# no agent nearby\n",
    "a1 = Agent((1,1), 'I', mask=True, distancing=False)\n",
    "result = am.find_nearby_agents([a1], position)\n",
    "assert len(result) == 0\n",
    "print(result)\n",
    "print()\n",
    "\n",
    "# one agent nearby\n",
    "a2 = Agent((6,6), 'I', mask=True, distancing=False)\n",
    "result = am.find_nearby_agents([a1,a2], position)\n",
    "assert len(result) == 1\n",
    "for each in result:\n",
    "    print(each)\n",
    "print()\n",
    "\n",
    "# two agents nearby\n",
    "a3 = Agent((6,7), 'I', mask=True, distancing=False)\n",
    "result = am.find_nearby_agents([a1,a2,a3], position)\n",
    "assert len(result) == 2\n",
    "for each in result:\n",
    "    print(each)\n",
    "print()\n",
    "    \n",
    "# three agents nearby, wrapped\n",
    "position = (0,0)\n",
    "a4 = Agent((24,24), 'I', mask=True, distancing=False)\n",
    "a5 = Agent((23,23), 'I', mask=True, distancing=False)\n",
    "a6 = Agent((22,22), 'I', mask=True, distancing=False)\n",
    "result = am.find_nearby_agents([a4,a5,a6], position)\n",
    "assert len(result) == 3\n",
    "for each in result:\n",
    "    print(each)\n",
    "print()"
   ]
  },
  {
   "cell_type": "code",
   "execution_count": 319,
   "metadata": {},
   "outputs": [
    {
     "name": "stdout",
     "output_type": "stream",
     "text": [
      "Test remove_position_if_occupied()\n"
     ]
    }
   ],
   "source": [
    "print('Test remove_position_if_occupied()')\n",
    "n=25\n",
    "am = AgentMover(n)\n",
    "available = [(0,0),(1,1)]\n",
    "\n",
    "# attempt where agent is in available\n",
    "a1 = Agent((0,0), 'I', mask=True, distancing=True)\n",
    "am.remove_position_if_occupied(a1, available)\n",
    "\n",
    "assert (0,0) not in available\n",
    "\n",
    "# attempt where position not in available\n",
    "a2 = Agent((1,0), 'I', mask=True, distancing=True)\n",
    "am.remove_position_if_occupied(a2, available)\n",
    "\n",
    "assert len(available) == 1\n"
   ]
  },
  {
   "cell_type": "code",
   "execution_count": 320,
   "metadata": {},
   "outputs": [
    {
     "name": "stdout",
     "output_type": "stream",
     "text": [
      "Test remove_positions_distancing_others()\n"
     ]
    }
   ],
   "source": [
    "print('Test remove_positions_distancing_others()')\n",
    "\n",
    "n=25\n",
    "am = AgentMover(n)\n",
    "a1 = Agent((5,5), 'I', mask=True, distancing=False)\n",
    "available = [(4, 4), (4, 5), (4, 6), \n",
    "             (5, 4),         (5, 6), \n",
    "             (6, 4), (6, 5), (6, 6)]\n",
    "\n",
    "\n",
    "\n",
    "# other agent not distancing\n",
    "a3 = Agent((3,4), 'I', mask=True, distancing=False)\n",
    "am.remove_positions_distancing_others(a3, available)\n",
    "assert len(available) == 8\n",
    "\n",
    "\n",
    "# other agent distancing\n",
    "a2 = Agent((3,4), 'I', mask=True, distancing=True)\n",
    "removed = [(4, 4), (4, 5)]\n",
    "\n",
    "am.remove_positions_distancing_others(a2, available)\n",
    "for each in removed:\n",
    "    assert each not in available"
   ]
  },
  {
   "cell_type": "code",
   "execution_count": 321,
   "metadata": {},
   "outputs": [
    {
     "name": "stdout",
     "output_type": "stream",
     "text": [
      "Test remove_positions_distancing_self()\n"
     ]
    }
   ],
   "source": [
    "print('Test remove_positions_distancing_self()')\n",
    "\n",
    "n=25\n",
    "am = AgentMover(n)\n",
    "a1 = Agent((5,5), 'I', mask=True, distancing=True)\n",
    "available = [(4, 4), (4, 5), (4, 6), \n",
    "             (5, 4),         (5, 6), \n",
    "             (6, 4), (6, 5), (6, 6)]\n",
    "\n",
    "\n",
    "\n",
    "# other agent not distancing\n",
    "a3 = Agent((4,8), 'I', mask=True, distancing=False)\n",
    "am.remove_positions_distancing_self(a1, a3, available)\n",
    "assert len(available) == 8\n",
    "\n",
    "\n",
    "# other agent distancing\n",
    "a2 = Agent((3,4), 'I', mask=True, distancing=False)\n",
    "removed = [(4, 4), (4, 5)]\n",
    "\n",
    "am.remove_positions_distancing_self(a1, a2, available)\n",
    "for each in removed:\n",
    "    assert each not in available"
   ]
  },
  {
   "cell_type": "code",
   "execution_count": 322,
   "metadata": {},
   "outputs": [
    {
     "name": "stdout",
     "output_type": "stream",
     "text": [
      "Test get_available_positions()\n"
     ]
    }
   ],
   "source": [
    "print('Test get_available_positions()')\n",
    "\n",
    "n=25\n",
    "am = AgentMover(n)\n",
    "a1 = Agent((5,5), 'I', mask=True, distancing=False)\n",
    "expected = [(4, 4), (4, 5), (4, 6), \n",
    "            (5, 4),         (5, 6), \n",
    "            (6, 4), (6, 5), (6, 6)]\n",
    "\n",
    "# no nearby agents\n",
    "a2 = Agent((0,0), 'I', mask=True, distancing=False)\n",
    "available = am.get_available_positions(a1, [a2])\n",
    "assert len(available)==8\n",
    "\n",
    "\n",
    "# 1 agent occupies possible move\n",
    "a2 = Agent((4,4), 'I', mask=True, distancing=False)\n",
    "available = am.get_available_positions(a1, [a2])\n",
    "assert (4,4) not in available\n",
    "\n",
    "# 2 agents occupy possible moves\n",
    "a3 = Agent((6,6), 'I', mask=True, distancing=False)\n",
    "available = am.get_available_positions(a1, [a2,a3])\n",
    "assert (4,4) not in available and (6,6) not in available\n",
    "\n",
    "# 1 other agent distancing\n",
    "a4 = Agent((3,4), 'I', mask=True, distancing=True)\n",
    "available = am.get_available_positions(a1, [a4])\n",
    "assert (4,4) not in available and (4,5) not in available\n",
    "\n",
    "# this agent distancing\n",
    "a5 = Agent((3,4), 'I', mask=True, distancing=False)\n",
    "a1.distancing = True\n",
    "available = am.get_available_positions(a1, [a5])\n",
    "assert (4,4) not in available and (4,5) not in available\n",
    "\n",
    "# all spaces restricted\n",
    "a6 = Agent((3,4), 'I', mask=True, distancing=True)\n",
    "a7 = Agent((4,7), 'I', mask=True, distancing=True)\n",
    "a8 = Agent((7,6), 'I', mask=True, distancing=True)\n",
    "a9 = Agent((6,3), 'I', mask=True, distancing=True)\n",
    "available = am.get_available_positions(a1, [a6,a7,a8,a9])\n",
    "assert len(available) == 0\n"
   ]
  },
  {
   "cell_type": "code",
   "execution_count": 323,
   "metadata": {},
   "outputs": [
    {
     "name": "stdout",
     "output_type": "stream",
     "text": [
      "Test move_agent()\n"
     ]
    }
   ],
   "source": [
    "print('Test move_agent()')\n",
    "\n",
    "n=25\n",
    "am = AgentMover(n)\n",
    "a1 = Agent((1,2), 'I', mask=True, distancing=True)\n",
    "\n",
    "# no movement because list is empty\n",
    "am.move_agent(a1, [])\n",
    "\n",
    "assert a1.position == (1,2)\n",
    "\n",
    "\n",
    "# movement to only available position\n",
    "am.move_agent(a1, [(1,1)])\n",
    "\n",
    "assert a1.position == (1,1)\n",
    "\n",
    "\n",
    "# movement to random available position\n",
    "pos = [(1,1),(1,3),(2,2)]\n",
    "\n",
    "num = 10000\n",
    "counter = 0\n",
    "for i in range(num):\n",
    "    am.move_agent(a1, pos)\n",
    "    if a1.position == (2,2):\n",
    "        counter += 1\n",
    "assert round(counter/num,2) == 0.33, 'rate ' + str(round(counter/num,2)) + ' is not 0.33'"
   ]
  },
  {
   "cell_type": "code",
   "execution_count": 324,
   "metadata": {},
   "outputs": [
    {
     "name": "stdout",
     "output_type": "stream",
     "text": [
      "Test check_position_conflicts()\n"
     ]
    }
   ],
   "source": [
    "print('Test check_position_conflicts()')\n",
    "\n",
    "n=25\n",
    "am = AgentMover(n)\n",
    "\n",
    "a1 = Agent((5,5), 'I', mask=True, distancing=True)\n",
    "a2 = Agent((0,0), 'I', mask=True, distancing=True)\n",
    "\n",
    "conflicts = am.check_position_conflicts([a1,a2])\n",
    "assert len(conflicts) == 0\n",
    "\n",
    "\n",
    "a1 = Agent((5,5), 'I', mask=True, distancing=True)\n",
    "a2 = Agent((5,5), 'I', mask=True, distancing=True)\n",
    "\n",
    "conflicts = am.check_position_conflicts([a1,a2])\n",
    "assert (5,5) in conflicts"
   ]
  },
  {
   "cell_type": "code",
   "execution_count": 325,
   "metadata": {},
   "outputs": [
    {
     "name": "stdout",
     "output_type": "stream",
     "text": [
      "Test check_distancing_conflicts()\n",
      "{(4, 4), (5, 5)}\n"
     ]
    }
   ],
   "source": [
    "print('Test check_distancing_conflicts()')\n",
    "\n",
    "n=25\n",
    "am = AgentMover(n)\n",
    "\n",
    "a1 = Agent((1,1), 'I', mask=True, distancing=True)\n",
    "a2 = Agent((5,5), 'I', mask=True, distancing=True)\n",
    "\n",
    "# not within distancing constraints\n",
    "conflicts = am.check_distancing_conflicts([a1,a2])\n",
    "assert len(conflicts) == 0\n",
    "\n",
    "# within distancing constraints\n",
    "a1.position = (4,4)\n",
    "conflicts = am.check_distancing_conflicts([a1,a2])\n",
    "assert (4,4) in conflicts and (5,5) in conflicts\n",
    "print(conflicts)"
   ]
  },
  {
   "cell_type": "code",
   "execution_count": 326,
   "metadata": {},
   "outputs": [
    {
     "name": "stdout",
     "output_type": "stream",
     "text": [
      "Test move_all_agents()\n",
      "Agent{position:(2, 4), status:I, mask:True, distancing:True, days_infected:0, asymptomatic:False}\n",
      "Agent{position:(3, 7), status:I, mask:True, distancing:True, days_infected:0, asymptomatic:False}\n",
      "Agent{position:(6, 2), status:I, mask:True, distancing:True, days_infected:0, asymptomatic:False}\n",
      "Agent{position:(4, 5), status:I, mask:True, distancing:True, days_infected:0, asymptomatic:False}\n",
      "Agent{position:(8, 6), status:I, mask:True, distancing:True, days_infected:0, asymptomatic:False}\n"
     ]
    }
   ],
   "source": [
    "print('Test move_all_agents()')\n",
    "\n",
    "n=25\n",
    "am = AgentMover(n)\n",
    "\n",
    "# example where there is no conflict for two agents\n",
    "a1 = Agent((5,5), 'I', mask=True, distancing=True)\n",
    "a2 = Agent((0,0), 'I', mask=True, distancing=True)\n",
    "\n",
    "available_a1 = [(4, 4), (4, 5), (4, 6), \n",
    "                (5, 4),         (5, 6), \n",
    "                (6, 4), (6, 5), (6, 6)]\n",
    "\n",
    "available_a2 = [        (0, 1),      (0, 24), \n",
    "                (1, 0), (1, 1),      (1, 24), \n",
    "                \n",
    "                (24, 0), (24, 1),    (24, 24)]\n",
    "\n",
    "am.move_all_agents([a1,a2])\n",
    "assert a1.position in available_a1\n",
    "assert a2.position in available_a2\n",
    "\n",
    "\n",
    "# example where this is potential conflict for two agents\n",
    "\n",
    "a1.position = (5,5)\n",
    "a6 = Agent((3,4), 'I', mask=True, distancing=True)\n",
    "a7 = Agent((4,7), 'I', mask=True, distancing=True)\n",
    "a8 = Agent((7,6), 'I', mask=True, distancing=True)\n",
    "a9 = Agent((7,3), 'I', mask=True, distancing=True)\n",
    "\n",
    "agents = [a1,a6,a7,a8,a9]\n",
    "\n",
    "# check a large number of iterations\n",
    "# randomize order in list so different agents are moved first each time\n",
    "for i in range(1000):\n",
    "    \n",
    "    # reset positions\n",
    "    a1.position = (5,5)\n",
    "    a6.position = (3,4)\n",
    "    a7.position = (4,7)\n",
    "    a8.position = (7,6)\n",
    "    a9.position = (7,3)\n",
    "    \n",
    "    # randomize order\n",
    "    random.shuffle(agents) \n",
    "    am.move_all_agents(agents)\n",
    "\n",
    "    # check that no agents are in the same position\n",
    "    conflicts_pos = am.check_position_conflicts(agents)\n",
    "    assert len(conflicts_pos) == 0\n",
    "        \n",
    "    # check that no agents breach distancing\n",
    "    conflicts_dist = am.check_distancing_conflicts(agents)\n",
    "    assert len(conflicts_dist) == 0\n",
    "\n",
    "# print last iteration positions for visual check\n",
    "for each in agents:\n",
    "    print(each)"
   ]
  },
  {
   "cell_type": "code",
   "execution_count": 327,
   "metadata": {},
   "outputs": [
    {
     "name": "stdout",
     "output_type": "stream",
     "text": [
      "All tests pass for AgentMover class.\n"
     ]
    }
   ],
   "source": [
    "print('All tests pass for AgentMover class.')"
   ]
  },
  {
   "cell_type": "markdown",
   "metadata": {},
   "source": [
    "#### Define ABM class"
   ]
  },
  {
   "cell_type": "code",
   "execution_count": 26,
   "metadata": {},
   "outputs": [],
   "source": [
    "class ABM:\n",
    "    '''\n",
    "    Defines the functionality for building and managing \n",
    "    an agent-based model which simulates a SRI model \n",
    "    over discrete time steps. Also defines functionality\n",
    "    for capturing metrics for each time step.\n",
    "    \n",
    "    Fields:\n",
    "    \n",
    "        agents:          a list of Agents currently alive in the model\n",
    "        \n",
    "        counts:          a list of dictionaries, where each dictionary \n",
    "                         represents the metrics gathered for a single time step\n",
    "    \n",
    "        m:               the number of Agents in the model\n",
    "    \n",
    "        n:               the dimension of the square torus grid\n",
    "                         used to define the world in which Agents\n",
    "                         move\n",
    "           \n",
    "        num_dead:        the number of Agents which have died and have been\n",
    "                         removed from the model by the current time step\n",
    "           \n",
    "        num_infected:    the number of Agents which have \n",
    "                         an infected status in the current time step\n",
    "                      \n",
    "        num_quarantined: the number of Agents which have a quarantine \n",
    "                         status in the current time step\n",
    "                      \n",
    "        num_recovered:   the number of Agents which have a\n",
    "                         recovered status in the current time step\n",
    "                      \n",
    "        num_susceptible: the number of Agents which have a susceptible\n",
    "                         status in the current time step\n",
    "        \n",
    "       status_colors:    defines the colors used for Agent \n",
    "                         statuses while debugging\n",
    "    '''\n",
    "\n",
    "\n",
    "    status_colors = {'R': 'r', 'S': 'b', 'I': 'g', 'Q': 'k', 'D': 'm'}\n",
    "\n",
    "    def __init__(self, n, m, num_infected, percent_distancing, percent_mask, percent_vaccinated = 0.0):\n",
    "        self.n = n\n",
    "        self.m = m\n",
    "        \n",
    "        # validate\n",
    "        if m > n*n: \n",
    "            raise ValueError('n x n grid cannot hold all agents')\n",
    "\n",
    "        # generate agents\n",
    "        ag = AgentGenerator(self.m, num_infected, percent_distancing, percent_mask, percent_vaccinated)\n",
    "        self.agents = ag.generate_agents()\n",
    "        \n",
    "        # position agents\n",
    "        am = AgentMover(self.n)\n",
    "        am.position_agents(self.agents)\n",
    "        \n",
    "        # set baseline metrics\n",
    "        self.counts = []\n",
    "        self.num_recovered = 0\n",
    "        self.num_infected = 0\n",
    "        self.num_susceptible = 0 \n",
    "        self.num_dead = 0       \n",
    "        self.num_quarantine = 0\n",
    "        \n",
    "   \n",
    "    def count_baseline_metrics(self):\n",
    "        '''\n",
    "        Counts current values for baseline metrics.\n",
    "        '''\n",
    "        for agent in self.agents:\n",
    "            if agent.status == 'I':\n",
    "                self.num_infected += 1\n",
    "            elif agent.status == 'S':\n",
    "                self.num_susceptible += 1\n",
    "            elif agent.status == 'R':\n",
    "                self.num_recovered += 1\n",
    "            elif agent.status == 'Q':\n",
    "                self.num_quarantine += 1\n",
    "                \n",
    "                \n",
    "    def update_baseline_metrics(self, status_before, status_after):\n",
    "        '''\n",
    "        Given the status before and after an Agent update, \n",
    "        modifies the metrics stored in the ABM model as necessary.\n",
    "        '''\n",
    "        \n",
    "        if status_before != status_after:\n",
    "            \n",
    "            # remove one from status_before\n",
    "            if status_before == 'I':\n",
    "                self.num_infected -= 1\n",
    "            elif status_before == 'S':\n",
    "                self.num_susceptible -= 1\n",
    "            elif status_before == 'R':\n",
    "                self.num_recovered -= 1\n",
    "            elif status_before == 'Q':\n",
    "                self.num_quarantine -= 1\n",
    "            \n",
    "            # add one to status_after\n",
    "            if status_after == 'I':\n",
    "                self.num_infected += 1\n",
    "            elif status_after == 'S':\n",
    "                self.num_susceptible += 1\n",
    "            elif status_after == 'R':\n",
    "                self.num_recovered += 1\n",
    "            elif status_after == 'Q':\n",
    "                self.num_quarantine += 1\n",
    "                \n",
    "         \n",
    "        \n",
    "    def remove_agent(self, agent):\n",
    "        '''\n",
    "        Remove agent from simulation if agent has died\n",
    "        and increments num_dead by 1.\n",
    "        '''\n",
    "        self.agents.remove(agent)\n",
    "        self.num_dead += 1\n",
    "      \n",
    "    \n",
    "    def add_counts(self):\n",
    "        '''\n",
    "        Generates a dictionary of the current metrics and adds\n",
    "        the dictionary to the list of counts.\n",
    "        '''\n",
    "        counts = {'R': self.num_recovered, 'D': self.num_dead, 'I': self.num_infected, 'S': self.num_susceptible, 'Q': self.num_quarantine}\n",
    "        self.counts.append(counts)       \n",
    "            \n",
    "    \n",
    "    def get_adj_agents(self, agent):\n",
    "        '''\n",
    "        Returns a list of other Agents which are within\n",
    "        1 position of this Agent.\n",
    "        '''\n",
    "        \n",
    "        nearby = []\n",
    "        \n",
    "        am = AgentMover(self.n)\n",
    "        positions = am.get_adj_positions(agent.position)\n",
    "\n",
    "        for each in self.agents:\n",
    "            if each.position in positions:\n",
    "                nearby.append(each) # found one\n",
    "    \n",
    "        return nearby\n",
    "            \n",
    "    \n",
    "        \n",
    "    def run_simulation(self, num_steps):\n",
    "        '''\n",
    "        Runs simulation for specified number of time steps, \n",
    "        recording a metric count after each step.\n",
    "        \n",
    "        Returns the counts list after completion.\n",
    "        '''\n",
    "        \n",
    "        self.count_baseline_metrics()\n",
    "        self.add_counts() \n",
    "        am = AgentMover(self.n)\n",
    "        \n",
    "        # update agents and metrics for each time step\n",
    "        for t in range(num_steps):\n",
    "            \n",
    "            # update agent properties\n",
    "            for agent in self.agents:\n",
    "                \n",
    "                if agent.has_died():\n",
    "                    self.remove_agent(agent)\n",
    "                else:\n",
    "                    adj = self.get_adj_agents(agent)\n",
    "                    before = agent.status\n",
    "                    agent.update_agent(adj)\n",
    "                    after = agent.status\n",
    "                    self.update_baseline_metrics(before,after)\n",
    "            \n",
    "            # move all agents\n",
    "            am.move_all_agents(self.agents)\n",
    "\n",
    "            # capture metrics after every time step   \n",
    "            self.add_counts() \n",
    "\n",
    "        return self.counts\n",
    "    \n",
    "\n",
    "    def run_and_visualize_simulation(self, num_steps):\n",
    "        \"\"\"\n",
    "        Helper function for debugging. \n",
    "\n",
    "        \"\"\"\n",
    "\n",
    "        fig = plt.figure()\n",
    "        ax = fig.add_subplot(1,1,1)\n",
    "\n",
    "        for t in range(num_steps):\n",
    "            ax.cla()\n",
    "\n",
    "            for agent in self.agents:\n",
    "                c = self.status_colors[agent.status]\n",
    "                m = 'o' if agent.distancing else 's'\n",
    "\n",
    "                ax.scatter(agent.position[0], agent.position[1], c=c, marker=m)\n",
    "                \n",
    "                        \n",
    "            am = AgentMover(self.n)\n",
    "            am.move_all_agents(self.agents)\n",
    "\n",
    "            ax.grid(True)\n",
    "            ax.set_xticks(list(range(self.n)))\n",
    "            ax.set_yticks(list(range(self.n)))  \n",
    "\n",
    "            display(fig)\n",
    "            clear_output(wait=True)\n",
    "\n",
    "            plt.pause(5)    \n",
    "    \n",
    "        "
   ]
  },
  {
   "cell_type": "markdown",
   "metadata": {},
   "source": [
    "#### Test ABM class"
   ]
  },
  {
   "cell_type": "code",
   "execution_count": 329,
   "metadata": {},
   "outputs": [
    {
     "name": "stdout",
     "output_type": "stream",
     "text": [
      "Test constructor\n"
     ]
    }
   ],
   "source": [
    "print('Test constructor')\n",
    "\n",
    "# raises exception\n",
    "\n",
    "n = 3\n",
    "m = 250\n",
    "num_infected = 10\n",
    "percent_distancing = 0.25\n",
    "percent_mask = 0.35\n",
    "percent_vaccinated = 0.1\n",
    "\n",
    "try:\n",
    "    abm = ABM(n,m,num_infected, percent_distancing, percent_mask, percent_vaccinated)\n",
    "    assert False\n",
    "except ValueError:\n",
    "    assert True\n",
    "    \n",
    "# doesn't raise exception\n",
    "n = 25\n",
    "abm = ABM(n,m,num_infected, percent_distancing, percent_mask, percent_vaccinated)\n",
    "\n",
    "# check counts of Agents\n",
    "assert len(abm.agents) == m\n",
    "\n",
    "# ensure all Agents were placed\n",
    "for agent in abm.agents:\n",
    "    assert agent.position != (-1,-1)"
   ]
  },
  {
   "cell_type": "code",
   "execution_count": 330,
   "metadata": {},
   "outputs": [
    {
     "name": "stdout",
     "output_type": "stream",
     "text": [
      "Test count_baseline_metrics()\n"
     ]
    }
   ],
   "source": [
    "print('Test count_baseline_metrics()')\n",
    "\n",
    "n = 25\n",
    "m = 250\n",
    "num_infected = 10\n",
    "percent_distancing = 0.25\n",
    "percent_mask = 0.35\n",
    "percent_vaccinated = 0.1\n",
    "abm = ABM(n,m,num_infected, percent_distancing, percent_mask, percent_vaccinated)\n",
    "\n",
    "# zero counts\n",
    "assert abm.num_recovered == 0\n",
    "assert abm.num_infected == 0\n",
    "assert abm.num_susceptible == 0\n",
    "assert abm.num_dead == 0\n",
    "assert abm.num_quarantine == 0\n",
    "\n",
    "\n",
    "# after performing counts\n",
    "abm.count_baseline_metrics()\n",
    "assert abm.num_recovered == 25, abm.num_recovered \n",
    "assert abm.num_infected == 10, abm.num_infected \n",
    "assert abm.num_susceptible == m - abm.num_recovered - abm.num_infected, abm.num_susceptible\n",
    "assert abm.num_dead == 0, abm.num_dead\n",
    "assert abm.num_quarantine == 0, abm.num_quarantine\n"
   ]
  },
  {
   "cell_type": "code",
   "execution_count": 331,
   "metadata": {},
   "outputs": [
    {
     "name": "stdout",
     "output_type": "stream",
     "text": [
      "Test remove_agent()\n"
     ]
    }
   ],
   "source": [
    "print('Test remove_agent()')\n",
    "\n",
    "n = 25\n",
    "m = 250\n",
    "num_infected = 10\n",
    "percent_distancing = 0.25\n",
    "percent_mask = 0.35\n",
    "percent_vaccinated = 0.1\n",
    "abm = ABM(n,m,num_infected, percent_distancing, percent_mask, percent_vaccinated)\n",
    "\n",
    "a = abm.agents[0] # select an agent from agents\n",
    "\n",
    "abm.remove_agent(a)\n",
    "\n",
    "assert a not in abm.agents\n",
    "assert len(abm.agents) == m-1, len(agents)\n",
    "assert abm.num_dead == 1"
   ]
  },
  {
   "cell_type": "code",
   "execution_count": 332,
   "metadata": {},
   "outputs": [
    {
     "name": "stdout",
     "output_type": "stream",
     "text": [
      "Test add_counts()\n",
      "{'R': 25, 'D': 0, 'I': 10, 'S': 215, 'Q': 0}\n"
     ]
    }
   ],
   "source": [
    "print('Test add_counts()')\n",
    "\n",
    "n = 25\n",
    "m = 250\n",
    "num_infected = 10\n",
    "percent_distancing = 0.25\n",
    "percent_mask = 0.35\n",
    "percent_vaccinated = 0.1\n",
    "abm = ABM(n,m,num_infected, percent_distancing, percent_mask, percent_vaccinated)\n",
    "abm.count_baseline_metrics()\n",
    "\n",
    "# empty counts list\n",
    "assert len(abm.counts) == 0\n",
    "\n",
    "\n",
    "# add set of metrics to list\n",
    "abm.add_counts()\n",
    "assert len(abm.counts) == 1\n",
    "\n",
    "for count_dict in abm.counts:\n",
    "    print(count_dict)\n",
    "    assert count_dict['R'] == 25\n",
    "    assert count_dict['D'] == 0\n",
    "    assert count_dict['I'] == 10\n",
    "    assert count_dict['Q'] == 0\n",
    "    assert count_dict['S'] == 250 - 25 - 10\n",
    "    "
   ]
  },
  {
   "cell_type": "code",
   "execution_count": 333,
   "metadata": {},
   "outputs": [
    {
     "name": "stdout",
     "output_type": "stream",
     "text": [
      "Test get_adj_agents()\n"
     ]
    }
   ],
   "source": [
    "print('Test get_adj_agents()')\n",
    "\n",
    "n = 25\n",
    "m = 250\n",
    "num_infected = 10\n",
    "percent_distancing = 0.25\n",
    "percent_mask = 0.35\n",
    "percent_vaccinated = 0.1\n",
    "abm = ABM(n,m,num_infected, percent_distancing, percent_mask, percent_vaccinated)\n",
    "\n",
    "a1 = Agent((1,1), 'I', mask=True, distancing=False)\n",
    "a2 = Agent((0,0), 'I', mask=True, distancing=False)\n",
    "a3 = Agent((5,5), 'I', mask=True, distancing=False)\n",
    "\n",
    "\n",
    "# no agents nearby Agent\n",
    "abm.agents = [a1,a3]\n",
    "assert len(abm.get_adj_agents(a1)) == 0\n",
    "\n",
    "\n",
    "# at least one agent nearby Agent\n",
    "abm.agents = [a1,a2,a3]\n",
    "adj = abm.get_adj_agents(a1)\n",
    "\n",
    "assert len(adj) == 1\n",
    "assert a2 in adj\n",
    "\n"
   ]
  },
  {
   "cell_type": "code",
   "execution_count": 334,
   "metadata": {},
   "outputs": [
    {
     "name": "stdout",
     "output_type": "stream",
     "text": [
      "Test update_baseline_metrics()\n"
     ]
    }
   ],
   "source": [
    "print('Test update_baseline_metrics()')\n",
    "\n",
    "n = 25\n",
    "m = 250\n",
    "num_infected = 10\n",
    "percent_distancing = 0.25\n",
    "percent_mask = 0.35\n",
    "percent_vaccinated = 0.1\n",
    "abm = ABM(n,m,num_infected, percent_distancing, percent_mask, percent_vaccinated)\n",
    "\n",
    "\n",
    "# no change\n",
    "abm.num_infected = 10\n",
    "abm.update_baseline_metrics('I','I')\n",
    "assert abm.num_infected == 10\n",
    "\n",
    "# change\n",
    "abm.num_infected = 10\n",
    "abm.num_recovered = 25\n",
    "abm.update_baseline_metrics('I','R')\n",
    "assert abm.num_infected == 9\n",
    "assert abm.num_recovered == 26\n",
    "\n",
    "# change\n",
    "abm.num_infected = 10\n",
    "abm.num_susceptible = 25\n",
    "abm.update_baseline_metrics('I','S')\n",
    "assert abm.num_infected == 9\n",
    "assert abm.num_susceptible == 26\n",
    "\n",
    "# change\n",
    "abm.num_infected = 10\n",
    "abm.num_quarantine = 25\n",
    "abm.update_baseline_metrics('I','Q')\n",
    "assert abm.num_infected == 9\n",
    "assert abm.num_quarantine == 26\n"
   ]
  },
  {
   "cell_type": "code",
   "execution_count": 335,
   "metadata": {},
   "outputs": [
    {
     "name": "stdout",
     "output_type": "stream",
     "text": [
      "Test run_simulation()\n",
      "Agent{position:(4, 2), status:I, mask:True, distancing:False, days_infected:0, asymptomatic:False}\n",
      "Agent{position:(0, 4), status:I, mask:False, distancing:True, days_infected:0, asymptomatic:True}\n",
      "Agent{position:(2, 2), status:R, mask:False, distancing:False, days_infected:0, asymptomatic:False}\n",
      "Agent{position:(0, 2), status:S, mask:True, distancing:False, days_infected:0, asymptomatic:False}\n",
      "Agent{position:(2, 1), status:S, mask:False, distancing:False, days_infected:0, asymptomatic:False}\n",
      "Agent{position:(4, 1), status:S, mask:False, distancing:False, days_infected:0, asymptomatic:False}\n",
      "Agent{position:(3, 2), status:S, mask:False, distancing:False, days_infected:0, asymptomatic:False}\n",
      "Agent{position:(2, 3), status:S, mask:True, distancing:False, days_infected:0, asymptomatic:False}\n",
      "Agent{position:(2, 4), status:S, mask:True, distancing:False, days_infected:0, asymptomatic:False}\n",
      "Agent{position:(3, 4), status:S, mask:False, distancing:False, days_infected:0, asymptomatic:False}\n",
      "[]\n",
      "\n",
      "Agent{position:(3, 0), status:I, mask:False, distancing:False, days_infected:1, asymptomatic:False}\n",
      "Agent{position:(3, 3), status:I, mask:False, distancing:False, days_infected:1, asymptomatic:False}\n",
      "Agent{position:(1, 0), status:R, mask:False, distancing:False, days_infected:0, asymptomatic:False}\n",
      "Agent{position:(3, 2), status:S, mask:True, distancing:False, days_infected:0, asymptomatic:False}\n",
      "Agent{position:(4, 1), status:S, mask:False, distancing:False, days_infected:0, asymptomatic:False}\n",
      "Agent{position:(4, 2), status:S, mask:True, distancing:False, days_infected:0, asymptomatic:False}\n",
      "Agent{position:(4, 3), status:S, mask:True, distancing:False, days_infected:0, asymptomatic:False}\n",
      "Agent{position:(4, 4), status:S, mask:False, distancing:False, days_infected:0, asymptomatic:False}\n",
      "Agent{position:(4, 0), status:S, mask:False, distancing:False, days_infected:0, asymptomatic:False}\n",
      "Agent{position:(1, 2), status:S, mask:True, distancing:True, days_infected:0, asymptomatic:False}\n",
      "[{'R': 1, 'D': 0, 'I': 2, 'S': 7, 'Q': 0}, {'R': 1, 'D': 0, 'I': 2, 'S': 7, 'Q': 0}]\n",
      "\n"
     ]
    }
   ],
   "source": [
    "print('Test run_simulation()')\n",
    "\n",
    "n = 5\n",
    "m = 10\n",
    "num_infected = 2\n",
    "percent_distancing = 0.1\n",
    "percent_mask = 0.35\n",
    "percent_vaccinated = 0.1\n",
    "abm = ABM(n,m,num_infected, percent_distancing, percent_mask, percent_vaccinated)\n",
    "\n",
    "for agent in abm.agents:\n",
    "    print(agent)\n",
    "print(abm.counts) \n",
    "print()\n",
    "\n",
    "abm = ABM(n,m,num_infected, percent_distancing, percent_mask, percent_vaccinated)\n",
    "counts = abm.run_simulation(1)\n",
    "for agent in abm.agents:\n",
    "    print(agent)\n",
    "print(abm.counts)\n",
    "print()\n",
    "    \n",
    "abm = ABM(n,m,num_infected, percent_distancing, percent_mask, percent_vaccinated)    \n",
    "counts = abm.run_simulation(365)\n",
    "# for agent in abm.agents:\n",
    "#     print(agent)\n",
    "\n",
    "# for each in abm.counts:\n",
    "#     print(each)\n",
    "# print()\n",
    "assert len(abm.counts) == 366, len(abm.counts)\n",
    "# counts"
   ]
  },
  {
   "cell_type": "code",
   "execution_count": 336,
   "metadata": {},
   "outputs": [
    {
     "name": "stdout",
     "output_type": "stream",
     "text": [
      "Test run_simulation() timing\n",
      "CPU times: user 9.12 s, sys: 17.5 ms, total: 9.14 s\n",
      "Wall time: 9.17 s\n"
     ]
    },
    {
     "data": {
      "text/plain": [
       "{'R': 122, 'D': 0, 'I': 0, 'S': 128, 'Q': 0}"
      ]
     },
     "execution_count": 336,
     "metadata": {},
     "output_type": "execute_result"
    }
   ],
   "source": [
    "%%time\n",
    "\n",
    "print('Test run_simulation() timing')\n",
    "# 250 over 100 days = 2.62 s\n",
    "# 250 over 365 days = 9.15 s\n",
    "\n",
    "n = 25\n",
    "m = 250\n",
    "num_infected = 25\n",
    "percent_distancing = 0.1\n",
    "percent_mask = 0.35\n",
    "percent_vaccinated = 0.1\n",
    "abm = ABM(n,m,num_infected, percent_distancing, percent_mask, percent_vaccinated)\n",
    "\n",
    "counts = abm.run_simulation(365)\n",
    "counts[-1]"
   ]
  },
  {
   "cell_type": "code",
   "execution_count": 337,
   "metadata": {},
   "outputs": [
    {
     "data": {
      "image/png": "[encoded data removed]",
      "text/plain": [
       "<Figure size 432x288 with 1 Axes>"
      ]
     },
     "metadata": {
      "needs_background": "light"
     },
     "output_type": "display_data"
    },
    {
     "data": {
      "image/png": "[encoded data removed]",
      "text/plain": [
       "<Figure size 432x288 with 1 Axes>"
      ]
     },
     "metadata": {},
     "output_type": "display_data"
    }
   ],
   "source": [
    "print('Test run_and_visualize_simulation()')\n",
    "\n",
    "n = 25\n",
    "m = 250\n",
    "num_infected = 10\n",
    "percent_distancing = 0.1\n",
    "percent_mask = 0.35\n",
    "percent_vaccinated = 0.1\n",
    "abm = ABM(n,m,num_infected, percent_distancing, percent_mask, percent_vaccinated)\n",
    "\n",
    "abm.run_and_visualize_simulation(2)"
   ]
  },
  {
   "cell_type": "code",
   "execution_count": 338,
   "metadata": {},
   "outputs": [
    {
     "name": "stdout",
     "output_type": "stream",
     "text": [
      "All tests pass for ABM class.\n"
     ]
    }
   ],
   "source": [
    "print('All tests pass for ABM class.')"
   ]
  },
  {
   "cell_type": "markdown",
   "metadata": {},
   "source": [
    "## Run Simulation test"
   ]
  },
  {
   "cell_type": "code",
   "execution_count": 29,
   "metadata": {
    "id": "qpnjzgwUOXcQ"
   },
   "outputs": [],
   "source": [
    "def run_simulations( num_simulations, \n",
    "                     num_steps, \n",
    "                     world_size, \n",
    "                     num_agents, \n",
    "                     num_infected, \n",
    "                     percent_distancing, \n",
    "                     percent_mask, \n",
    "                     percent_vaccinated):\n",
    "    '''\n",
    "    Runs full simulation a given number of times,\n",
    "    then returns a list of simulation results in\n",
    "    which each element in the list is the list of\n",
    "    metric counts captured during a single simulation.\n",
    "    '''\n",
    "    \n",
    "    sim_counts = [] # stores count sets for every simulation run\n",
    "    \n",
    "    for i in range(num_simulations):\n",
    "        \n",
    "        # set up model\n",
    "        model = ABM(world_size, num_agents, num_infected, percent_distancing, percent_mask, percent_vaccinated)\n",
    "        \n",
    "        # run simulation and collect metrics\n",
    "        counts = model.run_simulation(num_steps)\n",
    "        \n",
    "        # add metric set to simulation manager\n",
    "        sim_counts.append(counts)\n",
    "    \n",
    "    return sim_counts\n",
    "\n",
    "        \n",
    "def plot_simulation_results(num_steps, sim_counts, debug=False):\n",
    "    '''\n",
    "    Uses results of each simulation run to calculate\n",
    "    mean and standard deviation of the count for each \n",
    "    staus for each day in the simulation.\n",
    "    \n",
    "    Plots the results.\n",
    "    '''\n",
    "\n",
    "    # plot the results\n",
    "    statusColors = {'R': 'r', 'S': 'b', 'I': 'g', 'Q': 'k', 'D': 'm'}\n",
    "    fig, ax = plt.subplots(figsize=(20, 10))\n",
    "    x = list(range(num_steps+1))\n",
    "\n",
    "    # for each status\n",
    "    for status in ['R', 'S', 'I', 'Q', 'D']:\n",
    "        avgs = []\n",
    "        errs = []\n",
    "        if debug:\n",
    "            print(status)\n",
    "        \n",
    "        # for each day in simulation\n",
    "        for j in range(num_steps+1):\n",
    "\n",
    "            # create an array of each separate count \n",
    "            # of a given status for a given day in each simulation run\n",
    "            stats = np.array([counts[j][status] for counts in sim_counts])\n",
    "            if debug:\n",
    "                print(stats) # for debugging\n",
    "\n",
    "            # calculate mean and standard deviation of each status for a given day over all simulation runs\n",
    "            # store results to plot\n",
    "            avgs.append(np.mean(stats))\n",
    "            errs.append(np.std(stats))\n",
    "\n",
    "        ax.errorbar(x,avgs,yerr=errs, fmt=statusColors[status], label=status)\n",
    "\n",
    "    ax.legend(loc=\"upper left\", bbox_to_anchor=(1, 0.5))\n",
    "    plt.show()\n",
    "    \n",
    "    \n",
    "def get_metrics(num_steps, sim_counts, step):\n",
    "    '''\n",
    "    Calculates and returns metrics for a single time \n",
    "    step using given total steps and sim_counts.\n",
    "    '''\n",
    "    \n",
    "    results = []\n",
    "    for status in ['R', 'S', 'I', 'Q', 'D']:\n",
    "        avgs = []\n",
    "        errs = []\n",
    "        \n",
    "        # for each day in simulation\n",
    "        for j in range(num_steps+1):\n",
    "\n",
    "            # create an array of each separate count \n",
    "            # of a given status for a given day in each simulation run\n",
    "            stats = np.array([counts[j][status] for counts in sim_counts])\n",
    "\n",
    "            # calculate mean and standard deviation of each status for a given day over all simulation runs\n",
    "            # store results to plot\n",
    "            avgs.append(np.mean(stats))\n",
    "            errs.append(np.std(stats))\n",
    "        \n",
    "        results.append((status, avgs[step], errs[step]))\n",
    "    \n",
    "    return results\n",
    "    "
   ]
  },
  {
   "cell_type": "code",
   "execution_count": 21,
   "metadata": {},
   "outputs": [
    {
     "name": "stdout",
     "output_type": "stream",
     "text": [
      "Test run_simulations()\n"
     ]
    },
    {
     "data": {
      "text/plain": [
       "[[{'R': 25, 'D': 0, 'I': 10, 'S': 215, 'Q': 0},\n",
       "  {'R': 25, 'D': 0, 'I': 13, 'S': 212, 'Q': 0},\n",
       "  {'R': 25, 'D': 0, 'I': 15, 'S': 210, 'Q': 0}],\n",
       " [{'R': 25, 'D': 0, 'I': 10, 'S': 215, 'Q': 0},\n",
       "  {'R': 25, 'D': 0, 'I': 15, 'S': 210, 'Q': 0},\n",
       "  {'R': 25, 'D': 0, 'I': 21, 'S': 204, 'Q': 0}],\n",
       " [{'R': 25, 'D': 0, 'I': 10, 'S': 215, 'Q': 0},\n",
       "  {'R': 25, 'D': 0, 'I': 12, 'S': 213, 'Q': 0},\n",
       "  {'R': 25, 'D': 0, 'I': 23, 'S': 202, 'Q': 0}]]"
      ]
     },
     "execution_count": 21,
     "metadata": {},
     "output_type": "execute_result"
    }
   ],
   "source": [
    "print('Test run_simulations()')\n",
    "\n",
    "num_simulations=3\n",
    "num_steps=2\n",
    "world_size=25\n",
    "num_agents=250\n",
    "num_infected=10\n",
    "percent_distancing=0.1\n",
    "percent_mask=0.25\n",
    "percent_vaccinated=0.1\n",
    "\n",
    "sim_counts = run_simulations(num_simulations, \n",
    "                             num_steps, \n",
    "                             world_size, \n",
    "                             num_agents, \n",
    "                             num_infected, \n",
    "                             percent_distancing, \n",
    "                             percent_mask, \n",
    "                             percent_vaccinated)\n",
    "sim_counts"
   ]
  },
  {
   "cell_type": "code",
   "execution_count": 28,
   "metadata": {},
   "outputs": [
    {
     "name": "stdout",
     "output_type": "stream",
     "text": [
      "Test get_metrics()\n"
     ]
    },
    {
     "data": {
      "text/plain": [
       "[('R', 25.0, 0.0),\n",
       " ('S', 211.66666666666666, 1.247219128924647),\n",
       " ('I', 13.333333333333334, 1.247219128924647),\n",
       " ('Q', 0.0, 0.0),\n",
       " ('D', 0.0, 0.0)]"
      ]
     },
     "execution_count": 28,
     "metadata": {},
     "output_type": "execute_result"
    }
   ],
   "source": [
    "print('Test get_metrics()')\n",
    "\n",
    "num_steps=2\n",
    "get_metrics(num_steps, sim_counts, 1)"
   ]
  },
  {
   "cell_type": "code",
   "execution_count": 59,
   "metadata": {},
   "outputs": [
    {
     "name": "stdout",
     "output_type": "stream",
     "text": [
      "Test plot_simulation_results()\n",
      "R\n",
      "[25 25 25]\n",
      "[25 25 25]\n",
      "[25 25 25]\n",
      "S\n",
      "[215 215 215]\n",
      "[210 212 210]\n",
      "[207 211 207]\n",
      "I\n",
      "[10 10 10]\n",
      "[15 13 15]\n",
      "[18 14 18]\n",
      "Q\n",
      "[0 0 0]\n",
      "[0 0 0]\n",
      "[0 0 0]\n",
      "D\n",
      "[0 0 0]\n",
      "[0 0 0]\n",
      "[0 0 0]\n"
     ]
    },
    {
     "data": {
      "image/png": "[encoded data removed]",
      "text/plain": [
       "<Figure size 1440x720 with 1 Axes>"
      ]
     },
     "metadata": {
      "needs_background": "light"
     },
     "output_type": "display_data"
    }
   ],
   "source": [
    "print('Test plot_simulation_results()')\n",
    "\n",
    "num_steps=2\n",
    "\n",
    "plot_simulation_results(num_steps, sim_counts,True)\n"
   ]
  },
  {
   "cell_type": "markdown",
   "metadata": {
    "id": "au-iJk4-W3P_"
   },
   "source": [
    "## 1.2 Run 10 simulations, each of which tracks 250 agents over 365 days in a 25 x 25 world with the following initial conditions: \n",
    "\n",
    "* 5 infected agents (I), the rest are susceptible (S)\n",
    "* 0% of agents wear masks\n",
    "* 0% of agents practice physical distancing\n",
    "\n",
    "Keep track of the number of S, I,Q,R, and D agents over time in each simulation. Plot the averages of these trajectories with standard error bars. \n",
    "What is the final value of R?\n",
    "What is the peak number of active cases (I+Q)? \n",
    "How many days does it take for the virus to go extinct (i.e. I+Q=0)? \n"
   ]
  },
  {
   "cell_type": "markdown",
   "metadata": {},
   "source": [
    "### Answers to questions\n",
    "\n",
    "What is the final value of R? \n",
    "**R=231.5**\n",
    "\n",
    "What is the peak number of active cases (I+Q)? \n",
    "**The peak is 58.1+ 110.9 = 169 (day 18)**\n",
    "\n",
    "How many days does it take for the virus to go extinct (i.e. I+Q=0)? \n",
    "**The virus goes extinct after 57 days. The number of infected never goes below 2.7, so I treated that as zero for the purposes of this question.**\n",
    "\n"
   ]
  },
  {
   "cell_type": "code",
   "execution_count": 30,
   "metadata": {
    "id": "7HqPHPgoYqj6"
   },
   "outputs": [
    {
     "name": "stdout",
     "output_type": "stream",
     "text": [
      "CPU times: user 1min 17s, sys: 285 ms, total: 1min 17s\n",
      "Wall time: 1min 18s\n"
     ]
    }
   ],
   "source": [
    "%%time\n",
    "\n",
    "num_simulations=10\n",
    "num_steps=365\n",
    "world_size=25\n",
    "num_agents=250\n",
    "num_infected=5\n",
    "percent_distancing=0.0\n",
    "percent_mask=0.0\n",
    "percent_vaccinated=0.0\n",
    "\n",
    "# run simulations\n",
    "sim_counts_1_2 = run_simulations(num_simulations, \n",
    "                                 num_steps, \n",
    "                                 world_size, \n",
    "                                 num_agents, \n",
    "                                 num_infected, \n",
    "                                 percent_distancing, \n",
    "                                 percent_mask, \n",
    "                                 percent_vaccinated)"
   ]
  },
  {
   "cell_type": "code",
   "execution_count": 31,
   "metadata": {
    "scrolled": false
   },
   "outputs": [
    {
     "data": {
      "image/png": "[encoded data removed]",
      "text/plain": [
       "<Figure size 1440x720 with 1 Axes>"
      ]
     },
     "metadata": {
      "needs_background": "light"
     },
     "output_type": "display_data"
    }
   ],
   "source": [
    "# plot results\n",
    "plot_simulation_results(num_steps, sim_counts_1_2)"
   ]
  },
  {
   "cell_type": "markdown",
   "metadata": {},
   "source": [
    "### Calculating answers to questions"
   ]
  },
  {
   "cell_type": "code",
   "execution_count": 32,
   "metadata": {},
   "outputs": [
    {
     "data": {
      "text/plain": [
       "[('R', 231.5, 7.242237223399963),\n",
       " ('S', 15.8, 6.838128398911504),\n",
       " ('I', 2.7, 1.4866068747318506),\n",
       " ('Q', 0.0, 0.0),\n",
       " ('D', 2.7, 1.4866068747318506)]"
      ]
     },
     "execution_count": 32,
     "metadata": {},
     "output_type": "execute_result"
    }
   ],
   "source": [
    "sim_counts_1_2\n",
    "\n",
    "get_metrics(num_steps, sim_counts_1_2, 365)"
   ]
  },
  {
   "cell_type": "code",
   "execution_count": 96,
   "metadata": {},
   "outputs": [
    {
     "name": "stdout",
     "output_type": "stream",
     "text": [
      "56\n",
      "[('R', 231.3, 7.280796659706959), ('S', 15.8, 6.838128398911504), ('I', 2.7, 1.4866068747318506), ('Q', 0.2, 0.6000000000000001), ('D', 2.7, 1.4866068747318506)] 2.9000000000000004\n",
      "57\n",
      "[('R', 231.3, 7.280796659706959), ('S', 15.8, 6.838128398911504), ('I', 2.7, 1.4866068747318506), ('Q', 0.2, 0.6000000000000001), ('D', 2.7, 1.4866068747318506)] 2.9000000000000004\n",
      "58\n",
      "[('R', 231.5, 7.242237223399963), ('S', 15.8, 6.838128398911504), ('I', 2.7, 1.4866068747318506), ('Q', 0.0, 0.0), ('D', 2.7, 1.4866068747318506)] 2.7\n",
      "59\n",
      "[('R', 231.5, 7.242237223399963), ('S', 15.8, 6.838128398911504), ('I', 2.7, 1.4866068747318506), ('Q', 0.0, 0.0), ('D', 2.7, 1.4866068747318506)] 2.7\n",
      "60\n",
      "[('R', 231.5, 7.242237223399963), ('S', 15.8, 6.838128398911504), ('I', 2.7, 1.4866068747318506), ('Q', 0.0, 0.0), ('D', 2.7, 1.4866068747318506)] 2.7\n"
     ]
    }
   ],
   "source": [
    "for each in range(56,61):\n",
    "    print(each)\n",
    "    result = get_metrics(num_steps, sim_counts_1_2, each)\n",
    "    sum = result[2][1] + result[3][1]\n",
    "    print(result, sum)"
   ]
  },
  {
   "cell_type": "code",
   "execution_count": 98,
   "metadata": {},
   "outputs": [
    {
     "name": "stdout",
     "output_type": "stream",
     "text": [
      "15\n",
      "[('R', 5.0, 0.0), ('S', 82.4, 25.671774383552066), ('I', 62.2, 6.705221845696084), ('Q', 100.4, 25.23965134466005), ('D', 1.2, 1.469693845669907)] 162.60000000000002\n",
      "16\n",
      "[('R', 11.1, 3.726929030716845), ('S', 73.8, 24.247886505837986), ('I', 60.5, 10.375451797391765), ('Q', 104.6, 22.597344976788758), ('D', 1.3, 1.6155494421403513)] 165.1\n",
      "17\n",
      "[('R', 17.8, 5.173006862551025), ('S', 65.3, 20.84250464795438), ('I', 58.5, 10.688779163215974), ('Q', 108.4, 20.99619013059274), ('D', 1.5, 1.5)] 166.9\n",
      "18\n",
      "[('R', 23.8, 6.80881781221968), ('S', 57.2, 17.85385112517745), ('I', 58.1, 14.334922392534953), ('Q', 110.9, 19.91707809895819), ('D', 1.6, 1.4966629547095764)] 169.0\n",
      "19\n",
      "[('R', 32.4, 8.511169132381285), ('S', 50.3, 16.727522231340778), ('I', 56.5, 13.418271125595876), ('Q', 110.8, 18.186808406094787), ('D', 1.8, 1.4000000000000001)] 167.3\n"
     ]
    }
   ],
   "source": [
    "for each in range(15,20):\n",
    "    print(each)\n",
    "    result = get_metrics(num_steps, sim_counts_1_2, each)\n",
    "    sum = result[2][1] + result[3][1]\n",
    "    print(result, sum)"
   ]
  },
  {
   "cell_type": "markdown",
   "metadata": {
    "id": "5wrdY0rtY8gl"
   },
   "source": [
    "## 1.3 Run 10 simulations, each of which tracks 250 agents over 365 days in a 25 x 25 world with the following initial conditions: \n",
    "\n",
    "\n",
    "*   5 infected agents (I), the rest are susceptible (S)\n",
    "*   p% of agents wear masks\n",
    "*   p% of agents practice physical distancing\n",
    "\n",
    "Keep track of the number of S, I,Q,R, and D agents over time in each simulation. Plot the averages of these trajectories with standard error bars. \n",
    "What value of p reduces the final value of R to roughly half of the final value of R you obtained for part 1.2?\n",
    "What is the final value of R?\n",
    "What is the peak number of active cases (I+Q)? \n",
    "How many days does it take for the virus to go extinct (i.e. I+Q=0)? "
   ]
  },
  {
   "cell_type": "markdown",
   "metadata": {},
   "source": [
    "### Answers to Questions\n",
    "\n",
    "What value of p reduces the final value of R to roughly half of the final value of R you obtained for part 1.2?\n",
    "**The final value of R for 1.2 was 232. A value of p=0.2, or 20% masked and distancing, results in a final R of R=125, which is almost half.**\n",
    "\n",
    "What is the final value of R?\n",
    "**R=125**\n",
    "\n",
    "What is the peak number of active cases (I+Q)? \n",
    "**54.2+24.8=79 (day 14)**\n",
    "\n",
    "How many days does it take for the virus to go extinct (i.e. I+Q=0)? \n",
    "**The virus goes extinct after 68 days. The number of infected never goes below 0.9, so I treat that as zero for infected.**"
   ]
  },
  {
   "cell_type": "code",
   "execution_count": 46,
   "metadata": {
    "id": "P8lA2NpqY8Mq"
   },
   "outputs": [
    {
     "name": "stdout",
     "output_type": "stream",
     "text": [
      "CPU times: user 1min 24s, sys: 339 ms, total: 1min 25s\n",
      "Wall time: 1min 25s\n"
     ]
    }
   ],
   "source": [
    "%%time\n",
    "\n",
    "# five percent\n",
    "num_simulations=10\n",
    "num_steps=365\n",
    "world_size=25\n",
    "num_agents=250\n",
    "num_infected=5\n",
    "percent_distancing=0.05\n",
    "percent_mask=0.05\n",
    "percent_vaccinated=0.0\n",
    "\n",
    "# run simulations\n",
    "sim_counts_1_3a = run_simulations(num_simulations, \n",
    "                                 num_steps, \n",
    "                                 world_size, \n",
    "                                 num_agents, \n",
    "                                 num_infected, \n",
    "                                 percent_distancing, \n",
    "                                 percent_mask, \n",
    "                                 percent_vaccinated)"
   ]
  },
  {
   "cell_type": "code",
   "execution_count": 47,
   "metadata": {},
   "outputs": [
    {
     "name": "stdout",
     "output_type": "stream",
     "text": [
      "CPU times: user 1min 31s, sys: 356 ms, total: 1min 32s\n",
      "Wall time: 1min 32s\n"
     ]
    }
   ],
   "source": [
    "%%time\n",
    "\n",
    "# ten percent\n",
    "num_simulations=10\n",
    "num_steps=365\n",
    "world_size=25\n",
    "num_agents=250\n",
    "num_infected=5\n",
    "percent_distancing=0.1\n",
    "percent_mask=0.1\n",
    "percent_vaccinated=0.0\n",
    "\n",
    "# run simulations\n",
    "sim_counts_1_3b = run_simulations(num_simulations, \n",
    "                                 num_steps, \n",
    "                                 world_size, \n",
    "                                 num_agents, \n",
    "                                 num_infected, \n",
    "                                 percent_distancing, \n",
    "                                 percent_mask, \n",
    "                                 percent_vaccinated)"
   ]
  },
  {
   "cell_type": "code",
   "execution_count": 48,
   "metadata": {},
   "outputs": [
    {
     "name": "stdout",
     "output_type": "stream",
     "text": [
      "CPU times: user 1min 38s, sys: 384 ms, total: 1min 38s\n",
      "Wall time: 1min 39s\n"
     ]
    }
   ],
   "source": [
    "%%time\n",
    "\n",
    "# fifteen percent\n",
    "num_simulations=10\n",
    "num_steps=365\n",
    "world_size=25\n",
    "num_agents=250\n",
    "num_infected=5\n",
    "percent_distancing=0.15\n",
    "percent_mask=0.15\n",
    "percent_vaccinated=0.0\n",
    "\n",
    "# run simulations\n",
    "sim_counts_1_3c = run_simulations(num_simulations, \n",
    "                                 num_steps, \n",
    "                                 world_size, \n",
    "                                 num_agents, \n",
    "                                 num_infected, \n",
    "                                 percent_distancing, \n",
    "                                 percent_mask, \n",
    "                                 percent_vaccinated)"
   ]
  },
  {
   "cell_type": "code",
   "execution_count": 49,
   "metadata": {},
   "outputs": [
    {
     "name": "stdout",
     "output_type": "stream",
     "text": [
      "CPU times: user 1min 45s, sys: 348 ms, total: 1min 45s\n",
      "Wall time: 1min 47s\n"
     ]
    }
   ],
   "source": [
    "%%time\n",
    "\n",
    "# twenty percent\n",
    "num_simulations=10\n",
    "num_steps=365\n",
    "world_size=25\n",
    "num_agents=250\n",
    "num_infected=5\n",
    "percent_distancing=0.2\n",
    "percent_mask=0.2\n",
    "percent_vaccinated=0.0\n",
    "\n",
    "# run simulations\n",
    "sim_counts_1_3d = run_simulations(num_simulations, \n",
    "                                 num_steps, \n",
    "                                 world_size, \n",
    "                                 num_agents, \n",
    "                                 num_infected, \n",
    "                                 percent_distancing, \n",
    "                                 percent_mask, \n",
    "                                 percent_vaccinated)"
   ]
  },
  {
   "cell_type": "code",
   "execution_count": 50,
   "metadata": {},
   "outputs": [
    {
     "name": "stdout",
     "output_type": "stream",
     "text": [
      "CPU times: user 1min 48s, sys: 385 ms, total: 1min 49s\n",
      "Wall time: 1min 49s\n"
     ]
    }
   ],
   "source": [
    "%%time\n",
    "\n",
    "# twenty-five percent\n",
    "num_simulations=10\n",
    "num_steps=365\n",
    "world_size=25\n",
    "num_agents=250\n",
    "num_infected=5\n",
    "percent_distancing=0.25\n",
    "percent_mask=0.25\n",
    "percent_vaccinated=0.0\n",
    "\n",
    "# run simulations\n",
    "sim_counts_1_3e = run_simulations(num_simulations, \n",
    "                                 num_steps, \n",
    "                                 world_size, \n",
    "                                 num_agents, \n",
    "                                 num_infected, \n",
    "                                 percent_distancing, \n",
    "                                 percent_mask, \n",
    "                                 percent_vaccinated)"
   ]
  },
  {
   "cell_type": "code",
   "execution_count": 51,
   "metadata": {},
   "outputs": [
    {
     "data": {
      "image/png": "[encoded data removed]",
      "text/plain": [
       "<Figure size 1440x720 with 1 Axes>"
      ]
     },
     "metadata": {
      "needs_background": "light"
     },
     "output_type": "display_data"
    }
   ],
   "source": [
    "# plot results\n",
    "plot_simulation_results(num_steps, sim_counts_1_3a)"
   ]
  },
  {
   "cell_type": "code",
   "execution_count": 52,
   "metadata": {},
   "outputs": [
    {
     "data": {
      "image/png": "[encoded data removed]",
      "text/plain": [
       "<Figure size 1440x720 with 1 Axes>"
      ]
     },
     "metadata": {
      "needs_background": "light"
     },
     "output_type": "display_data"
    }
   ],
   "source": [
    "# plot results\n",
    "plot_simulation_results(num_steps, sim_counts_1_3b)"
   ]
  },
  {
   "cell_type": "code",
   "execution_count": 53,
   "metadata": {},
   "outputs": [
    {
     "data": {
      "image/png": "[encoded data removed]",
      "text/plain": [
       "<Figure size 1440x720 with 1 Axes>"
      ]
     },
     "metadata": {
      "needs_background": "light"
     },
     "output_type": "display_data"
    }
   ],
   "source": [
    "# plot results\n",
    "plot_simulation_results(num_steps, sim_counts_1_3c)"
   ]
  },
  {
   "cell_type": "code",
   "execution_count": 54,
   "metadata": {},
   "outputs": [
    {
     "data": {
      "image/png": "[encoded data removed]",
      "text/plain": [
       "<Figure size 1440x720 with 1 Axes>"
      ]
     },
     "metadata": {
      "needs_background": "light"
     },
     "output_type": "display_data"
    }
   ],
   "source": [
    "# plot results\n",
    "plot_simulation_results(num_steps, sim_counts_1_3d)"
   ]
  },
  {
   "cell_type": "code",
   "execution_count": 55,
   "metadata": {
    "scrolled": false
   },
   "outputs": [
    {
     "data": {
      "image/png": "[encoded data removed]",
      "text/plain": [
       "<Figure size 1440x720 with 1 Axes>"
      ]
     },
     "metadata": {
      "needs_background": "light"
     },
     "output_type": "display_data"
    }
   ],
   "source": [
    "# plot results\n",
    "plot_simulation_results(num_steps, sim_counts_1_3e)"
   ]
  },
  {
   "cell_type": "markdown",
   "metadata": {},
   "source": [
    "### Calculating answers to questions"
   ]
  },
  {
   "cell_type": "code",
   "execution_count": 100,
   "metadata": {},
   "outputs": [
    {
     "data": {
      "text/plain": [
       "[('R', 124.9, 22.669142021699898),\n",
       " ('S', 124.2, 22.511330480449175),\n",
       " ('I', 0.9, 0.7000000000000001),\n",
       " ('Q', 0.0, 0.0),\n",
       " ('D', 0.9, 0.7000000000000001)]"
      ]
     },
     "execution_count": 100,
     "metadata": {},
     "output_type": "execute_result"
    }
   ],
   "source": [
    "get_metrics(num_steps, sim_counts_1_3c, 365) # 149\n",
    "get_metrics(num_steps, sim_counts_1_3e, 365) # 81\n",
    "get_metrics(num_steps, sim_counts_1_3d, 365) # 125"
   ]
  },
  {
   "cell_type": "code",
   "execution_count": 99,
   "metadata": {},
   "outputs": [
    {
     "name": "stdout",
     "output_type": "stream",
     "text": [
      "13\n",
      "[('R', 0.0, 0.0), ('S', 175.0, 24.879710609249457), ('I', 24.3, 10.555093557141026), ('Q', 50.7, 15.818027689949211), ('D', 0.5, 0.5)] 75.0\n",
      "14\n",
      "[('R', 0.0, 0.0), ('S', 171.0, 25.365330670030698), ('I', 24.8, 9.097252332435326), ('Q', 54.2, 17.73020022447575), ('D', 0.5, 0.5)] 79.0\n",
      "15\n",
      "[('R', 5.0, 0.0), ('S', 167.8, 25.451129640941282), ('I', 23.8, 8.121576201698781), ('Q', 53.4, 18.569868066305695), ('D', 0.5, 0.5)] 77.2\n",
      "16\n",
      "[('R', 9.1, 2.3853720883753127), ('S', 163.8, 26.175561121015154), ('I', 24.2, 8.207313811473277), ('Q', 52.9, 18.77471704180918), ('D', 0.6, 0.66332495807108)] 77.1\n",
      "17\n",
      "[('R', 15.4, 4.2708313008125245), ('S', 160.4, 26.560120481654444), ('I', 22.1, 8.814193099768124), ('Q', 52.1, 18.97076698502198), ('D', 0.7, 0.6403124237432849)] 74.2\n"
     ]
    }
   ],
   "source": [
    "# max is day 14\n",
    "\n",
    "for each in range(13,18):\n",
    "    print(each)\n",
    "    result = get_metrics(num_steps, sim_counts_1_3d, each)\n",
    "    sum = result[2][1] + result[3][1]\n",
    "    print(result, sum)"
   ]
  },
  {
   "cell_type": "code",
   "execution_count": 101,
   "metadata": {},
   "outputs": [
    {
     "name": "stdout",
     "output_type": "stream",
     "text": [
      "60\n",
      "[('R', 124.3, 22.347483079756433), ('S', 124.2, 22.511330480449175), ('I', 1.0, 0.7745966692414834), ('Q', 0.5, 1.2041594578792296), ('D', 0.9, 0.7000000000000001)] 1.5\n",
      "61\n",
      "[('R', 124.5, 22.45996438109375), ('S', 124.2, 22.511330480449175), ('I', 0.9, 0.7000000000000001), ('Q', 0.4, 0.9165151389911681), ('D', 0.9, 0.7000000000000001)] 1.3\n",
      "62\n",
      "[('R', 124.5, 22.45996438109375), ('S', 124.2, 22.511330480449175), ('I', 0.9, 0.7000000000000001), ('Q', 0.4, 0.9165151389911681), ('D', 0.9, 0.7000000000000001)] 1.3\n",
      "63\n",
      "[('R', 124.5, 22.45996438109375), ('S', 124.2, 22.511330480449175), ('I', 0.9, 0.7000000000000001), ('Q', 0.4, 0.9165151389911681), ('D', 0.9, 0.7000000000000001)] 1.3\n",
      "64\n",
      "[('R', 124.5, 22.45996438109375), ('S', 124.2, 22.511330480449175), ('I', 0.9, 0.7000000000000001), ('Q', 0.4, 0.9165151389911681), ('D', 0.9, 0.7000000000000001)] 1.3\n",
      "65\n",
      "[('R', 124.6, 22.521989254948153), ('S', 124.2, 22.511330480449175), ('I', 0.9, 0.7000000000000001), ('Q', 0.3, 0.6403124237432849), ('D', 0.9, 0.7000000000000001)] 1.2\n",
      "66\n",
      "[('R', 124.8, 22.6), ('S', 124.2, 22.511330480449175), ('I', 0.9, 0.7000000000000001), ('Q', 0.1, 0.30000000000000004), ('D', 0.9, 0.7000000000000001)] 1.0\n",
      "67\n",
      "[('R', 124.8, 22.6), ('S', 124.2, 22.511330480449175), ('I', 0.9, 0.7000000000000001), ('Q', 0.1, 0.30000000000000004), ('D', 0.9, 0.7000000000000001)] 1.0\n",
      "68\n",
      "[('R', 124.9, 22.669142021699898), ('S', 124.2, 22.511330480449175), ('I', 0.9, 0.7000000000000001), ('Q', 0.0, 0.0), ('D', 0.9, 0.7000000000000001)] 0.9\n",
      "69\n",
      "[('R', 124.9, 22.669142021699898), ('S', 124.2, 22.511330480449175), ('I', 0.9, 0.7000000000000001), ('Q', 0.0, 0.0), ('D', 0.9, 0.7000000000000001)] 0.9\n"
     ]
    }
   ],
   "source": [
    "for each in range(60,70):\n",
    "    print(each)\n",
    "    result = get_metrics(num_steps, sim_counts_1_3d, each)\n",
    "    sum = result[2][1] + result[3][1]\n",
    "    print(result, sum)"
   ]
  },
  {
   "cell_type": "markdown",
   "metadata": {
    "id": "RiLt650YZetp"
   },
   "source": [
    "## 1.4 Run 10 simulations, each of which tracks 250 agents over 365 days in a 25 x 25 world with the following initial conditions: \n",
    "\n",
    "\n",
    "*   5 infected agents (I), p% of agents have been vaccinated (i.e., start in state R), the rest are susceptible (S)\n",
    "*   0% of agents wear masks\n",
    "*   0% of agents practice physical distancing\n",
    "\n",
    "\n",
    "Keep track of the number of S, I,Q,R, and D agents over time in each simulation. Plot the averages of these trajectories with standard errors. \n",
    "What value of p reduces the peak number of active cases (I+Q) to roughly half of the final value of (I+Q) you obtained for part 1.2?\n",
    "What is the final value of R?\n",
    "What is the peak number of active cases (I+Q)? \n",
    "How many days does it take for the virus to go extinct (i.e. I+Q=0)? "
   ]
  },
  {
   "cell_type": "markdown",
   "metadata": {},
   "source": [
    "### Answers to Questions\n",
    "\n",
    "What value of p reduces the peak number of active cases (I+Q) to roughly half of the final value of (I+Q) you obtained for part 1.2?\n",
    "**The peak number of cases in 1.2 was 169. Half of that would be about 85. The value of p=0.2 or 20% gives a peak number of active cases as 87 (day 19).**\n",
    "\n",
    "\n",
    "What is the final value of R?\n",
    "**R=206.1**\n",
    "\n",
    "\n",
    "What is the peak number of active cases (I+Q)? \n",
    "**The peak number is 28.8+57.6=87**\n",
    "\n",
    "\n",
    "How many days does it take for the virus to go extinct (i.e. I+Q=0)? \n",
    "**The virus went extinct after 74 days. Number of infected never goes below 0.8, so I treat that as zero for infected.**"
   ]
  },
  {
   "cell_type": "code",
   "execution_count": 75,
   "metadata": {
    "id": "fX_rIBLNZeJh"
   },
   "outputs": [
    {
     "name": "stdout",
     "output_type": "stream",
     "text": [
      "CPU times: user 1min 18s, sys: 274 ms, total: 1min 18s\n",
      "Wall time: 1min 19s\n"
     ]
    }
   ],
   "source": [
    "%%time\n",
    "\n",
    "# ten percent\n",
    "num_simulations=10\n",
    "num_steps=365\n",
    "world_size=25\n",
    "num_agents=250\n",
    "num_infected=5\n",
    "percent_distancing=0.0\n",
    "percent_mask=0.0\n",
    "percent_vaccinated=0.1\n",
    "\n",
    "# run simulations\n",
    "sim_counts_1_4a = run_simulations(num_simulations, \n",
    "                                 num_steps, \n",
    "                                 world_size, \n",
    "                                 num_agents, \n",
    "                                 num_infected, \n",
    "                                 percent_distancing, \n",
    "                                 percent_mask, \n",
    "                                 percent_vaccinated)"
   ]
  },
  {
   "cell_type": "code",
   "execution_count": 76,
   "metadata": {},
   "outputs": [
    {
     "name": "stdout",
     "output_type": "stream",
     "text": [
      "CPU times: user 1min 18s, sys: 270 ms, total: 1min 18s\n",
      "Wall time: 1min 18s\n"
     ]
    }
   ],
   "source": [
    "%%time\n",
    "\n",
    "# twenty percent\n",
    "num_simulations=10\n",
    "num_steps=365\n",
    "world_size=25\n",
    "num_agents=250\n",
    "num_infected=5\n",
    "percent_distancing=0.0\n",
    "percent_mask=0.0\n",
    "percent_vaccinated=0.2\n",
    "\n",
    "# run simulations\n",
    "sim_counts_1_4b = run_simulations(num_simulations, \n",
    "                                 num_steps, \n",
    "                                 world_size, \n",
    "                                 num_agents, \n",
    "                                 num_infected, \n",
    "                                 percent_distancing, \n",
    "                                 percent_mask, \n",
    "                                 percent_vaccinated)"
   ]
  },
  {
   "cell_type": "code",
   "execution_count": 77,
   "metadata": {},
   "outputs": [
    {
     "name": "stdout",
     "output_type": "stream",
     "text": [
      "CPU times: user 1min 16s, sys: 279 ms, total: 1min 17s\n",
      "Wall time: 1min 17s\n"
     ]
    }
   ],
   "source": [
    "%%time\n",
    "\n",
    "# thirty percent\n",
    "num_simulations=10\n",
    "num_steps=365\n",
    "world_size=25\n",
    "num_agents=250\n",
    "num_infected=5\n",
    "percent_distancing=0.0\n",
    "percent_mask=0.0\n",
    "percent_vaccinated=0.3\n",
    "\n",
    "# run simulations\n",
    "sim_counts_1_4c = run_simulations(num_simulations, \n",
    "                                 num_steps, \n",
    "                                 world_size, \n",
    "                                 num_agents, \n",
    "                                 num_infected, \n",
    "                                 percent_distancing, \n",
    "                                 percent_mask, \n",
    "                                 percent_vaccinated)"
   ]
  },
  {
   "cell_type": "code",
   "execution_count": 81,
   "metadata": {},
   "outputs": [
    {
     "name": "stdout",
     "output_type": "stream",
     "text": [
      "CPU times: user 1min 16s, sys: 266 ms, total: 1min 17s\n",
      "Wall time: 1min 17s\n"
     ]
    }
   ],
   "source": [
    "%%time\n",
    "\n",
    "# fourty percent\n",
    "num_simulations=10\n",
    "num_steps=365\n",
    "world_size=25\n",
    "num_agents=250\n",
    "num_infected=5\n",
    "percent_distancing=0.0\n",
    "percent_mask=0.0\n",
    "percent_vaccinated=0.4\n",
    "\n",
    "# run simulations\n",
    "sim_counts_1_4d = run_simulations(num_simulations, \n",
    "                                 num_steps, \n",
    "                                 world_size, \n",
    "                                 num_agents, \n",
    "                                 num_infected, \n",
    "                                 percent_distancing, \n",
    "                                 percent_mask, \n",
    "                                 percent_vaccinated)"
   ]
  },
  {
   "cell_type": "code",
   "execution_count": 82,
   "metadata": {},
   "outputs": [
    {
     "name": "stdout",
     "output_type": "stream",
     "text": [
      "CPU times: user 1min 16s, sys: 321 ms, total: 1min 17s\n",
      "Wall time: 1min 17s\n"
     ]
    }
   ],
   "source": [
    "%%time\n",
    "\n",
    "# fifty percent\n",
    "num_simulations=10\n",
    "num_steps=365\n",
    "world_size=25\n",
    "num_agents=250\n",
    "num_infected=5\n",
    "percent_distancing=0.0\n",
    "percent_mask=0.0\n",
    "percent_vaccinated=0.5\n",
    "\n",
    "# run simulations\n",
    "sim_counts_1_4e = run_simulations(num_simulations, \n",
    "                                 num_steps, \n",
    "                                 world_size, \n",
    "                                 num_agents, \n",
    "                                 num_infected, \n",
    "                                 percent_distancing, \n",
    "                                 percent_mask, \n",
    "                                 percent_vaccinated)"
   ]
  },
  {
   "cell_type": "code",
   "execution_count": 83,
   "metadata": {},
   "outputs": [
    {
     "name": "stdout",
     "output_type": "stream",
     "text": [
      "CPU times: user 1min 16s, sys: 249 ms, total: 1min 16s\n",
      "Wall time: 1min 16s\n"
     ]
    }
   ],
   "source": [
    "%%time\n",
    "\n",
    "# sixty percent\n",
    "num_simulations=10\n",
    "num_steps=365\n",
    "world_size=25\n",
    "num_agents=250\n",
    "num_infected=5\n",
    "percent_distancing=0.0\n",
    "percent_mask=0.0\n",
    "percent_vaccinated=0.6\n",
    "\n",
    "# run simulations\n",
    "sim_counts_1_4f = run_simulations(num_simulations, \n",
    "                                 num_steps, \n",
    "                                 world_size, \n",
    "                                 num_agents, \n",
    "                                 num_infected, \n",
    "                                 percent_distancing, \n",
    "                                 percent_mask, \n",
    "                                 percent_vaccinated)"
   ]
  },
  {
   "cell_type": "code",
   "execution_count": 88,
   "metadata": {},
   "outputs": [
    {
     "name": "stdout",
     "output_type": "stream",
     "text": [
      "CPU times: user 1min 16s, sys: 259 ms, total: 1min 16s\n",
      "Wall time: 1min 17s\n"
     ]
    }
   ],
   "source": [
    "%%time\n",
    "\n",
    "# seventy percent\n",
    "num_simulations=10\n",
    "num_steps=365\n",
    "world_size=25\n",
    "num_agents=250\n",
    "num_infected=5\n",
    "percent_distancing=0.0\n",
    "percent_mask=0.0\n",
    "percent_vaccinated=0.7\n",
    "\n",
    "# run simulations\n",
    "sim_counts_1_4g = run_simulations(num_simulations, \n",
    "                                 num_steps, \n",
    "                                 world_size, \n",
    "                                 num_agents, \n",
    "                                 num_infected, \n",
    "                                 percent_distancing, \n",
    "                                 percent_mask, \n",
    "                                 percent_vaccinated)"
   ]
  },
  {
   "cell_type": "code",
   "execution_count": 89,
   "metadata": {},
   "outputs": [
    {
     "name": "stdout",
     "output_type": "stream",
     "text": [
      "CPU times: user 1min 20s, sys: 306 ms, total: 1min 20s\n",
      "Wall time: 1min 21s\n"
     ]
    }
   ],
   "source": [
    "%%time\n",
    "\n",
    "# eighty percent\n",
    "num_simulations=10\n",
    "num_steps=365\n",
    "world_size=25\n",
    "num_agents=250\n",
    "num_infected=5\n",
    "percent_distancing=0.0\n",
    "percent_mask=0.0\n",
    "percent_vaccinated=0.8\n",
    "\n",
    "# run simulations\n",
    "sim_counts_1_4h = run_simulations(num_simulations, \n",
    "                                 num_steps, \n",
    "                                 world_size, \n",
    "                                 num_agents, \n",
    "                                 num_infected, \n",
    "                                 percent_distancing, \n",
    "                                 percent_mask, \n",
    "                                 percent_vaccinated)"
   ]
  },
  {
   "cell_type": "code",
   "execution_count": 78,
   "metadata": {},
   "outputs": [
    {
     "data": {
      "image/png": "[encoded data removed]",
      "text/plain": [
       "<Figure size 1440x720 with 1 Axes>"
      ]
     },
     "metadata": {
      "needs_background": "light"
     },
     "output_type": "display_data"
    }
   ],
   "source": [
    "# plot results\n",
    "plot_simulation_results(num_steps, sim_counts_1_4a)"
   ]
  },
  {
   "cell_type": "code",
   "execution_count": 79,
   "metadata": {},
   "outputs": [
    {
     "data": {
      "image/png": "[encoded data removed]",
      "text/plain": [
       "<Figure size 1440x720 with 1 Axes>"
      ]
     },
     "metadata": {
      "needs_background": "light"
     },
     "output_type": "display_data"
    }
   ],
   "source": [
    "# plot results\n",
    "plot_simulation_results(num_steps, sim_counts_1_4b)"
   ]
  },
  {
   "cell_type": "code",
   "execution_count": 80,
   "metadata": {},
   "outputs": [
    {
     "data": {
      "image/png": "[encoded data removed]",
      "text/plain": [
       "<Figure size 1440x720 with 1 Axes>"
      ]
     },
     "metadata": {
      "needs_background": "light"
     },
     "output_type": "display_data"
    }
   ],
   "source": [
    "# plot results\n",
    "plot_simulation_results(num_steps, sim_counts_1_4c)"
   ]
  },
  {
   "cell_type": "code",
   "execution_count": 84,
   "metadata": {},
   "outputs": [
    {
     "data": {
      "image/png": "[encoded data removed]",
      "text/plain": [
       "<Figure size 1440x720 with 1 Axes>"
      ]
     },
     "metadata": {
      "needs_background": "light"
     },
     "output_type": "display_data"
    }
   ],
   "source": [
    "# plot results\n",
    "plot_simulation_results(num_steps, sim_counts_1_4d)"
   ]
  },
  {
   "cell_type": "code",
   "execution_count": 85,
   "metadata": {},
   "outputs": [
    {
     "data": {
      "image/png": "[encoded data removed]",
      "text/plain": [
       "<Figure size 1440x720 with 1 Axes>"
      ]
     },
     "metadata": {
      "needs_background": "light"
     },
     "output_type": "display_data"
    }
   ],
   "source": [
    "# plot results\n",
    "plot_simulation_results(num_steps, sim_counts_1_4e)"
   ]
  },
  {
   "cell_type": "code",
   "execution_count": 86,
   "metadata": {
    "scrolled": false
   },
   "outputs": [
    {
     "data": {
      "image/png": "[encoded data removed]",
      "text/plain": [
       "<Figure size 1440x720 with 1 Axes>"
      ]
     },
     "metadata": {
      "needs_background": "light"
     },
     "output_type": "display_data"
    }
   ],
   "source": [
    "# plot results\n",
    "plot_simulation_results(num_steps, sim_counts_1_4f)"
   ]
  },
  {
   "cell_type": "code",
   "execution_count": 90,
   "metadata": {},
   "outputs": [
    {
     "data": {
      "image/png": "[encoded data removed]",
      "text/plain": [
       "<Figure size 1440x720 with 1 Axes>"
      ]
     },
     "metadata": {
      "needs_background": "light"
     },
     "output_type": "display_data"
    }
   ],
   "source": [
    "# plot results\n",
    "plot_simulation_results(num_steps, sim_counts_1_4g)"
   ]
  },
  {
   "cell_type": "code",
   "execution_count": 91,
   "metadata": {
    "scrolled": false
   },
   "outputs": [
    {
     "data": {
      "image/png": "[encoded data removed]",
      "text/plain": [
       "<Figure size 1440x720 with 1 Axes>"
      ]
     },
     "metadata": {
      "needs_background": "light"
     },
     "output_type": "display_data"
    }
   ],
   "source": [
    "# plot results\n",
    "plot_simulation_results(num_steps, sim_counts_1_4h)"
   ]
  },
  {
   "cell_type": "markdown",
   "metadata": {},
   "source": [
    "### Calculating answers to questions"
   ]
  },
  {
   "cell_type": "code",
   "execution_count": 94,
   "metadata": {},
   "outputs": [
    {
     "name": "stdout",
     "output_type": "stream",
     "text": [
      "('R', 218.6, 12.451505933018705)\n",
      "\n",
      "('R', 206.1, 14.362799170078235)\n",
      "\n",
      "('R', 189.1, 19.902009948746382)\n",
      "\n",
      "('R', 165.6, 26.276224995230955)\n",
      "\n",
      "('R', 169.3, 28.249070781177917)\n",
      "\n",
      "('R', 170.1, 15.129111011556494)\n",
      "\n",
      "('R', 190.9, 6.252199612936235)\n",
      "\n",
      "('R', 207.6, 2.4979991993593593)\n",
      "\n"
     ]
    }
   ],
   "source": [
    "print(get_metrics(num_steps, sim_counts_1_4a, 365)[0])\n",
    "print()\n",
    "print(get_metrics(num_steps, sim_counts_1_4b, 365)[0])\n",
    "print()\n",
    "print(get_metrics(num_steps, sim_counts_1_4c, 365)[0])\n",
    "print()\n",
    "print(get_metrics(num_steps, sim_counts_1_4d, 365)[0])\n",
    "print()\n",
    "print(get_metrics(num_steps, sim_counts_1_4e, 365)[0])\n",
    "print()\n",
    "print(get_metrics(num_steps, sim_counts_1_4f, 365)[0])\n",
    "print()\n",
    "print(get_metrics(num_steps, sim_counts_1_4g, 365)[0])\n",
    "print()\n",
    "print(get_metrics(num_steps, sim_counts_1_4h, 365)[0])\n",
    "print()"
   ]
  },
  {
   "cell_type": "code",
   "execution_count": 95,
   "metadata": {},
   "outputs": [
    {
     "name": "stdout",
     "output_type": "stream",
     "text": [
      "17\n",
      "[('R', 62.8, 1.9390719429665315), ('S', 100.8, 24.587801853764805), ('I', 31.0, 11.8911731969558), ('Q', 55.4, 15.704776343520464), ('D', 0.4, 0.66332495807108)] 86.4\n",
      "18\n",
      "[('R', 66.4, 3.6660605559646715), ('S', 96.6, 23.264565330132434), ('I', 30.0, 9.252026804976301), ('Q', 57.0, 17.326280616450838), ('D', 0.5, 0.6708203932499369)] 87.0\n",
      "19\n",
      "[('R', 72.2, 7.2636079189339515), ('S', 91.4, 23.247365442131287), ('I', 28.8, 8.681013765684282), ('Q', 57.6, 15.363593329686905), ('D', 0.5, 0.6708203932499369)] 86.4\n",
      "20\n",
      "[('R', 78.8, 9.99799979995999), ('S', 85.5, 21.676023620581336), ('I', 29.2, 8.795453370918409), ('Q', 56.5, 14.928161306738348), ('D', 0.5, 0.6708203932499369)] 85.7\n"
     ]
    }
   ],
   "source": [
    "# max is day 19\n",
    "for each in range(17,21):\n",
    "    print(each)\n",
    "    result = get_metrics(num_steps, sim_counts_1_4b, each)\n",
    "    sum = result[2][1] + result[3][1]\n",
    "    print(result, sum)"
   ]
  },
  {
   "cell_type": "code",
   "execution_count": 102,
   "metadata": {
    "scrolled": false
   },
   "outputs": [
    {
     "name": "stdout",
     "output_type": "stream",
     "text": [
      "50\n",
      "[('R', 200.2, 17.792133093027378), ('S', 43.7, 15.862219264655245), ('I', 2.0, 1.4832396974191326), ('Q', 4.1, 3.753664875824692), ('D', 0.8, 0.9797958971132713)] 6.1\n",
      "51\n",
      "[('R', 201.7, 17.181676286090365), ('S', 43.5, 15.56438241627338), ('I', 1.9, 1.7), ('Q', 2.9, 2.7367864366808017), ('D', 0.8, 0.9797958971132713)] 4.8\n",
      "52\n",
      "[('R', 202.4, 16.523922052587878), ('S', 43.4, 15.4220621189256), ('I', 1.8, 1.8330302779823362), ('Q', 2.4, 2.2449944320643644), ('D', 0.8, 0.9797958971132713)] 4.2\n",
      "53\n",
      "[('R', 203.2, 16.412190591142913), ('S', 43.3, 15.284305676084864), ('I', 1.8, 1.8330302779823362), ('Q', 1.7, 1.9519221295943134), ('D', 0.8, 0.9797958971132713)] 3.5\n",
      "54\n",
      "[('R', 203.7, 16.050233643159217), ('S', 43.2, 15.151237573214937), ('I', 1.6, 1.4966629547095764), ('Q', 1.5, 1.6881943016134133), ('D', 0.8, 0.9797958971132713)] 3.1\n",
      "55\n",
      "[('R', 203.8, 15.904716281656833), ('S', 43.2, 15.151237573214937), ('I', 1.4, 1.1135528725660044), ('Q', 1.6, 1.7435595774162695), ('D', 0.8, 0.9797958971132713)] 3.0\n",
      "56\n",
      "[('R', 204.1, 15.776247969653621), ('S', 43.2, 15.151237573214937), ('I', 1.3, 1.004987562112089), ('Q', 1.4, 1.6852299546352716), ('D', 0.8, 0.9797958971132713)] 2.7\n",
      "57\n",
      "[('R', 204.2, 15.683111936092274), ('S', 43.2, 15.151237573214937), ('I', 1.2, 0.9797958971132712), ('Q', 1.4, 1.9078784028338913), ('D', 0.8, 0.9797958971132713)] 2.5999999999999996\n",
      "58\n",
      "[('R', 204.4, 15.793669617919706), ('S', 43.2, 15.151237573214937), ('I', 1.2, 0.9797958971132712), ('Q', 1.2, 1.98997487421324), ('D', 0.8, 0.9797958971132713)] 2.4\n",
      "59\n",
      "[('R', 204.5, 15.64129150677782), ('S', 43.1, 15.022982393652732), ('I', 1.3, 1.004987562112089), ('Q', 1.1, 1.8138357147217055), ('D', 0.8, 0.9797958971132713)] 2.4000000000000004\n",
      "60\n",
      "[('R', 204.7, 15.659182609574486), ('S', 43.1, 15.022982393652732), ('I', 1.2, 0.8717797887081347), ('Q', 1.0, 1.6733200530681511), ('D', 0.8, 0.9797958971132713)] 2.2\n",
      "61\n",
      "[('R', 204.7, 15.659182609574486), ('S', 43.1, 15.022982393652732), ('I', 1.2, 0.8717797887081347), ('Q', 1.0, 1.6733200530681511), ('D', 0.8, 0.9797958971132713)] 2.2\n",
      "62\n",
      "[('R', 205.1, 15.26073392730507), ('S', 43.1, 15.022982393652732), ('I', 0.9, 0.9433981132056604), ('Q', 0.9, 1.8138357147217055), ('D', 0.8, 0.9797958971132713)] 1.8\n",
      "63\n",
      "[('R', 205.3, 15.244999180059013), ('S', 43.1, 15.022982393652732), ('I', 0.9, 0.9433981132056604), ('Q', 0.7, 1.7916472867168918), ('D', 0.8, 0.9797958971132713)] 1.6\n",
      "64\n",
      "[('R', 205.4, 15.363593329686905), ('S', 43.1, 15.022982393652732), ('I', 0.9, 0.9433981132056604), ('Q', 0.6, 1.8000000000000003), ('D', 0.8, 0.9797958971132713)] 1.5\n",
      "65\n",
      "[('R', 205.5, 15.20690632574555), ('S', 43.1, 15.022982393652732), ('I', 0.8, 0.9797958971132713), ('Q', 0.6, 1.8000000000000003), ('D', 0.8, 0.9797958971132713)] 1.4\n",
      "66\n",
      "[('R', 205.7, 14.906709898565813), ('S', 43.1, 15.022982393652732), ('I', 0.8, 0.9797958971132713), ('Q', 0.4, 1.2000000000000002), ('D', 0.8, 0.9797958971132713)] 1.2000000000000002\n",
      "67\n",
      "[('R', 205.8, 14.76346842716846), ('S', 43.1, 15.022982393652732), ('I', 0.8, 0.9797958971132713), ('Q', 0.3, 0.9000000000000001), ('D', 0.8, 0.9797958971132713)] 1.1\n",
      "68\n",
      "[('R', 205.9, 14.624978632463023), ('S', 43.1, 15.022982393652732), ('I', 0.8, 0.9797958971132713), ('Q', 0.2, 0.6000000000000001), ('D', 0.8, 0.9797958971132713)] 1.0\n",
      "69\n",
      "[('R', 206.0, 14.491376746189438), ('S', 43.1, 15.022982393652732), ('I', 0.8, 0.9797958971132713), ('Q', 0.1, 0.30000000000000004), ('D', 0.8, 0.9797958971132713)] 0.9\n",
      "70\n",
      "[('R', 206.0, 14.491376746189438), ('S', 43.1, 15.022982393652732), ('I', 0.8, 0.9797958971132713), ('Q', 0.1, 0.30000000000000004), ('D', 0.8, 0.9797958971132713)] 0.9\n",
      "71\n",
      "[('R', 206.0, 14.491376746189438), ('S', 43.1, 15.022982393652732), ('I', 0.8, 0.9797958971132713), ('Q', 0.1, 0.30000000000000004), ('D', 0.8, 0.9797958971132713)] 0.9\n",
      "72\n",
      "[('R', 206.0, 14.491376746189438), ('S', 43.1, 15.022982393652732), ('I', 0.8, 0.9797958971132713), ('Q', 0.1, 0.30000000000000004), ('D', 0.8, 0.9797958971132713)] 0.9\n",
      "73\n",
      "[('R', 206.0, 14.491376746189438), ('S', 43.1, 15.022982393652732), ('I', 0.8, 0.9797958971132713), ('Q', 0.1, 0.30000000000000004), ('D', 0.8, 0.9797958971132713)] 0.9\n",
      "74\n",
      "[('R', 206.1, 14.362799170078235), ('S', 43.1, 15.022982393652732), ('I', 0.8, 0.9797958971132713), ('Q', 0.0, 0.0), ('D', 0.8, 0.9797958971132713)] 0.8\n"
     ]
    }
   ],
   "source": [
    "# max is day 19\n",
    "for each in range(50,75):\n",
    "    print(each)\n",
    "    result = get_metrics(num_steps, sim_counts_1_4b, each)\n",
    "    sum = result[2][1] + result[3][1]\n",
    "    print(result, sum)"
   ]
  },
  {
   "cell_type": "code",
   "execution_count": 103,
   "metadata": {},
   "outputs": [
    {
     "name": "stdout",
     "output_type": "stream",
     "text": [
      "[('R', 206.1, 14.362799170078235), ('S', 43.1, 15.022982393652732), ('I', 0.8, 0.9797958971132713), ('Q', 0.0, 0.0), ('D', 0.8, 0.9797958971132713)]\n"
     ]
    }
   ],
   "source": [
    "print(get_metrics(num_steps, sim_counts_1_4b, 365))"
   ]
  }
 ],
 "metadata": {
  "colab": {
   "collapsed_sections": [],
   "name": "02-518/02-718 Homework 4 Template",
   "provenance": []
  },
  "kernelspec": {
   "display_name": "Python 3",
   "language": "python",
   "name": "python3"
  },
  "language_info": {
   "codemirror_mode": {
    "name": "ipython",
    "version": 3
   },
   "file_extension": ".py",
   "mimetype": "text/x-python",
   "name": "python",
   "nbconvert_exporter": "python",
   "pygments_lexer": "ipython3",
   "version": "3.6.12"
  }
 },
 "nbformat": 4,
 "nbformat_minor": 1
}
