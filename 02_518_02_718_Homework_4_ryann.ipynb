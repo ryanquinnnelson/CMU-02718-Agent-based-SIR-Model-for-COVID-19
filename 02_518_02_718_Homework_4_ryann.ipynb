{
 "cells": [
  {
   "cell_type": "markdown",
   "metadata": {
    "id": "H0zzS9dpUpNM"
   },
   "source": [
    "# Question 1\n",
    "## Part 1.1 Implement an agent-based model \n",
    "\n",
    "You can use the following template or feel free to implement your own program. Please refer to the handout for details about parameters settings. "
   ]
  },
  {
   "cell_type": "code",
   "execution_count": 24,
   "metadata": {},
   "outputs": [],
   "source": [
    "import random\n",
    "import numpy as np\n",
    "import matplotlib.pyplot as plt\n",
    "from IPython.display import display, clear_output\n",
    "\n",
    "def is_event(num_event, num_outcomes):\n",
    "    '''\n",
    "    If an event has a 25% chance, num_event = 1 and num_outcomes = 4\n",
    "    Returns true if event is selected from outcomes, False otherwise.\n",
    "    '''\n",
    "    return random.randint(num_event,num_outcomes) == num_event"
   ]
  },
  {
   "cell_type": "markdown",
   "metadata": {},
   "source": [
    "#### Test check_success"
   ]
  },
  {
   "cell_type": "code",
   "execution_count": 27,
   "metadata": {},
   "outputs": [
    {
     "name": "stdout",
     "output_type": "stream",
     "text": [
      "0.000106\n"
     ]
    }
   ],
   "source": [
    "event_counter = 0\n",
    "a = 5000000\n",
    "for i in range(a):\n",
    "    if is_event(1,10000):\n",
    "        event_counter += 1\n",
    "print(event_counter/a)"
   ]
  },
  {
   "cell_type": "code",
   "execution_count": null,
   "metadata": {
    "id": "d4brKchREiYS"
   },
   "outputs": [],
   "source": [
    "#?? percent_mask\n",
    "#?? percent_distancing\n",
    "\n",
    "class Agent:\n",
    "    '''\n",
    "    Allowable statuses: (R) Recovered\n",
    "                        (S) Susceptible to Infection\n",
    "                        (I) Infected\n",
    "                        (Q) Quarantined\n",
    "                        \n",
    "    Asymptomatic:  True if agent is asymptomatic when infected\n",
    "    Distancing: True if agent is physically distancing\n",
    "    Mask: True if agent is wearing a mask\n",
    "    '''\n",
    "    statuses = ['R', 'S', 'I', 'Q'] # allowable statuses\n",
    "    days_infected = 0    # How long agent has been infected, if currently infected\n",
    "\n",
    "    def __init__(self, \n",
    "                 position, \n",
    "                 status, \n",
    "                 asymptomatic, \n",
    "                 mask, \n",
    "                 distancing, \n",
    "                 percent_mask, \n",
    "                 percent_distancing):\n",
    "    \"\"\"\n",
    "    Initialize an agent. \n",
    "\n",
    "    \"\"\"\n",
    "    # position (x,y)\n",
    "    self.position=position\n",
    "    \n",
    "    # status\n",
    "    if status in statuses:\n",
    "        self.status = status\n",
    "        \n",
    "    # qualities\n",
    "    self.asymptomatic = asymptomatic\n",
    "    self.mask = mask\n",
    "    self.distancing = distancing \n",
    "    \n",
    "    \n",
    "    def is_infected(self, adjacent_infected, adjacent_masked):\n",
    "        '''\n",
    "        Returns True if the agent is now infected, given whether\n",
    "        the adjacent is infected and masked and whether the agent\n",
    "        is masked, False otherwise.\n",
    "        ''' \n",
    "        infected = False\n",
    "        \n",
    "        # agent has a chance of infection if adjacent is infected\n",
    "        if adjacent_infected:\n",
    "            \n",
    "            # infection probability depends on mask status of both\n",
    "            if self.mask and adjacent_masked: \n",
    "                \n",
    "                if is_event(1,10000): # 0.01% chance\n",
    "                    infected = True\n",
    "                    \n",
    "            elif self.mask or adjacent_masked: \n",
    "                \n",
    "                if is_event(1,100):  # 1% chance\n",
    "                    infected = True\n",
    "                    \n",
    "            else:  \n",
    "                \n",
    "                if is_event(1,4):   # 25% chance\n",
    "                    infected = True\n",
    "            \n",
    "        return infected\n",
    "            \n",
    "    \n",
    "    def is_asymptomatic(self):\n",
    "        '''\n",
    "        Returns True if agent is asymptomatic, False otherwise.\n",
    "        '''\n",
    "        return is_event(1,5): # 20% chance of being asymptomatic\n",
    "        \n",
    "    \n",
    "    def will_quarantine(self):\n",
    "        '''       \n",
    "        Returns True if the agent has been infected for \n",
    "        at least 3 days and is symptomatic, False otherwise.\n",
    "        '''       \n",
    "        return self.days_infected > 2 and not self.asymptomatic:\n",
    "\n",
    "        \n",
    "    \n",
    "    def infection_over(self):\n",
    "        '''\n",
    "        Returns True if the agent has been infected for at\n",
    "        least 15 days, False otherwise\n",
    "        '''\n",
    "        return self.days_infected > 14:\n",
    "                \n",
    "    \n",
    "    def update_status(self,adjacent_infected, adjacent_masked):\n",
    "        '''\n",
    "        Checks whether modification to the agent's status \n",
    "        are needed based on giv\n",
    "        '''\n",
    "        \n",
    "        if status is 'S': # not yet infected\n",
    "            \n",
    "            if is_infected(adjacent_infected, adjacent_masked):\n",
    "                self.status = 'I'\n",
    "                \n",
    "        elif status is 'I': # already infected\n",
    "            \n",
    "            if will_quarantine():\n",
    "                self.status = 'Q'\n",
    "        \n",
    "            if infection_over():\n",
    "                self.status = 'R'\n",
    "                \n",
    "        elif status is 'Q': # already in quarantine\n",
    "            \n",
    "            if infection_over():\n",
    "                self.status = 'R'\n",
    "            \n",
    "            \n",
    "        \n",
    "        \n",
    "    \n",
    "    def update_agent(self, new_x,\n",
    "                     new_y,\n",
    "                     adjacent_infected,\n",
    "                     adjacent_masked):\n",
    "        \n",
    "        # update position\n",
    "        self.x = new_x\n",
    "        self.y = new_y\n",
    "        \n",
    "        # update status\n",
    "        status_before = self.status\n",
    "        update_status(adjacent_infected, adjacent_masked)\n",
    "        \n",
    "         # if now infected, check if asymptomatic\n",
    "        if status_before not 'I' and self.status is 'I':\n",
    "                       \n",
    "            if is_asymptomatic():\n",
    "                self.asymptomatic = True\n",
    "                \n",
    "            \n",
    "            \n",
    "        \n",
    "        \n",
    "        # update infection counter\n",
    "        if status is 'I':\n",
    "            days_infected += 1\n",
    "            \n",
    "        \n",
    "    \n",
    "    \n",
    "    \n",
    "    \n",
    "\n",
    "\n"
   ]
  },
  {
   "cell_type": "markdown",
   "metadata": {},
   "source": [
    "#### Test Agent class"
   ]
  },
  {
   "cell_type": "code",
   "execution_count": null,
   "metadata": {},
   "outputs": [],
   "source": []
  },
  {
   "cell_type": "code",
   "execution_count": null,
   "metadata": {},
   "outputs": [],
   "source": [
    "class ABM:\n",
    "  directions = [[-1,0], # left\n",
    "                [1,0], # right\n",
    "                [0,-1], # up\n",
    "                [0,1], # down\n",
    "                [-1,-1], # left & up\n",
    "                [-1,1], # left & down\n",
    "                [1,-1], # right & up\n",
    "                [1,1]] # right & down\n",
    "\n",
    "  statusColors = {'R': 'r', 'S': 'b', 'I': 'g', 'Q': 'k', 'D': 'm'}\n",
    "\n",
    "  def __init__(self, n, m, num_infected, percent_distancing, percent_mask, percent_vaccinated = 0):\n",
    "    \"\"\"\n",
    "    Initialize the world and agents in the world. \n",
    "\n",
    "    Parameters:\n",
    "      n: size of the world\n",
    "      m: number of agents \n",
    "    \n",
    "    \"\"\"\n",
    "           \n",
    "  def moveAgent(self, agent):\n",
    "    \"\"\"\n",
    "    Move an agent and update status based on conditions. \n",
    "\n",
    "    \"\"\"\n",
    "    \n",
    "    \n",
    "    \n",
    "    \n",
    "\n",
    "  def addCounts(self):\n",
    "      counts = {'R': self.num_recovered, 'D': self.num_dead, 'I': self.num_infected, 'S': self.num_susceptible, 'Q': self.num_quarantine}\n",
    "      self.counts.append(counts)\n",
    "\n",
    "  def runSimulation(self, num_steps):\n",
    "    for t in range(num_steps):\n",
    "      for agent in self.agents:\n",
    "        self.moveAgent(agent)\n",
    "      \n",
    "      self.addCounts()\n",
    "    \n",
    "    return self.counts\n",
    "\n",
    " \n",
    "  def runAndVisualizeSimulation(self, num_steps):\n",
    "    \"\"\"\n",
    "    Helper function for de-bugging. \n",
    "    \n",
    "    \"\"\"\n",
    "\n",
    "    fig = plt.figure()\n",
    "    ax = fig.add_subplot(1,1,1)\n",
    "\n",
    "    for t in range(num_steps):\n",
    "      ax.cla()\n",
    "      \n",
    "      for agent in self.agents:\n",
    "        self.moveAgent(agent)\n",
    "        c = self.statusColors[agent.status]\n",
    "        m = 'o' if agent.is_distancing else 's'\n",
    "\n",
    "        ax.scatter(agent.x, agent.y, c=c, marker=m)\n",
    "\n",
    "      ax.grid(True)\n",
    "      ax.set_xticks(list(range(self.n)))\n",
    "      ax.set_yticks(list(range(self.n)))  \n",
    "\n",
    "      display(fig)\n",
    "      clear_output(wait=True)\n",
    "\n",
    "      plt.pause(5)"
   ]
  },
  {
   "cell_type": "code",
   "execution_count": null,
   "metadata": {
    "id": "qpnjzgwUOXcQ"
   },
   "outputs": [],
   "source": [
    " def runAndPlotSimulations(num_simulations, num_steps, world_size, num_agents, num_infected, percent_distancing, percent_mask, percent_vaccinated):\n",
    "    sim_counts = []\n",
    "    for i in range(num_simulations):\n",
    "      model = ABM(world_size, num_agents, num_infected, percent_distancing, percent_mask, percent_vaccinated)\n",
    "      counts = model.runSimulation(num_steps)\n",
    "      sim_counts.append(counts)\n",
    "\n",
    "\n",
    "    statusColors = {'R': 'r', 'S': 'b', 'I': 'g', 'Q': 'k', 'D': 'm'}\n",
    "    fig, ax = plt.subplots(figsize=(20, 10))\n",
    "    x = list(range(num_steps))\n",
    "\n",
    "    for status in ['R', 'S', 'I', 'Q', 'D']:\n",
    "      avgs = []\n",
    "      errs = []\n",
    "      for j in range(num_steps):\n",
    "        stats = np.array([counts[j][status] for counts in sim_counts])\n",
    "        avgs.append(np.mean(stats))\n",
    "        errs.append(np.std(stats))\n",
    "\n",
    "      ax.errorbar(x,avgs,yerr=errs, fmt=statusColors[status], label=status)\n",
    "\n",
    "    ax.legend(loc=\"upper left\", bbox_to_anchor=(1, 0.5))\n",
    "    plt.show()"
   ]
  },
  {
   "cell_type": "markdown",
   "metadata": {
    "id": "au-iJk4-W3P_"
   },
   "source": [
    "## 1.2 Run 10 simulations, each of which tracks 250 agents over 365 days in a 25 x 25 world with the following initial conditions: \n",
    "\n",
    "* 5 infected agents (I), the rest are susceptible (S)\n",
    "* 0% of agents wear masks\n",
    "* 0% of agents practice physical distancing\n",
    "\n",
    "Keep track of the number of S, I,Q,R, and D agents over time in each simulation. Plot the averages of these trajectories with standard error bars. \n",
    "What is the final value of R?\n",
    "What is the peak number of active cases (I+Q)? \n",
    "How many days does it take for the virus to go extinct (i.e. I+Q=0)? \n"
   ]
  },
  {
   "cell_type": "code",
   "execution_count": null,
   "metadata": {
    "id": "7HqPHPgoYqj6"
   },
   "outputs": [],
   "source": [
    "# runAndPlotSimulations(10, 365, 25, 250, num_infected, percent_distancing, percent_mask, percent_vaccinated)"
   ]
  },
  {
   "cell_type": "markdown",
   "metadata": {
    "id": "5wrdY0rtY8gl"
   },
   "source": [
    "## 1.3 Run 10 simulations, each of which tracks 250 agents over 365 days in a 25 x 25 world with the following initial conditions: \n",
    "\n",
    "\n",
    "*   5 infected agents (I), the rest are susceptible (S)\n",
    "*   p% of agents wear masks\n",
    "*   p% of agents practice physical distancing\n",
    "\n",
    "Keep track of the number of S, I,Q,R, and D agents over time in each simulation. Plot the averages of these trajectories with standard error bars. \n",
    "What value of p reduces the final value of R to roughly half of the final value of R you obtained for part 1.2?\n",
    "What is the final value of R?\n",
    "What is the peak number of active cases (I+Q)? \n",
    "How many days does it take for the virus to go extinct (i.e. I+Q=0)? "
   ]
  },
  {
   "cell_type": "code",
   "execution_count": null,
   "metadata": {
    "id": "P8lA2NpqY8Mq"
   },
   "outputs": [],
   "source": [
    "# runAndPlotSimulations(10, 365, 25, 250, num_infected, percent_distancing, percent_mask, percent_vaccinated)"
   ]
  },
  {
   "cell_type": "markdown",
   "metadata": {
    "id": "RiLt650YZetp"
   },
   "source": [
    "## 1.4 Run 10 simulations, each of which tracks 250 agents over 365 days in a 25 x 25 world with the following initial conditions: \n",
    "\n",
    "\n",
    "*   5 infected agents (I), p% of agents have been vaccinated (i.e., start in state R), the rest are susceptible (S)\n",
    "*   0% of agents wear masks\n",
    "*   0% of agents practice physical distancing\n",
    "\n",
    "\n",
    "Keep track of the number of S, I,Q,R, and D agents over time in each simulation. Plot the averages of these trajectories with standard errors. \n",
    "What value of p reduces the peak number of active cases (I+Q) to roughly half of the final value of (I+Q) you obtained for part 1.2?\n",
    "What is the final value of R?\n",
    "What is the peak number of active cases (I+Q)? \n",
    "How many days does it take for the virus to go extinct (i.e. I+Q=0)? "
   ]
  },
  {
   "cell_type": "code",
   "execution_count": null,
   "metadata": {
    "id": "fX_rIBLNZeJh"
   },
   "outputs": [],
   "source": [
    "# runAndPlotSimulations(10, 365, 25, 250, num_infected, percent_distancing, percent_mask, percent_vaccinated)"
   ]
  }
 ],
 "metadata": {
  "colab": {
   "collapsed_sections": [],
   "name": "02-518/02-718 Homework 4 Template",
   "provenance": []
  },
  "kernelspec": {
   "display_name": "Python 3",
   "language": "python",
   "name": "python3"
  },
  "language_info": {
   "codemirror_mode": {
    "name": "ipython",
    "version": 3
   },
   "file_extension": ".py",
   "mimetype": "text/x-python",
   "name": "python",
   "nbconvert_exporter": "python",
   "pygments_lexer": "ipython3",
   "version": "3.8.5"
  }
 },
 "nbformat": 4,
 "nbformat_minor": 1
}
