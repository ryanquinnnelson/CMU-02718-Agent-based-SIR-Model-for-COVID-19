{
 "cells": [
  {
   "cell_type": "markdown",
   "metadata": {
    "id": "H0zzS9dpUpNM"
   },
   "source": [
    "# Question 1\n",
    "## Part 1.1 Implement an agent-based model \n",
    "\n",
    "You can use the following template or feel free to implement your own program. Please refer to the handout for details about parameters settings. "
   ]
  },
  {
   "cell_type": "code",
   "execution_count": 195,
   "metadata": {},
   "outputs": [],
   "source": [
    "import random\n",
    "import numpy as np\n",
    "import matplotlib.pyplot as plt\n",
    "from IPython.display import display, clear_output"
   ]
  },
  {
   "cell_type": "markdown",
   "metadata": {},
   "source": [
    "#### Define Agent class"
   ]
  },
  {
   "cell_type": "code",
   "execution_count": 196,
   "metadata": {
    "id": "d4brKchREiYS"
   },
   "outputs": [],
   "source": [
    "class Agent:\n",
    "    '''\n",
    "    Allowable statuses: (R) Recovered\n",
    "                        (S) Susceptible to Infection\n",
    "                        (I) Infected\n",
    "                        (Q) Quarantined\n",
    "                        \n",
    "    Asymptomatic:  True if agent is asymptomatic when infected\n",
    "    Distancing: True if agent is physically distancing\n",
    "    Mask: True if agent is wearing a mask\n",
    "    '''\n",
    "    statuses = ['R', 'S', 'I', 'Q'] # allowable statuses\n",
    "    days_infected = 0    # How long agent has been infected, if currently infected\n",
    "    \n",
    "    def __init__(self, \n",
    "                 position, \n",
    "                 status,  \n",
    "                 mask, \n",
    "                 distancing):\n",
    "        '''\n",
    "        Initialize an agent.\n",
    "        '''\n",
    "        # position (x,y)\n",
    "        self.position = position\n",
    "\n",
    "        # status\n",
    "        if status in self.statuses:\n",
    "            self.status = status\n",
    "        else:\n",
    "            raise ValueError('status: ' + status + ' is not valid.')\n",
    "\n",
    "        # possibly asymptomatic if infected\n",
    "        if status == 'I':\n",
    "            if self.is_asymptomatic():\n",
    "                 self.asymptomatic = True\n",
    "            else:\n",
    "                self.asymptomatic = False\n",
    "        else:\n",
    "            self.asymptomatic = False \n",
    "                            \n",
    "        self.mask = mask\n",
    "        self.distancing = distancing \n",
    "        \n",
    "    \n",
    "    def is_event(self, num_event, num_outcomes):\n",
    "        '''\n",
    "        If an event has a 25% chance, num_event = 1 and num_outcomes = 4\n",
    "        Returns true if event is selected from outcomes, False otherwise.\n",
    "        '''\n",
    "        return random.randint(1,num_outcomes) <= num_event\n",
    "    \n",
    "    \n",
    "    def is_infected(self, adjacent_agents):\n",
    "        '''\n",
    "        Returns True if the agent is now infected, given whether\n",
    "        an adjacent agent is infected or masked and whether the \n",
    "        agent is masked. False otherwise.\n",
    "        \n",
    "        Check is performed for each agent adjacent to this agent. \n",
    "        ''' \n",
    "        infected = False\n",
    "        \n",
    "        # perform check for all adjacent agents\n",
    "        for adjacent in adjacent_agents:\n",
    "        \n",
    "            # chance of infection if an adjacent agent is infected\n",
    "            if adjacent.status == 'I':\n",
    "\n",
    "                # infection probability depends on mask status of both\n",
    "                if self.mask and adjacent.mask: \n",
    "\n",
    "                    if self.is_event(1,10000): # 0.01% chance\n",
    "                        infected = True\n",
    "\n",
    "                elif self.mask or adjacent.mask: \n",
    "\n",
    "                    if self.is_event(1,100):  # 1% chance\n",
    "                        infected = True\n",
    "\n",
    "                else:  \n",
    "\n",
    "                    if self.is_event(1,4):   # 25% chance\n",
    "                        infected = True\n",
    "            \n",
    "        return infected\n",
    "            \n",
    "    \n",
    "    def is_asymptomatic(self):\n",
    "        '''\n",
    "        Returns True if agent is asymptomatic, False otherwise.\n",
    "        '''\n",
    "        return self.is_event(1,5) # 20% chance of being asymptomatic\n",
    "        \n",
    "    \n",
    "    def will_quarantine(self):\n",
    "        '''       \n",
    "        Returns True if the agent has been infected for \n",
    "        at least 3 days and is symptomatic, False otherwise.\n",
    "        '''       \n",
    "        return self.days_infected > 2 and not self.asymptomatic\n",
    "\n",
    "        \n",
    "    \n",
    "    def infection_over(self):\n",
    "        '''\n",
    "        Returns True if the agent has been infected for at\n",
    "        least 15 days, False otherwise\n",
    "        '''\n",
    "        return self.days_infected > 14\n",
    "                \n",
    "    \n",
    "    def update_status(self, adjacent_agents):\n",
    "        '''\n",
    "        Checks whether modification to the agent's status \n",
    "        is needed, and updates the status as necessary.\n",
    "        '''\n",
    "        \n",
    "        if self.status == 'S': # not yet infected\n",
    "            \n",
    "            if self.is_infected(adjacent_agents):\n",
    "                self.status = 'I'\n",
    "                \n",
    "        elif self.status == 'I': # already infected\n",
    "            \n",
    "            if self.will_quarantine():\n",
    "                self.status = 'Q'\n",
    "        \n",
    "            if self.infection_over():\n",
    "                self.status = 'R'\n",
    "                \n",
    "        elif self.status == 'Q': # already in quarantine\n",
    "            \n",
    "            if self.infection_over():\n",
    "                self.status = 'R'\n",
    "            \n",
    "            \n",
    "    def update_agent(self, new_position, adjacent_agents):\n",
    "        '''\n",
    "        Updates all agent fields based on given position and \n",
    "        adjacent agents.\n",
    "        '''\n",
    "        \n",
    "        # update position\n",
    "        self.position = new_position\n",
    "        \n",
    "        # update days infected if already infected\n",
    "        if self.status == 'I' or self.status == 'Q':\n",
    "            self.days_infected += 1 # day passed since infection started            \n",
    "        \n",
    "        # update status\n",
    "        status_before = self.status\n",
    "        self.update_status(adjacent_agents)\n",
    "        \n",
    "         # if now infected, determine if asymptomatic\n",
    "        if status_before != 'I' and self.status == 'I':\n",
    "            self.asymptomatic = self.is_asymptomatic()\n",
    "            \n",
    "        elif status_before != 'R' and self.status == 'R':\n",
    "            \n",
    "            # reset metrics related to infection\n",
    "            self.days_infected = 0\n",
    "            self.asymptomatic = False\n",
    "            \n",
    "    \n",
    "    def __str__(self):  \n",
    "        return  'Agent{'+'position:'+ str(self.position)+', status:'+ str(self.status)+', mask:'+ str(self.mask)+', distancing:'+ str(self.distancing)+', days_infected:'+ str(self.days_infected)+', asymptomatic:'+ str(self.asymptomatic)+'}'      \n",
    "    \n",
    "    \n",
    "    def has_died(self):\n",
    "        '''\n",
    "        Return True if agent dies due to infection, False otherwise.\n",
    "        '''  \n",
    "        return self.status == 'I' and self.is_event(2,1000) #0.2% chance\n",
    "    "
   ]
  },
  {
   "cell_type": "markdown",
   "metadata": {},
   "source": [
    "#### Test Agent class"
   ]
  },
  {
   "cell_type": "code",
   "execution_count": 197,
   "metadata": {},
   "outputs": [
    {
     "name": "stdout",
     "output_type": "stream",
     "text": [
      "Test constructor\n",
      "Agent{position:(1, 1), status:I, mask:True, distancing:True, days_infected:0, asymptomatic:True}\n"
     ]
    }
   ],
   "source": [
    "print(\"Test constructor\")\n",
    "a1 = Agent((1,1), 'I', mask=True, distancing=True)\n",
    "print(a1)\n",
    "\n",
    "# check provided parameters\n",
    "assert a1.position == (1,1)\n",
    "assert a1.status == 'I'\n",
    "assert a1.mask == True\n",
    "assert a1.distancing == True\n",
    "assert a1.days_infected == 0\n",
    "\n",
    "\n",
    "# check derived parameters\n",
    "num = 100000\n",
    "counter = 0\n",
    "for i in range(num):\n",
    "    a1 = Agent((1,1), 'I', mask=True, distancing=True)\n",
    "    if a1.asymptomatic == True:\n",
    "        counter += 1\n",
    "assert round(counter/num,2) == 0.20"
   ]
  },
  {
   "cell_type": "code",
   "execution_count": 198,
   "metadata": {},
   "outputs": [
    {
     "name": "stdout",
     "output_type": "stream",
     "text": [
      "Test is_event()\n"
     ]
    }
   ],
   "source": [
    "print('Test is_event()')\n",
    "a1 = Agent((1,1), 'I', mask=True, distancing=True)\n",
    "\n",
    "num = 100000\n",
    "counter = 0\n",
    "for i in range(num):\n",
    "    if a1.is_event(1,10000):\n",
    "        counter += 1\n",
    "assert round(counter/num,4) == 0.0001, 'Failed with ' + str(round(counter/num,4))\n",
    "\n",
    "counter = 0\n",
    "for i in range(num):\n",
    "    if a1.is_event(1,100):\n",
    "        counter += 1\n",
    "assert round(counter/num,2) == 0.01\n",
    "\n",
    "counter = 0\n",
    "for i in range(num):\n",
    "    if a1.is_event(1,4):\n",
    "        counter += 1\n",
    "assert round(counter/num,2) == 0.25\n",
    "\n",
    "counter = 0\n",
    "for i in range(num):\n",
    "    if a1.is_event(2,1000):\n",
    "        counter += 1\n",
    "assert round(counter/num,3) == 0.002, 'Failed with ' + str(round(counter/num,3))"
   ]
  },
  {
   "cell_type": "code",
   "execution_count": 199,
   "metadata": {},
   "outputs": [
    {
     "name": "stdout",
     "output_type": "stream",
     "text": [
      "Test is_asymptomatic()\n"
     ]
    }
   ],
   "source": [
    "print('Test is_asymptomatic()')\n",
    "\n",
    "counter = 0\n",
    "for i in range(num):\n",
    "    if a1.is_asymptomatic():\n",
    "        counter += 1\n",
    "assert round(counter/num,2) == 0.20"
   ]
  },
  {
   "cell_type": "code",
   "execution_count": 200,
   "metadata": {},
   "outputs": [
    {
     "name": "stdout",
     "output_type": "stream",
     "text": [
      "Test will_quarantine()\n"
     ]
    }
   ],
   "source": [
    "print('Test will_quarantine()')\n",
    "\n",
    "a2 = Agent((0,1), 'I', mask=True, distancing=True)\n",
    "\n",
    "# possibility of quarantine when symptomatic\n",
    "a2.asymptomatic = False\n",
    "\n",
    "a2.days_infected = 2\n",
    "assert a2.will_quarantine() == False\n",
    "\n",
    "a2.days_infected = 3\n",
    "assert a2.will_quarantine() == True\n",
    "\n",
    "a2.days_infected = 4\n",
    "assert a2.will_quarantine() == True\n",
    "\n",
    "\n",
    "# when asymptomatic, will not quarantine\n",
    "a2.asymptomatic = True\n",
    "a2.days_infected = 2\n",
    "assert a2.will_quarantine() == False\n",
    "\n",
    "a2.days_infected = 3\n",
    "assert a2.will_quarantine() == False\n",
    "\n",
    "a2.days_infected = 4\n",
    "assert a2.will_quarantine() == False\n"
   ]
  },
  {
   "cell_type": "code",
   "execution_count": 201,
   "metadata": {},
   "outputs": [
    {
     "name": "stdout",
     "output_type": "stream",
     "text": [
      "Test infection_over()\n"
     ]
    }
   ],
   "source": [
    "print('Test infection_over()')\n",
    "a3 = Agent((0,1), 'I', mask=True, distancing=True)\n",
    "a3.days_infected = 13\n",
    "assert a3.infection_over() == False\n",
    "\n",
    "a3.days_infected = 14\n",
    "assert a3.infection_over() == False\n",
    "\n",
    "a3.days_infected = 15\n",
    "assert a3.infection_over() == True\n"
   ]
  },
  {
   "cell_type": "code",
   "execution_count": 202,
   "metadata": {},
   "outputs": [
    {
     "name": "stdout",
     "output_type": "stream",
     "text": [
      "Test is_infected()\n"
     ]
    }
   ],
   "source": [
    "print('Test is_infected()')\n",
    "a1 = Agent((1,1), 'S', mask=True, distancing=True)\n",
    "a2 = Agent((0,1), 'I', mask=True, distancing=True)\n",
    "\n",
    "# test 1 adjacent, 1 infected, both masked\n",
    "a1.mask = True\n",
    "a2.mask = True\n",
    "num = 100000\n",
    "counter = 0\n",
    "for i in range(num):\n",
    "    if a1.is_infected([a2]):\n",
    "        counter += 1\n",
    "assert round(counter/num,4) == 0.0001\n",
    "\n",
    "# test 1 adjacent, 1 infected, only agent masked\n",
    "a1.mask = True\n",
    "a2.mask = False\n",
    "counter = 0\n",
    "for i in range(num):\n",
    "    if a1.is_infected([a2]):\n",
    "        counter += 1\n",
    "assert round(counter/num,2) == 0.01\n",
    "\n",
    "# test 1 adjacent, 1 infected, only adjacent masked\n",
    "a1.mask = False\n",
    "a2.mask = True\n",
    "counter = 0\n",
    "for i in range(num):\n",
    "    if a1.is_infected([a2]):\n",
    "        counter += 1\n",
    "assert round(counter/num,2) == 0.01\n",
    "\n",
    "# test 1 adjacent, 1 infected, no masks\n",
    "a1.mask = False\n",
    "a2.mask = False\n",
    "counter = 0\n",
    "for i in range(num):\n",
    "    if a1.is_infected([a2]):\n",
    "        counter += 1\n",
    "assert round(counter/num,2) == 0.25"
   ]
  },
  {
   "cell_type": "code",
   "execution_count": 203,
   "metadata": {},
   "outputs": [
    {
     "name": "stdout",
     "output_type": "stream",
     "text": [
      "Test is_infected()\n"
     ]
    }
   ],
   "source": [
    "print('Test is_infected()')\n",
    "a3 = Agent((1,2), 'R', mask=True, distancing=True)\n",
    "\n",
    "# test 2 adjacent, 1 infected, all masked\n",
    "a1.mask = True\n",
    "a2.mask = True\n",
    "a3.mask = True\n",
    "counter = 0\n",
    "for i in range(num):\n",
    "    if a1.is_infected([a2,a3]):\n",
    "        counter += 1\n",
    "assert round(counter/num,4) == 0.0001\n",
    "\n",
    "# test 2 adjacent, 1 infected, only agent masked\n",
    "a1.mask = True\n",
    "a2.mask = False\n",
    "a3.mask = False\n",
    "counter = 0\n",
    "for i in range(num):\n",
    "    if a1.is_infected([a2,a3]):\n",
    "        counter += 1\n",
    "assert round(counter/num,2) == 0.01\n",
    "\n",
    "# test 2 adjacent, 1 infected, no one masked\n",
    "a2.mask = False\n",
    "a3.mask = False\n",
    "a1.mask = False\n",
    "counter = 0\n",
    "for i in range(num):\n",
    "    if a1.is_infected([a2,a3]):\n",
    "        counter += 1\n",
    "assert round(counter/num,2) == 0.25"
   ]
  },
  {
   "cell_type": "code",
   "execution_count": 204,
   "metadata": {},
   "outputs": [
    {
     "name": "stdout",
     "output_type": "stream",
     "text": [
      "Test is_infected()\n",
      "0.0003\n",
      "0.02\n",
      "0.01\n",
      "0.44\n"
     ]
    }
   ],
   "source": [
    "print('Test is_infected()')\n",
    "# test 2 adjacent, 2 infected, all masked\n",
    "a3.status = 'I'\n",
    "a1.mask = True\n",
    "a2.mask = True\n",
    "a3.mask = True\n",
    "counter = 0\n",
    "for i in range(num):\n",
    "    if a1.is_infected([a2,a3]):\n",
    "        counter += 1\n",
    "print(round(counter/num,4))\n",
    "assert round(counter/num,4) > 0.0001, 'Failed with ' + str(round(counter/num,4))\n",
    "\n",
    "# test 2 adjacent, 2 infected, agent masked\n",
    "a3.status = 'I'\n",
    "a1.mask = True\n",
    "a2.mask = False\n",
    "a3.mask = False\n",
    "counter = 0\n",
    "for i in range(num):\n",
    "    if a1.is_infected([a2,a3]):\n",
    "        counter += 1\n",
    "print(round(counter/num,2))\n",
    "assert round(counter/num,2) > 0.01\n",
    "\n",
    "# test 2 adjacent, 2 infected, agent masked, one adjacent masked\n",
    "a3.status = 'I'\n",
    "a1.mask = True\n",
    "a2.mask = True\n",
    "a3.mask = False\n",
    "counter = 0\n",
    "for i in range(num):\n",
    "    if a1.is_infected([a2,a3]):\n",
    "        counter += 1\n",
    "print(round(counter/num,2))\n",
    "assert round(counter/num,2) >= 0.01\n",
    "\n",
    "# test 2 adjacent, 2 infected, no one masked\n",
    "a3.status = 'I'\n",
    "a1.mask = False\n",
    "a2.mask = False\n",
    "a3.mask = False\n",
    "counter = 0\n",
    "for i in range(num):\n",
    "    if a1.is_infected([a2,a3]):\n",
    "        counter += 1\n",
    "print(round(counter/num,2))\n",
    "assert round(counter/num,2) > 0.25"
   ]
  },
  {
   "cell_type": "code",
   "execution_count": 205,
   "metadata": {},
   "outputs": [
    {
     "name": "stdout",
     "output_type": "stream",
     "text": [
      "Test update_status()\n",
      "Test R status...\n",
      "Test I status...\n",
      "Test Q status...\n",
      "Test S status...\n"
     ]
    }
   ],
   "source": [
    "print('Test update_status()')\n",
    "a1 = Agent((1,1), 'R', mask=True, distancing=True)\n",
    "a2 = Agent((0,1), 'I', mask=False, distancing=True)\n",
    "\n",
    "# test R status\n",
    "print('Test R status...')\n",
    "a1.update_status([a2])\n",
    "assert a1.status == 'R'\n",
    "\n",
    "# test I status\n",
    "print('Test I status...')\n",
    "\n",
    "a1.status = 'I'\n",
    "a1.days_infected = 0 # test not yet quarantined\n",
    "a1.asymptomatic = True\n",
    "a1.update_status([a2])  \n",
    "assert a1.status == 'I'\n",
    "\n",
    "\n",
    "a1.status = 'I'\n",
    "a1.days_infected = 3 # test change to quarantined\n",
    "a1.asymptomatic = False\n",
    "a1.update_status([a2]) \n",
    "assert a1.status == 'Q'\n",
    "\n",
    "a1.status = 'I'\n",
    "a1.days_infected = 15 # test change to recovered\n",
    "a1.asymptomatic = False\n",
    "a1.update_status([a2]) \n",
    "assert a1.status == 'R'\n",
    "\n",
    "# test Q status\n",
    "print('Test Q status...')\n",
    "a1.status = 'Q'\n",
    "a1.days_infected = 15 # test change to recovered\n",
    "a1.asymptomatic = False\n",
    "a1.update_status([a2]) \n",
    "assert a1.status == 'R'\n",
    "\n",
    "# test S status\n",
    "print('Test S status...')\n",
    "a1.status = 'S'\n",
    "a1.days_infected = 0\n",
    "a1.asymptomatic = False\n",
    "num = 10000\n",
    "counter = 0\n",
    "for i in range(num):\n",
    "    a1.status = 'S'\n",
    "    a1.update_status([a2])\n",
    "    if a1.status == 'I':\n",
    "        counter += 1\n",
    "assert round(counter/num,2) == 0.01"
   ]
  },
  {
   "cell_type": "code",
   "execution_count": 206,
   "metadata": {},
   "outputs": [
    {
     "name": "stdout",
     "output_type": "stream",
     "text": [
      "Test update_agent()\n"
     ]
    }
   ],
   "source": [
    "print('Test update_agent()')\n",
    "\n",
    "a1 = Agent((1,1), 'R', mask=False, distancing=True)\n",
    "a2 = Agent((0,1), 'I', mask=False, distancing=True)\n",
    "a1.update_agent((2,2), [a2])\n",
    "\n",
    "# check position\n",
    "assert a1.position == (2,2)\n",
    "\n",
    "# check days_infected\n",
    "a1.status = 'I'\n",
    "a1.update_agent((2,2), [a2])\n",
    "assert a1.days_infected == 1\n",
    "\n",
    "# check status if now recovered\n",
    "# check metrics if now recovered\n",
    "a1.status = 'I'\n",
    "a1.days_infected = 14\n",
    "a1.update_agent((2,2), [a2])\n",
    "assert a1.status == 'R'\n",
    "assert a1.days_infected == 0\n",
    "assert a1.asymptomatic == False\n",
    "\n",
    "# check status if now recovered\n",
    "# check metrics if now recovered\n",
    "a1.status = 'Q'\n",
    "a1.days_infected = 14\n",
    "a1.update_agent((2,2), [a2])\n",
    "assert a1.status == 'R'\n",
    "assert a1.days_infected == 0\n",
    "assert a1.asymptomatic == False\n",
    "    \n",
    "\n",
    "# check asymptomatic if now infected\n",
    "a1.status = 'S'\n",
    "a1.days_infected = 0\n",
    "a1.asymptomatic = False\n",
    "a1.update_agent((2,2), [a2])\n",
    "\n",
    "num = 100000\n",
    "counter = 0\n",
    "for i in range(num):\n",
    "    a1.status = 'S'\n",
    "    a1.asymptomatic = False\n",
    "    a1.update_agent((2,2), [a2])\n",
    "    if a1.asymptomatic == True:\n",
    "        counter += 1\n",
    "assert round(counter/num,2) == 0.05"
   ]
  },
  {
   "cell_type": "code",
   "execution_count": 207,
   "metadata": {},
   "outputs": [
    {
     "name": "stdout",
     "output_type": "stream",
     "text": [
      "Test has_died()\n"
     ]
    }
   ],
   "source": [
    "print('Test has_died()')\n",
    "num = 100000\n",
    "\n",
    "# check for infected status\n",
    "a2 = Agent((0,1), 'I', mask=False, distancing=True)\n",
    "counter = 0\n",
    "for i in range(num):\n",
    "    if a2.has_died():\n",
    "        counter += 1\n",
    "assert round(counter/num,3) == 0.002\n",
    "\n",
    "\n",
    "# check if status not infected\n",
    "a3 = Agent((0,1), 'S', mask=False, distancing=True)\n",
    "counter = 0\n",
    "for i in range(num):\n",
    "    if a3.has_died():\n",
    "        counter += 1\n",
    "assert round(counter/num,1) == 0.0"
   ]
  },
  {
   "cell_type": "code",
   "execution_count": 208,
   "metadata": {},
   "outputs": [
    {
     "name": "stdout",
     "output_type": "stream",
     "text": [
      "All tests pass for Agent class.\n"
     ]
    }
   ],
   "source": [
    "print('All tests pass for Agent class.')"
   ]
  },
  {
   "cell_type": "markdown",
   "metadata": {},
   "source": [
    "#### Define AgentGenerator class"
   ]
  },
  {
   "cell_type": "code",
   "execution_count": 209,
   "metadata": {},
   "outputs": [],
   "source": [
    "class AgentGenerator:\n",
    "    \n",
    "    def __init__(self, m, num_infected, percent_distancing, percent_mask, percent_vaccinated = 0.0):\n",
    "        '''\n",
    "        Initialize the world and agents in the world. \n",
    "\n",
    "        Parameters:\n",
    "        n: size of the world\n",
    "        m: number of agents \n",
    "        '''        \n",
    "        # capture parameters\n",
    "        self.m = m\n",
    "        self.num_infected = num_infected\n",
    "\n",
    "        # set discrete numbers for distancing, mask, vaccinated\n",
    "        self.num_distancing = int(round(percent_distancing*m))\n",
    "        self.num_mask = int(round(percent_mask*m))\n",
    "        self.num_vaccinated = int(round(percent_vaccinated*m))\n",
    "        \n",
    "        # validation checks        \n",
    "        if self.num_infected + self.num_vaccinated > m:\n",
    "            raise ValueError('not allowed to have (infected + vaccinated) > total number of agents')\n",
    "    \n",
    "    \n",
    "    def is_infected(self, current_infected):\n",
    "        '''\n",
    "        Returns True if there should be more infected agents \n",
    "        (i.e. this agent is selected as infected). Returns False otherwise.\n",
    "        '''\n",
    "        return current_infected < self.num_infected\n",
    "    \n",
    "    \n",
    "    def is_vaccinated(self,infected,current_vaccinated):\n",
    "        '''\n",
    "        Returns True if the agent is not infected and there should be more vaccinated agents \n",
    "        (i.e. this agent is selected as vaccinated). \n",
    "        Returns False otherwise.\n",
    "        '''\n",
    "        if infected:\n",
    "            return False # can't be both infected and vaccinated\n",
    "        else: \n",
    "            return current_vaccinated < self.num_vaccinated\n",
    "    \n",
    "    \n",
    "    def get_status(self, infected, vaccinated):\n",
    "        \n",
    "        status = 'S'\n",
    "        if infected:\n",
    "            status = 'I'\n",
    "        elif vaccinated:\n",
    "            status = 'R'\n",
    "        \n",
    "        return status\n",
    "    \n",
    "\n",
    "    def select_indexes(self, num_positions):\n",
    "    \n",
    "        chosen = list()\n",
    "        for i in range(num_positions):\n",
    "            \n",
    "            position = random.randint(0,self.m-1)\n",
    "            while position in chosen:\n",
    "                \n",
    "                # try again\n",
    "                position = random.randint(0,self.m-1)\n",
    "            \n",
    "            chosen.append(position)\n",
    "        return chosen\n",
    "\n",
    "\n",
    "    def generate_agents(self):\n",
    "        '''\n",
    "        Creates and returns a list of m agents, each created with \n",
    "        a randomly chosen position from the n x n grid, with the \n",
    "        required number of agents selected as infected and vaccinated.\n",
    "        \n",
    "        After setting status, randomly selects agents to be masked.\n",
    "        Separately from mask, randomly selects agents to be distancing.\n",
    "        '''\n",
    "        \n",
    "        # create agents\n",
    "        agents = list()\n",
    "        \n",
    "        # set counters\n",
    "        current_infected = 0\n",
    "        current_vaccinated = 0\n",
    "        \n",
    "        # randomly select indexes for mask and distancing\n",
    "        mask_indexes = self.select_indexes(self.num_mask)\n",
    "        distancing_indexes =  self.select_indexes(self.num_distancing)\n",
    "        \n",
    "        for i in range(self.m):\n",
    "        \n",
    "            # select if agent is infected\n",
    "            infected = self.is_infected(current_infected)\n",
    "            if infected:\n",
    "                current_infected += 1\n",
    "            \n",
    "            # select if agent is vaccinated\n",
    "            vaccinated = self.is_vaccinated(infected, current_vaccinated)\n",
    "            if vaccinated:\n",
    "                current_vaccinated += 1\n",
    "                \n",
    "            # set status\n",
    "            status = self.get_status(infected, vaccinated)\n",
    "\n",
    "            # set values for mask and distancing\n",
    "            mask = i in mask_indexes\n",
    "            distancing = i in distancing_indexes\n",
    "                \n",
    "            # position will be set later\n",
    "            new_agent = Agent((-1,-1), status, mask=mask, distancing=distancing)\n",
    "            agents.append(new_agent)          \n",
    "        \n",
    "        return agents\n",
    "    "
   ]
  },
  {
   "cell_type": "markdown",
   "metadata": {},
   "source": [
    "#### Testing AgentGenerator class"
   ]
  },
  {
   "cell_type": "code",
   "execution_count": 210,
   "metadata": {
    "scrolled": true
   },
   "outputs": [
    {
     "name": "stdout",
     "output_type": "stream",
     "text": [
      "Test constructor\n"
     ]
    }
   ],
   "source": [
    "print('Test constructor')\n",
    "\n",
    "# test version with defined percent_vaccinated\n",
    "ag = AgentGenerator(100,10,0.25,0.35,0.45)\n",
    "assert ag.m == 100\n",
    "assert ag.num_infected == 10\n",
    "assert ag.num_distancing == 25\n",
    "assert ag.num_mask == 35\n",
    "assert ag.num_vaccinated == 45\n",
    "\n",
    "# test version without defined percent_vaccinated\n",
    "ag = AgentGenerator(100,10,0.25,0.35)\n",
    "assert ag.m == 100\n",
    "assert ag.num_infected == 10\n",
    "assert ag.num_distancing == 25\n",
    "assert ag.num_mask == 35\n",
    "assert ag.num_vaccinated == 0"
   ]
  },
  {
   "cell_type": "code",
   "execution_count": 211,
   "metadata": {},
   "outputs": [
    {
     "name": "stdout",
     "output_type": "stream",
     "text": [
      "Test is_infected()\n"
     ]
    }
   ],
   "source": [
    "print('Test is_infected()')\n",
    "\n",
    "ag = AgentGenerator(100,1,0.25,0.35,0.45)\n",
    "current_infected = 0\n",
    "infected = ag.is_infected(current_infected)\n",
    "assert infected == True\n",
    "\n",
    "current_infected = 1\n",
    "infected = ag.is_infected(current_infected)\n",
    "assert infected == False"
   ]
  },
  {
   "cell_type": "code",
   "execution_count": 212,
   "metadata": {},
   "outputs": [
    {
     "name": "stdout",
     "output_type": "stream",
     "text": [
      "Test is_vaccinated()\n"
     ]
    }
   ],
   "source": [
    "print('Test is_vaccinated()')\n",
    "\n",
    "ag = AgentGenerator(100,1,0.25,0.35,0.45)\n",
    "\n",
    "# infected should not become vaccinated\n",
    "current_vaccinated = 0\n",
    "infected = True\n",
    "vaccinated = ag.is_vaccinated(infected,current_vaccinated)\n",
    "assert vaccinated == False\n",
    "\n",
    "\n",
    "# remaining should become vaccinated\n",
    "current_vaccinated = 0\n",
    "infected = False\n",
    "vaccinated = ag.is_vaccinated(infected,current_vaccinated)\n",
    "assert vaccinated == True\n",
    "\n",
    "# full should not become vaccinated\n",
    "current_vaccinated = 45\n",
    "infected = False\n",
    "vaccinated = ag.is_vaccinated(infected,current_vaccinated)\n",
    "assert vaccinated == False\n",
    "\n"
   ]
  },
  {
   "cell_type": "code",
   "execution_count": 213,
   "metadata": {},
   "outputs": [
    {
     "name": "stdout",
     "output_type": "stream",
     "text": [
      "Test get_status()\n"
     ]
    }
   ],
   "source": [
    "print('Test get_status()')\n",
    "ag = AgentGenerator(100,1,0.25,0.35,0.45)\n",
    "\n",
    "# infected\n",
    "infected = True\n",
    "vaccinated = False\n",
    "status = ag.get_status(infected, vaccinated)\n",
    "assert status == 'I'\n",
    "\n",
    "# vaccinated\n",
    "infected = False\n",
    "vaccinated = True\n",
    "status = ag.get_status(infected, vaccinated)\n",
    "assert status == 'R'\n",
    "\n",
    "# susceptible\n",
    "infected = False\n",
    "vaccinated = False\n",
    "status = ag.get_status(infected, vaccinated)\n",
    "assert status == 'S'\n"
   ]
  },
  {
   "cell_type": "code",
   "execution_count": 214,
   "metadata": {},
   "outputs": [
    {
     "name": "stdout",
     "output_type": "stream",
     "text": [
      "Test select_indexes()\n",
      "[99, 9, 22, 73, 68, 38, 20, 62, 82, 81, 61, 52, 83, 12, 51, 85, 37, 40, 19, 42, 92, 34, 16, 93, 32]\n"
     ]
    }
   ],
   "source": [
    "print('Test select_indexes()')\n",
    "\n",
    "m = 100\n",
    "ag = AgentGenerator(m,1,0.25,0.35,0.45)\n",
    "\n",
    "num_positions = 25\n",
    "positions = ag.select_indexes(num_positions)\n",
    "\n",
    "assert len(positions) == num_positions\n",
    "assert len(set(positions)) == num_positions\n",
    "\n",
    "counter = 0\n",
    "for p in positions:\n",
    "    if p >= m or p < 0: # should be within [0...m-1] index positions\n",
    "        counter += 1\n",
    "assert counter == 0\n",
    "print(positions)"
   ]
  },
  {
   "cell_type": "code",
   "execution_count": 215,
   "metadata": {},
   "outputs": [
    {
     "name": "stdout",
     "output_type": "stream",
     "text": [
      "Test create_agents()\n"
     ]
    }
   ],
   "source": [
    "print('Test create_agents()')\n",
    "m = 100\n",
    "ag = AgentGenerator(m,10,0.25,0.35,0.45)\n",
    "agents = ag.generate_agents()\n",
    "\n",
    "assert len(agents) == m\n",
    "\n",
    "infected_counter = 0\n",
    "vaccinated_counter = 0\n",
    "susceptible_counter = 0\n",
    "mask_counter = 0\n",
    "distancing_counter = 0\n",
    "\n",
    "for agent in agents:\n",
    "    if agent.status == 'I':\n",
    "        infected_counter += 1\n",
    "    elif agent.status == 'R':\n",
    "        vaccinated_counter += 1\n",
    "    elif agent.status == 'S':\n",
    "        susceptible_counter += 1\n",
    "        \n",
    "    if agent.mask:\n",
    "        mask_counter += 1\n",
    "    \n",
    "    if agent.distancing:\n",
    "        distancing_counter += 1\n",
    "\n",
    "assert infected_counter == 10\n",
    "assert distancing_counter == 25\n",
    "assert mask_counter == 35\n",
    "assert vaccinated_counter == 45\n",
    "assert susceptible_counter == m - infected_counter - vaccinated_counter\n"
   ]
  },
  {
   "cell_type": "code",
   "execution_count": 216,
   "metadata": {},
   "outputs": [
    {
     "name": "stdout",
     "output_type": "stream",
     "text": [
      "All tests pass for AgentGenerator class.\n"
     ]
    }
   ],
   "source": [
    "print('All tests pass for AgentGenerator class.')"
   ]
  },
  {
   "cell_type": "markdown",
   "metadata": {},
   "source": [
    "#### Define AgentMover class\n",
    "Class must consider how wrapping around the torus grid works."
   ]
  },
  {
   "attachments": {
    "02718-HW4-Wrapping-2.png": {
     "image/png": "[encoded data removed]"
    }
   },
   "cell_type": "markdown",
   "metadata": {},
   "source": [
    "![02718-HW4-Wrapping-2.png](attachment:02718-HW4-Wrapping-2.png)"
   ]
  },
  {
   "cell_type": "code",
   "execution_count": 234,
   "metadata": {},
   "outputs": [],
   "source": [
    "class AgentMover:\n",
    "    \n",
    "    # allowable moves\n",
    "    directions = [[-1, 0], # left\n",
    "                  [ 1, 0], # right\n",
    "                  [ 0,-1], # up\n",
    "                  [ 0, 1], # down\n",
    "                  [-1,-1], # left & up\n",
    "                  [-1, 1], # left & down\n",
    "                  [ 1,-1], # right & up\n",
    "                  [ 1, 1]] # right & down\n",
    "    \n",
    "    def __init__(self, n):\n",
    "        self.n = n\n",
    "        \n",
    "\n",
    "    def get_random_position(self, selected):\n",
    "        '''\n",
    "        Returns a random (i,j) position in an n x n grid \n",
    "        which has not yet been selected.\n",
    "        '''\n",
    "        \n",
    "        # try random position\n",
    "        i = random.randint(0,self.n-1)\n",
    "        j = random.randint(0,self.n-1)\n",
    "        \n",
    "        while (i,j) in selected:\n",
    "\n",
    "            # keep trying if position has already been chosen\n",
    "            i = random.randint(0,self.n-1)\n",
    "            j = random.randint(0,self.n-1)\n",
    "            \n",
    "        return (i,j)\n",
    "    \n",
    "    \n",
    "    def split_agents(self, agents):\n",
    "        '''\n",
    "        Splits agents into those which are distancing and other. \n",
    "        Returns tuple of two lists:(distancing agents, other agents)\n",
    "        '''\n",
    "        \n",
    "        # position distancing agents first\n",
    "        distancing_agents = list()\n",
    "        other_agents = list()\n",
    "        \n",
    "        for agent in agents:\n",
    "            if agent.distancing:\n",
    "                distancing_agents.append(agent)\n",
    "            else:\n",
    "                other_agents.append(agent)\n",
    "                \n",
    "        return distancing_agents, other_agents\n",
    "    \n",
    "        \n",
    "    def get_x(self, x_curr, change):\n",
    "        '''\n",
    "        Calculates next x coordinate, wrapping around torus \n",
    "        grid if position would move off the top or bottom.\n",
    "        '''\n",
    "        \n",
    "        x_result = x_curr + change\n",
    "        if x_result < 0:\n",
    "            x_next = self.n-1\n",
    "        elif x_result > self.n-1:\n",
    "            x_next = 0\n",
    "        else:\n",
    "            x_next = x_result\n",
    "                \n",
    "        return x_next\n",
    " \n",
    "\n",
    "    def get_y(self, y_curr, change):\n",
    "        '''\n",
    "        Calculates next y coordinate, wrapping around torus \n",
    "        grid if position would move off the left or right.\n",
    "        '''        \n",
    "        \n",
    "        y_result = y_curr + change\n",
    "        if y_result < 0:\n",
    "            y_next = self.n-1\n",
    "        elif y_result > self.n-1:\n",
    "            y_next = 0\n",
    "        else:\n",
    "            y_next = y_result\n",
    "                \n",
    "        return y_next\n",
    "\n",
    "    \n",
    "    def get_adj_positions(self, position):\n",
    "        '''\n",
    "        Returns a list of all 8 positions which surround the given position, \n",
    "        wrapping around the torus grid when necessary.\n",
    "        '''\n",
    "\n",
    "        adjacent = set()\n",
    "        \n",
    "        x_curr = position[0]\n",
    "        y_curr = position[1]\n",
    "        \n",
    "        for x_change,y_change in self.directions:\n",
    "            \n",
    "            # get resulting coordinates after change\n",
    "            x_next = self.get_x(x_curr, x_change)\n",
    "            y_next = self.get_y(y_curr, y_change)\n",
    "        \n",
    "            adjacent.add((x_next, y_next))\n",
    "        \n",
    "        return adjacent\n",
    "    \n",
    "    \n",
    "    def positions_available(self, unavailable, agents, positioned):\n",
    "        '''\n",
    "        Returns True if there is at least one positions \n",
    "        available for each agent not yet positioned.\n",
    "        '''\n",
    "        \n",
    "        num_agents_left = len(agents) - positioned\n",
    "        num_positions_left = self.n * self.n - len(unavailable)\n",
    "        return num_positions_left >= num_agents_left\n",
    "    \n",
    "    \n",
    "    def position_distancing_agents(self, distancing_agents):\n",
    "        '''\n",
    "        Attempts to find unique positions for given list of distancing agents \n",
    "        such that every agent maintains at least one position between itself\n",
    "        and every other agent. Returns (True, unavailable) if such a positioning \n",
    "        is found. Returns (False, unavailable) otherwise. unavailable is a\n",
    "        set containing all positions which can not be selected for agents.\n",
    "        '''\n",
    "                   \n",
    "        # reset for new attempt\n",
    "        unavailable = set()\n",
    "        num_positioned = 0\n",
    "\n",
    "        for agent in distancing_agents: \n",
    "            \n",
    "            # if there aren't enough available positions left, start over\n",
    "            if not self.positions_available(unavailable, distancing_agents, num_positioned):\n",
    "                return (False, unavailable)           \n",
    "        \n",
    "            # choose available position\n",
    "            position = self.get_random_position(unavailable)\n",
    "            agent.position = position\n",
    "\n",
    "            # update available positions\n",
    "            curr_unavailable = self.get_adj_positions(position) # positions surrounding are not available\n",
    "            curr_unavailable.add(position)                      # position taken is not available\n",
    "            unavailable = unavailable.union(curr_unavailable)   # update full list\n",
    "        \n",
    "            # update counter\n",
    "            num_positioned += 1\n",
    "        \n",
    "        # all agents were positioned successfully\n",
    "        return (True, unavailable)\n",
    "    \n",
    "    \n",
    "    def position_remaining_agents(self, agents, unavailable):\n",
    "        '''\n",
    "        Positions all agents without distancing requirements.\n",
    "        Returns True if agents were positioned successfully,\n",
    "        False otherwise.\n",
    "        '''\n",
    "        \n",
    "        num_positioned = 0\n",
    "        for agent in agents:\n",
    "            \n",
    "            # if there aren't enough available positions left, start over\n",
    "            if not self.positions_available(unavailable, agents, num_positioned):\n",
    "                return False\n",
    "        \n",
    "            # choose available position\n",
    "            position = self.get_random_position(unavailable)\n",
    "            agent.position = position\n",
    "\n",
    "            # update available positions                     \n",
    "            unavailable.add(position)\n",
    "        \n",
    "            # update counter\n",
    "            num_positioned += 1\n",
    "        \n",
    "        # all agents were positioned successfully\n",
    "        return True\n",
    "        \n",
    "\n",
    "    def position_agents(self, agents):\n",
    "        '''\n",
    "        Positions given agents on n x n grid, following distancing constraints\n",
    "        for distancing agents. Raises ValueError if no viable positioning\n",
    "        is found. Returns True if positioning is found.\n",
    "        '''\n",
    "        \n",
    "        # split agents into distancing and other\n",
    "        distancing_agents, other_agents = self.split_agents(agents)\n",
    "        \n",
    "        # attempt to position distancing agents first\n",
    "        attempt_counter = 0\n",
    "        d_success = False\n",
    "        unavailable = set()\n",
    "        \n",
    "        while d_success == False and attempt_counter < 100:\n",
    "        \n",
    "            d_success, unavailable = self.position_distancing_agents(distancing_agents)\n",
    "            attempt_counter += 1\n",
    "        \n",
    "        if attempt_counter >= 100:\n",
    "            raise ValueError('Unable to find positions for all distancing agents')\n",
    "        \n",
    "        \n",
    "        # position remaining agents\n",
    "        all_success = self.position_remaining_agents(other_agents, unavailable)\n",
    "        if all_success == False:\n",
    "            raise ValueError('Unable to find positions for remaining agents')\n",
    " \n",
    "        # all agents positioned\n",
    "        return True\n",
    "            \n",
    "            \n",
    "    def get_unoccupied_positions(self, agent, agents, positions):\n",
    "        pass\n",
    "      \n",
    "        \n",
    "    def get_undistanced_positions(self, agent, agents, positions):\n",
    "        \n",
    "        # find all agents within\n",
    "        \n",
    "        # split agents into distancing and other\n",
    "        distancing_agents, other_agents = self.split_agents(agents)\n",
    "    \n",
    "    \n",
    "    def get_distancing_positions(self, agent, agents, positions):\n",
    "        pass\n",
    "    \n",
    "    \n",
    "    def find_nearby_agents(self, agent, agents, position):\n",
    "        '''\n",
    "        Finds all agents within 2 spaces of this agent in every direction.\n",
    "        This reduces the search space for available positions to only\n",
    "        those agents which may be affected by this agent after a move.\n",
    "        '''\n",
    "        pass\n",
    "        \n",
    "        \n",
    "    \n",
    "    \n",
    "    def get_available_moves(self, agent, agents):\n",
    "        '''\n",
    "        Returns a list of possible positions to which a\n",
    "        given agent can move, given the other agents.\n",
    "        \n",
    "        Constrained by the current position of other agents\n",
    "        and whether another agent is distancing.\n",
    "        '''\n",
    "        pass\n",
    "    \n",
    "        # determine all positions 1 move away from agent\n",
    "        \n",
    "        \n",
    "        # determine all agents within 2 positions from agent\n",
    "        \n",
    "        \n",
    "        # determine which of those positions are:\n",
    "        # 1 - not occupied\n",
    "        # 2 - allow this agent to maintain its own distancing boundaries if necessary\n",
    "        # 3 - outside distancing boundaries of another agent\n",
    "        \n",
    "        \n",
    "        # 1 - check for occupation\n",
    "        \n",
    "        # 2 - check for this agent's distancing\n",
    "        \n",
    "        # 3 - check for distancing agents        \n",
    "        \n",
    "       \n",
    "    def move_agent(self, agent, positions):\n",
    "        '''\n",
    "        Selects a random position from positions and \n",
    "        updates the agent to be at that location.\n",
    "        \n",
    "        If positions list is empty, does not move\n",
    "        the agent.\n",
    "        '''\n",
    "        if positions:\n",
    "            i = random.randint(0,len(positions)-1) # random index\n",
    "            agent.position = positions[i]     \n",
    "        \n",
    "    \n",
    "    \n",
    "    def move_all_agents(self, agents):\n",
    "        '''\n",
    "        Selects and moves each agent in agents.\n",
    "        '''\n",
    "        for agent in agents:\n",
    "            moves = self.get_available_moves(agent, agents)\n",
    "            move_agent(agent, moves)"
   ]
  },
  {
   "cell_type": "markdown",
   "metadata": {},
   "source": [
    "#### Test AgentMover class"
   ]
  },
  {
   "cell_type": "code",
   "execution_count": 218,
   "metadata": {},
   "outputs": [
    {
     "name": "stdout",
     "output_type": "stream",
     "text": [
      "Test get_random_position()\n"
     ]
    }
   ],
   "source": [
    "print('Test get_random_position()')\n",
    "n=25\n",
    "am = AgentMover(n)\n",
    "\n",
    "selected = list()\n",
    "position = am.get_random_position(selected)\n",
    "\n",
    "# check if position is within n x n grid\n",
    "assert position[0] >= 0\n",
    "assert position[0] < n\n",
    "assert position[1] >= 0\n",
    "assert position[1] < n\n",
    "\n",
    "# check if position has been taken already\n",
    "# create list with all positions taken except (0,0)\n",
    "selected = [(i,j) for i in range(n) for j in range(n) if (i,j) != (0,0) ]\n",
    "position = am.get_random_position(selected)\n",
    "assert position == (0,0)"
   ]
  },
  {
   "cell_type": "code",
   "execution_count": 219,
   "metadata": {},
   "outputs": [
    {
     "name": "stdout",
     "output_type": "stream",
     "text": [
      "Test split_agents()\n"
     ]
    }
   ],
   "source": [
    "print('Test split_agents()')\n",
    "n=25\n",
    "am = AgentMover(n)\n",
    "\n",
    "a1 = Agent((1,2), 'I', mask=True, distancing=True)\n",
    "a2 = Agent((1,2), 'I', mask=True, distancing=True)\n",
    "a3 = Agent((1,2), 'R', mask=True, distancing=False)\n",
    "a4 = Agent((1,2), 'R', mask=True, distancing=False)\n",
    "a5 = Agent((1,2), 'R', mask=True, distancing=False)\n",
    "\n",
    "distancing_agents, other_agents = am.split_agents([a1,a2,a3,a4,a5])\n",
    "\n",
    "for agent in distancing_agents:\n",
    "    assert agent.status == 'I'\n",
    "    \n",
    "for agent in other_agents:\n",
    "    assert agent.status == 'R'\n",
    "    \n",
    "assert len(distancing_agents) == 2\n",
    "assert len(other_agents) == 3"
   ]
  },
  {
   "cell_type": "code",
   "execution_count": 220,
   "metadata": {},
   "outputs": [
    {
     "name": "stdout",
     "output_type": "stream",
     "text": [
      "Test get_x()\n"
     ]
    }
   ],
   "source": [
    "print('Test get_x()')\n",
    "\n",
    "n=25\n",
    "am = AgentMover(n)\n",
    "\n",
    "assert am.get_x(0,-1) == n-1\n",
    "assert am.get_x(0,1) == 1\n",
    "assert am.get_x(n-1,1) == 0"
   ]
  },
  {
   "cell_type": "code",
   "execution_count": 221,
   "metadata": {},
   "outputs": [
    {
     "name": "stdout",
     "output_type": "stream",
     "text": [
      "Test get_y()\n"
     ]
    }
   ],
   "source": [
    "print('Test get_y()')\n",
    "\n",
    "n=25\n",
    "am = AgentMover(n)\n",
    "\n",
    "assert am.get_y(0,-1) == n-1\n",
    "assert am.get_y(0,1) == 1\n",
    "assert am.get_y(n-1,1) == 0"
   ]
  },
  {
   "cell_type": "code",
   "execution_count": 222,
   "metadata": {
    "scrolled": true
   },
   "outputs": [
    {
     "name": "stdout",
     "output_type": "stream",
     "text": [
      "Test get_adj_positions()\n",
      "{(0, 1), (1, 2), (2, 1), (0, 0), (2, 0), (0, 2), (2, 2), (1, 0)}\n",
      "{(0, 23), (23, 23), (24, 23), (0, 0), (23, 0), (24, 0), (0, 24), (23, 24)}\n",
      "{(0, 23), (24, 23), (0, 0), (1, 24), (24, 0), (1, 23), (1, 0), (24, 24)}\n",
      "{(0, 1), (23, 1), (24, 1), (0, 0), (23, 0), (0, 24), (23, 24), (24, 24)}\n",
      "{(0, 1), (24, 1), (1, 24), (1, 1), (24, 0), (1, 0), (0, 24), (24, 24)}\n"
     ]
    }
   ],
   "source": [
    "print('Test get_adj_positions()')\n",
    "\n",
    "n=25\n",
    "am = AgentMover(n)\n",
    "\n",
    "# non-edge position\n",
    "current_position = (1,1)\n",
    "adjacent_correct = [(0,0),(0,1),(0,2),\n",
    "                    (1,0),(1,2),\n",
    "                    (2,0),(2,1),(2,2)]\n",
    "adjacent = am.get_adj_positions(current_position)\n",
    "print(adjacent)\n",
    "for each in adjacent_correct:    \n",
    "    assert each in adjacent, str(each) + ' is missing from result.'\n",
    "\n",
    "\n",
    "# lower right corner\n",
    "current_position = (24,24)\n",
    "adjacent_correct = [(23,0),(23,23),(23,24),\n",
    "                    (24,0),(24,23),\n",
    "                    (0,0),(0,23),(0,24)]\n",
    "adjacent = am.get_adj_positions(current_position)\n",
    "print(adjacent)\n",
    "for each in adjacent_correct:    \n",
    "    assert each in adjacent, str(each) + ' is missing from result.'\n",
    "\n",
    "# upper right corner\n",
    "current_position = (0,24)\n",
    "adjacent_correct = [(24,0),(24,23),(24,24),\n",
    "                    (0,0),(0,23),\n",
    "                    (1,0),(1,23),(1,24)]\n",
    "adjacent = am.get_adj_positions(current_position)\n",
    "print(adjacent)\n",
    "for each in adjacent_correct:    \n",
    "    assert each in adjacent, str(each) + ' is missing from result.'\n",
    "\n",
    "# lower left corner\n",
    "current_position = (24,0)\n",
    "adjacent_correct = [(23,0),(23,1),(23,24),\n",
    "                    (24,1),(24,24),\n",
    "                    (0,0),(0,1),(0,24)]\n",
    "adjacent = am.get_adj_positions(current_position)\n",
    "print(adjacent)\n",
    "for each in adjacent_correct:    \n",
    "    assert each in adjacent, str(each) + ' is missing from result.'\n",
    "\n",
    "# upper left corner\n",
    "current_position = (0,0)\n",
    "adjacent_correct = [(24,0),(24,1),(24,24),\n",
    "                    (0,1),(0,24),\n",
    "                    (1,0),(1,1),(1,24)]\n",
    "adjacent = am.get_adj_positions(current_position)\n",
    "print(adjacent)\n",
    "for each in adjacent_correct:    \n",
    "    assert each in adjacent, str(each) + ' is missing from result.'"
   ]
  },
  {
   "cell_type": "code",
   "execution_count": 223,
   "metadata": {},
   "outputs": [
    {
     "name": "stdout",
     "output_type": "stream",
     "text": [
      "Test positions_available()\n"
     ]
    }
   ],
   "source": [
    "print('Test positions_available()')\n",
    "\n",
    "n=1\n",
    "am = AgentMover(n)\n",
    "a1 = Agent((-1,-1), 'I', mask=True, distancing=True)\n",
    "unavailable = set()\n",
    "\n",
    "# (unavailable, agents, positioned)\n",
    "assert am.positions_available(unavailable,[a1],0) == True \n",
    "\n",
    "unavailable.add(1)\n",
    "assert am.positions_available(unavailable,[a1],0) == False\n"
   ]
  },
  {
   "cell_type": "code",
   "execution_count": 224,
   "metadata": {},
   "outputs": [
    {
     "name": "stdout",
     "output_type": "stream",
     "text": [
      "Test position_distancing_agents()\n"
     ]
    }
   ],
   "source": [
    "print('Test position_distancing_agents()')\n",
    "\n",
    "# only possible to place one agent\n",
    "n=3\n",
    "am = AgentMover(n)\n",
    "agents = [Agent((-1,-1), 'I', mask=True, distancing=True) for i in range(2)]\n",
    "result, unavailable = am.position_distancing_agents(agents)\n",
    "assert result == False\n",
    "\n",
    "\n",
    "# multiple agents can be placed\n",
    "n=25\n",
    "am = AgentMover(n)\n",
    "agents = [Agent((-1,-1), 'I', mask=True, distancing=True) for i in range(2)]\n",
    "result, unavailable = am.position_distancing_agents(agents)\n",
    "assert result == True\n"
   ]
  },
  {
   "cell_type": "code",
   "execution_count": 225,
   "metadata": {},
   "outputs": [
    {
     "name": "stdout",
     "output_type": "stream",
     "text": [
      "Test position_remaining_agents()\n"
     ]
    }
   ],
   "source": [
    "print('Test position_remaining_agents()')\n",
    "\n",
    "n=1\n",
    "am = AgentMover(n)\n",
    "\n",
    "a1 = Agent((-1,-1), 'I', mask=True, distancing=False)\n",
    "a2 = Agent((-1,-1), 'I', mask=True, distancing=False)\n",
    "\n",
    "unavailable = set()\n",
    "\n",
    "assert am.position_remaining_agents([a1],unavailable) == True\n",
    "\n",
    "\n",
    "unavailable.add((0,0))\n",
    "assert am.position_remaining_agents([a1],unavailable) == False"
   ]
  },
  {
   "cell_type": "code",
   "execution_count": 226,
   "metadata": {},
   "outputs": [
    {
     "name": "stdout",
     "output_type": "stream",
     "text": [
      "Test position_agents()\n",
      "Agent{position:(11, 18), status:I, mask:True, distancing:True, days_infected:0, asymptomatic:True}\n",
      "Agent{position:(8, 14), status:I, mask:True, distancing:False, days_infected:0, asymptomatic:False}\n"
     ]
    }
   ],
   "source": [
    "print('Test position_agents()')\n",
    "\n",
    "# success\n",
    "n=25\n",
    "am = AgentMover(n)\n",
    "a1 = Agent((-1,-1), 'I', mask=True, distancing=True)\n",
    "a2 = Agent((-1,-1), 'I', mask=True, distancing=False)\n",
    "agents = [a1,a2]\n",
    "\n",
    "assert am.position_agents(agents) == True\n",
    "for each in agents:\n",
    "    print(each)\n",
    "    \n",
    "# failure\n",
    "n=1\n",
    "am = AgentMover(n)\n",
    "a1 = Agent((-1,-1), 'I', mask=True, distancing=True)\n",
    "a2 = Agent((-1,-1), 'I', mask=True, distancing=False)\n",
    "agents = [a1,a2]\n",
    "\n",
    "try:\n",
    "    am.position_agents(agents)\n",
    "    assert False\n",
    "except ValueError:\n",
    "    assert True"
   ]
  },
  {
   "cell_type": "code",
   "execution_count": null,
   "metadata": {},
   "outputs": [],
   "source": []
  },
  {
   "cell_type": "code",
   "execution_count": null,
   "metadata": {},
   "outputs": [],
   "source": []
  },
  {
   "cell_type": "code",
   "execution_count": null,
   "metadata": {},
   "outputs": [],
   "source": []
  },
  {
   "cell_type": "code",
   "execution_count": null,
   "metadata": {},
   "outputs": [],
   "source": []
  },
  {
   "cell_type": "code",
   "execution_count": null,
   "metadata": {},
   "outputs": [],
   "source": []
  },
  {
   "cell_type": "code",
   "execution_count": null,
   "metadata": {},
   "outputs": [],
   "source": []
  },
  {
   "cell_type": "code",
   "execution_count": null,
   "metadata": {},
   "outputs": [],
   "source": []
  },
  {
   "cell_type": "code",
   "execution_count": 279,
   "metadata": {},
   "outputs": [
    {
     "name": "stdout",
     "output_type": "stream",
     "text": [
      "Test position_agents()\n"
     ]
    }
   ],
   "source": [
    "print('Test position_agents()')\n",
    "m = 100\n",
    "ag = AgentGenerator(m,1,0.25,0.35,0.45)\n",
    "am = AgentMover(25)\n",
    "\n",
    "agents = ag.generate_agents()\n",
    "am.position_agents(agents)\n",
    "\n",
    "positions = list()\n",
    "for agent in agents:\n",
    "    \n",
    "    # all agents have been positioned\n",
    "    assert agent.position != (-1,-1)\n",
    "    positions.append(agent.position)\n",
    "    \n",
    "# ensure all positions are unique\n",
    "assert len(set(positions)) == m "
   ]
  },
  {
   "cell_type": "code",
   "execution_count": null,
   "metadata": {},
   "outputs": [],
   "source": []
  },
  {
   "cell_type": "markdown",
   "metadata": {},
   "source": [
    "#### Define ABM class"
   ]
  },
  {
   "cell_type": "code",
   "execution_count": 194,
   "metadata": {},
   "outputs": [],
   "source": [
    "class ABM:\n",
    "\n",
    "\n",
    "    status_colors = {'R': 'r', 'S': 'b', 'I': 'g', 'Q': 'k', 'D': 'm'}\n",
    "\n",
    "    def __init__(self, n, m, num_infected, percent_distancing, percent_mask, percent_vaccinated = 0.0):\n",
    "        self.n = n\n",
    "        self.m = m\n",
    "        \n",
    "        # validate\n",
    "        if m > n*n: \n",
    "            raise ValueError('n x n grid cannot hold all agents')\n",
    "        \n",
    "        # generate agents\n",
    "        ag = AgentGenerator(m, num_infected, percent_distancing, percent_mask, percent_vaccinated)\n",
    "        self.agents = ag.generate_agents()\n",
    "        \n",
    "        # position agents\n",
    "        am = AgentMover(n)\n",
    "        am.position_agents(self.agents)\n",
    "        \n",
    "        # set baseline metrics\n",
    "        self.num_recovered = 0\n",
    "        self.num_infected = 0\n",
    "        self.num_susceptible = 0 \n",
    "        self.num_dead = 0       \n",
    "        self.num_quarantine = 0\n",
    "        self.count_baseline_metrics()\n",
    "        \n",
    "\n",
    "      \n",
    "    \n",
    "    def count_baseline_metrics(self):\n",
    "        for agent in agents:\n",
    "            if agent.status == 'I':\n",
    "                self.num_infected += 1\n",
    "            elif agent.status == 'S':\n",
    "                self.num_susceptible += 1\n",
    "            elif agent.status == 'R':\n",
    "                self.num_recovered += 1\n",
    "                \n",
    "#?? move all agents first, then update status, or do it one by one\n",
    "#update status based on conditions. \n",
    "\n",
    "#     def remove_agent(self,agent):\n",
    "#         '''\n",
    "#         Remove agent from simulation if agent has died.\n",
    "#         '''     \n",
    "\n",
    "\n",
    "\n",
    "#     def add_counts(self):\n",
    "#         counts = {'R': self.num_recovered, 'D': self.num_dead, 'I': self.num_infected, 'S': self.num_susceptible, 'Q': self.num_quarantine}\n",
    "#         self.counts.append(counts)\n",
    "\n",
    "        \n",
    "#     def run_simulation(self, num_steps):\n",
    "#         for t in range(num_steps):\n",
    "#             for agent in self.agents:\n",
    "#                 self.move_agent(agent)\n",
    "\n",
    "#                 self.add_counts()\n",
    "\n",
    "#         return self.counts\n",
    "\n",
    "\n",
    "#     def run_and_visualize_simulation(self, num_steps):\n",
    "#         \"\"\"\n",
    "#         Helper function for de-bugging. \n",
    "\n",
    "#         \"\"\"\n",
    "\n",
    "#         fig = plt.figure()\n",
    "#         ax = fig.add_subplot(1,1,1)\n",
    "\n",
    "#         for t in range(num_steps):\n",
    "#             ax.cla()\n",
    "\n",
    "#         for agent in self.agents:\n",
    "#             self.move_agent(agent)\n",
    "#             c = self.status_colors[agent.status]\n",
    "#             m = 'o' if agent.distancing else 's'\n",
    "\n",
    "#             ax.scatter(agent.position[0], agent.position[1], c=c, marker=m)\n",
    "\n",
    "#         ax.grid(True)\n",
    "#         ax.set_xticks(list(range(self.n)))\n",
    "#         ax.set_yticks(list(range(self.n)))  \n",
    "\n",
    "#         display(fig)\n",
    "#         clear_output(wait=True)\n",
    "\n",
    "#         plt.pause(5)\n",
    "        \n",
    "        "
   ]
  },
  {
   "cell_type": "markdown",
   "metadata": {},
   "source": [
    "#### Test ABM class"
   ]
  },
  {
   "cell_type": "code",
   "execution_count": null,
   "metadata": {},
   "outputs": [],
   "source": []
  },
  {
   "cell_type": "code",
   "execution_count": null,
   "metadata": {},
   "outputs": [],
   "source": []
  },
  {
   "cell_type": "code",
   "execution_count": null,
   "metadata": {
    "id": "qpnjzgwUOXcQ"
   },
   "outputs": [],
   "source": [
    "#  def runAndPlotSimulations(num_simulations, num_steps, world_size, num_agents, num_infected, percent_distancing, percent_mask, percent_vaccinated):\n",
    "#     sim_counts = []\n",
    "#     for i in range(num_simulations):\n",
    "#       model = ABM(world_size, num_agents, num_infected, percent_distancing, percent_mask, percent_vaccinated)\n",
    "#       counts = model.runSimulation(num_steps)\n",
    "#       sim_counts.append(counts)\n",
    "\n",
    "\n",
    "#     statusColors = {'R': 'r', 'S': 'b', 'I': 'g', 'Q': 'k', 'D': 'm'}\n",
    "#     fig, ax = plt.subplots(figsize=(20, 10))\n",
    "#     x = list(range(num_steps))\n",
    "\n",
    "#     for status in ['R', 'S', 'I', 'Q', 'D']:\n",
    "#       avgs = []\n",
    "#       errs = []\n",
    "#       for j in range(num_steps):\n",
    "#         stats = np.array([counts[j][status] for counts in sim_counts])\n",
    "#         avgs.append(np.mean(stats))\n",
    "#         errs.append(np.std(stats))\n",
    "\n",
    "#       ax.errorbar(x,avgs,yerr=errs, fmt=statusColors[status], label=status)\n",
    "\n",
    "#     ax.legend(loc=\"upper left\", bbox_to_anchor=(1, 0.5))\n",
    "#     plt.show()"
   ]
  },
  {
   "cell_type": "markdown",
   "metadata": {
    "id": "au-iJk4-W3P_"
   },
   "source": [
    "## 1.2 Run 10 simulations, each of which tracks 250 agents over 365 days in a 25 x 25 world with the following initial conditions: \n",
    "\n",
    "* 5 infected agents (I), the rest are susceptible (S)\n",
    "* 0% of agents wear masks\n",
    "* 0% of agents practice physical distancing\n",
    "\n",
    "Keep track of the number of S, I,Q,R, and D agents over time in each simulation. Plot the averages of these trajectories with standard error bars. \n",
    "What is the final value of R?\n",
    "What is the peak number of active cases (I+Q)? \n",
    "How many days does it take for the virus to go extinct (i.e. I+Q=0)? \n"
   ]
  },
  {
   "cell_type": "code",
   "execution_count": null,
   "metadata": {
    "id": "7HqPHPgoYqj6"
   },
   "outputs": [],
   "source": [
    "# runAndPlotSimulations(10, 365, 25, 250, num_infected, percent_distancing, percent_mask, percent_vaccinated)"
   ]
  },
  {
   "cell_type": "markdown",
   "metadata": {
    "id": "5wrdY0rtY8gl"
   },
   "source": [
    "## 1.3 Run 10 simulations, each of which tracks 250 agents over 365 days in a 25 x 25 world with the following initial conditions: \n",
    "\n",
    "\n",
    "*   5 infected agents (I), the rest are susceptible (S)\n",
    "*   p% of agents wear masks\n",
    "*   p% of agents practice physical distancing\n",
    "\n",
    "Keep track of the number of S, I,Q,R, and D agents over time in each simulation. Plot the averages of these trajectories with standard error bars. \n",
    "What value of p reduces the final value of R to roughly half of the final value of R you obtained for part 1.2?\n",
    "What is the final value of R?\n",
    "What is the peak number of active cases (I+Q)? \n",
    "How many days does it take for the virus to go extinct (i.e. I+Q=0)? "
   ]
  },
  {
   "cell_type": "code",
   "execution_count": null,
   "metadata": {
    "id": "P8lA2NpqY8Mq"
   },
   "outputs": [],
   "source": [
    "# runAndPlotSimulations(10, 365, 25, 250, num_infected, percent_distancing, percent_mask, percent_vaccinated)"
   ]
  },
  {
   "cell_type": "markdown",
   "metadata": {
    "id": "RiLt650YZetp"
   },
   "source": [
    "## 1.4 Run 10 simulations, each of which tracks 250 agents over 365 days in a 25 x 25 world with the following initial conditions: \n",
    "\n",
    "\n",
    "*   5 infected agents (I), p% of agents have been vaccinated (i.e., start in state R), the rest are susceptible (S)\n",
    "*   0% of agents wear masks\n",
    "*   0% of agents practice physical distancing\n",
    "\n",
    "\n",
    "Keep track of the number of S, I,Q,R, and D agents over time in each simulation. Plot the averages of these trajectories with standard errors. \n",
    "What value of p reduces the peak number of active cases (I+Q) to roughly half of the final value of (I+Q) you obtained for part 1.2?\n",
    "What is the final value of R?\n",
    "What is the peak number of active cases (I+Q)? \n",
    "How many days does it take for the virus to go extinct (i.e. I+Q=0)? "
   ]
  },
  {
   "cell_type": "code",
   "execution_count": null,
   "metadata": {
    "id": "fX_rIBLNZeJh"
   },
   "outputs": [],
   "source": [
    "# runAndPlotSimulations(10, 365, 25, 250, num_infected, percent_distancing, percent_mask, percent_vaccinated)"
   ]
  }
 ],
 "metadata": {
  "colab": {
   "collapsed_sections": [],
   "name": "02-518/02-718 Homework 4 Template",
   "provenance": []
  },
  "kernelspec": {
   "display_name": "Python 3",
   "language": "python",
   "name": "python3"
  },
  "language_info": {
   "codemirror_mode": {
    "name": "ipython",
    "version": 3
   },
   "file_extension": ".py",
   "mimetype": "text/x-python",
   "name": "python",
   "nbconvert_exporter": "python",
   "pygments_lexer": "ipython3",
   "version": "3.8.5"
  }
 },
 "nbformat": 4,
 "nbformat_minor": 1
}
