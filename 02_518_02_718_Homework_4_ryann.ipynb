{
 "cells": [
  {
   "cell_type": "markdown",
   "metadata": {
    "id": "H0zzS9dpUpNM"
   },
   "source": [
    "# Question 1\n",
    "## Part 1.1 Implement an agent-based model \n",
    "\n",
    "You can use the following template or feel free to implement your own program. Please refer to the handout for details about parameters settings. "
   ]
  },
  {
   "cell_type": "code",
   "execution_count": 210,
   "metadata": {},
   "outputs": [],
   "source": [
    "import random\n",
    "import numpy as np\n",
    "import matplotlib.pyplot as plt\n",
    "from IPython.display import display, clear_output"
   ]
  },
  {
   "cell_type": "markdown",
   "metadata": {},
   "source": [
    "#### Test check_success"
   ]
  },
  {
   "cell_type": "code",
   "execution_count": 211,
   "metadata": {
    "id": "d4brKchREiYS"
   },
   "outputs": [],
   "source": [
    "#?? percent_mask\n",
    "#?? percent_distancing\n",
    "\n",
    "class Agent:\n",
    "    '''\n",
    "    Allowable statuses: (R) Recovered\n",
    "                        (S) Susceptible to Infection\n",
    "                        (I) Infected\n",
    "                        (Q) Quarantined\n",
    "                        \n",
    "    Asymptomatic:  True if agent is asymptomatic when infected\n",
    "    Distancing: True if agent is physically distancing\n",
    "    Mask: True if agent is wearing a mask\n",
    "    '''\n",
    "    statuses = ['R', 'S', 'I', 'Q'] # allowable statuses\n",
    "    days_infected = 0    # How long agent has been infected, if currently infected\n",
    "    \n",
    "    def __init__(self, \n",
    "                 position, \n",
    "                 status,  \n",
    "                 mask, \n",
    "                 distancing):\n",
    "        '''\n",
    "        Initialize an agent.\n",
    "        '''\n",
    "        # position (x,y)\n",
    "        self.position = position\n",
    "\n",
    "        # status\n",
    "        if status in self.statuses:\n",
    "            self.status = status\n",
    "        else:\n",
    "            raise ValueError('status: ' + status + ' is not valid.')\n",
    "\n",
    "        # possibly asymptomatic if infected\n",
    "        if status == 'I':\n",
    "            if self.is_asymptomatic():\n",
    "                 self.asymptomatic = True\n",
    "            else:\n",
    "                self.asymptomatic = False\n",
    "        else:\n",
    "            self.asymptomatic = False \n",
    "                            \n",
    "        self.mask = mask\n",
    "        self.distancing = distancing \n",
    "        \n",
    "    \n",
    "    def is_event(self, num_event, num_outcomes):\n",
    "        '''\n",
    "        If an event has a 25% chance, num_event = 1 and num_outcomes = 4\n",
    "        Returns true if event is selected from outcomes, False otherwise.\n",
    "        '''\n",
    "        return random.randint(num_event,num_outcomes) == num_event\n",
    "    \n",
    "    \n",
    "    def is_infected(self, adjacent_agents):\n",
    "        '''\n",
    "        Returns True if the agent is now infected, given whether\n",
    "        an adjacent agent is infected or masked and whether the \n",
    "        agent is masked. False otherwise.\n",
    "        \n",
    "        Check is performed for each agent adjacent to this agent. \n",
    "        ''' \n",
    "        infected = False\n",
    "        \n",
    "        # perform check for all adjacent agents\n",
    "        for adjacent in adjacent_agents:\n",
    "        \n",
    "            # chance of infection if an adjacent agent is infected\n",
    "            if adjacent.status == 'I':\n",
    "\n",
    "                # infection probability depends on mask status of both\n",
    "                if self.mask and adjacent.mask: \n",
    "\n",
    "                    if self.is_event(1,10000): # 0.01% chance\n",
    "                        infected = True\n",
    "\n",
    "                elif self.mask or adjacent.mask: \n",
    "\n",
    "                    if self.is_event(1,100):  # 1% chance\n",
    "                        infected = True\n",
    "\n",
    "                else:  \n",
    "\n",
    "                    if self.is_event(1,4):   # 25% chance\n",
    "                        infected = True\n",
    "            \n",
    "        return infected\n",
    "            \n",
    "    \n",
    "    def is_asymptomatic(self):\n",
    "        '''\n",
    "        Returns True if agent is asymptomatic, False otherwise.\n",
    "        '''\n",
    "        return self.is_event(1,5) # 20% chance of being asymptomatic\n",
    "        \n",
    "    \n",
    "    def will_quarantine(self):\n",
    "        '''       \n",
    "        Returns True if the agent has been infected for \n",
    "        at least 3 days and is symptomatic, False otherwise.\n",
    "        '''       \n",
    "        return self.days_infected > 2 and not self.asymptomatic\n",
    "\n",
    "        \n",
    "    \n",
    "    def infection_over(self):\n",
    "        '''\n",
    "        Returns True if the agent has been infected for at\n",
    "        least 15 days, False otherwise\n",
    "        '''\n",
    "        return self.days_infected > 14\n",
    "                \n",
    "    \n",
    "    def update_status(self, adjacent_agents):\n",
    "        '''\n",
    "        Checks whether modification to the agent's status \n",
    "        is needed, and updates the status as necessary.\n",
    "        '''\n",
    "        \n",
    "        if self.status == 'S': # not yet infected\n",
    "            \n",
    "            if self.is_infected(adjacent_agents):\n",
    "                self.status = 'I'\n",
    "                \n",
    "        elif self.status == 'I': # already infected\n",
    "            \n",
    "            if self.will_quarantine():\n",
    "                self.status = 'Q'\n",
    "        \n",
    "            if self.infection_over():\n",
    "                self.status = 'R'\n",
    "                \n",
    "        elif self.status == 'Q': # already in quarantine\n",
    "            \n",
    "            if self.infection_over():\n",
    "                self.status = 'R'\n",
    "            \n",
    "            \n",
    "    def update_agent(self, new_position, adjacent_agents):\n",
    "        '''\n",
    "        Updates all agent fields based on given position and \n",
    "        adjacent agents.\n",
    "        '''\n",
    "        \n",
    "        # update position\n",
    "        self.position = new_position\n",
    "        \n",
    "        # update days infected if already infected\n",
    "        if self.status == 'I' or self.status == 'Q':\n",
    "            self.days_infected += 1 # day passed since infection started            \n",
    "        \n",
    "        # update status\n",
    "        status_before = self.status\n",
    "        self.update_status(adjacent_agents)\n",
    "        \n",
    "         # if now infected, determine if asymptomatic\n",
    "        if status_before != 'I' and self.status == 'I':\n",
    "            self.asymptomatic = self.is_asymptomatic()\n",
    "            \n",
    "        elif status_before != 'R' and self.status == 'R':\n",
    "            \n",
    "            # reset metrics related to infection\n",
    "            self.days_infected = 0\n",
    "            self.asymptomatic = False\n",
    "            \n",
    "    \n",
    "    def __str__(self):  \n",
    "        return  'Agent{'+'position:'+ str(self.position)+', status:'+ str(self.status)+', mask:'+ str(self.mask)+', distancing:'+ str(self.distancing)+', days_infected:'+ str(self.days_infected)+', asymptomatic:'+ str(self.asymptomatic)+'}'      \n",
    "    \n",
    "    "
   ]
  },
  {
   "cell_type": "markdown",
   "metadata": {},
   "source": [
    "#### Test Agent class"
   ]
  },
  {
   "cell_type": "code",
   "execution_count": 212,
   "metadata": {},
   "outputs": [
    {
     "name": "stdout",
     "output_type": "stream",
     "text": [
      "Test constructor\n",
      "Agent{position:(1, 1), status:I, mask:True, distancing:True, days_infected:0, asymptomatic:False}\n"
     ]
    }
   ],
   "source": [
    "print(\"Test constructor\")\n",
    "a1 = Agent((1,1), 'I', mask=True, distancing=True)\n",
    "\n",
    "print(a1)\n",
    "\n",
    "num = 100000\n",
    "counter = 0\n",
    "for i in range(num):\n",
    "    a1 = Agent((1,1), 'I', mask=True, distancing=True)\n",
    "    if a1.asymptomatic == True:\n",
    "        counter += 1\n",
    "assert round(counter/num,2) == 0.20\n"
   ]
  },
  {
   "cell_type": "code",
   "execution_count": 213,
   "metadata": {},
   "outputs": [
    {
     "name": "stdout",
     "output_type": "stream",
     "text": [
      "Test is_event()\n"
     ]
    }
   ],
   "source": [
    "print('Test is_event()')\n",
    "\n",
    "num = 100000\n",
    "counter = 0\n",
    "for i in range(num):\n",
    "    if is_event(1,10000):\n",
    "        counter += 1\n",
    "assert round(counter/num,4) == 0.0001\n",
    "\n",
    "counter = 0\n",
    "for i in range(num):\n",
    "    if is_event(1,100):\n",
    "        counter += 1\n",
    "assert round(counter/num,2) == 0.01\n",
    "\n",
    "counter = 0\n",
    "for i in range(num):\n",
    "    if is_event(1,4):\n",
    "        counter += 1\n",
    "assert round(counter/num,2) == 0.25"
   ]
  },
  {
   "cell_type": "code",
   "execution_count": 214,
   "metadata": {},
   "outputs": [
    {
     "name": "stdout",
     "output_type": "stream",
     "text": [
      "Test is_asymptomatic()\n"
     ]
    }
   ],
   "source": [
    "print('Test is_asymptomatic()')\n",
    "\n",
    "counter = 0\n",
    "for i in range(num):\n",
    "    if a1.is_asymptomatic():\n",
    "        counter += 1\n",
    "assert round(counter/num,2) == 0.20"
   ]
  },
  {
   "cell_type": "code",
   "execution_count": 215,
   "metadata": {},
   "outputs": [
    {
     "name": "stdout",
     "output_type": "stream",
     "text": [
      "Test will_quarantine()\n"
     ]
    }
   ],
   "source": [
    "print('Test will_quarantine()')\n",
    "\n",
    "a2 = Agent((0,1), 'I', mask=True, distancing=True)\n",
    "\n",
    "# possibility of quarantine when symptomatic\n",
    "a2.asymptomatic = False\n",
    "\n",
    "a2.days_infected = 2\n",
    "assert a2.will_quarantine() == False\n",
    "\n",
    "a2.days_infected = 3\n",
    "assert a2.will_quarantine() == True\n",
    "\n",
    "a2.days_infected = 4\n",
    "assert a2.will_quarantine() == True\n",
    "\n",
    "\n",
    "# when asymptomatic, will not quarantine\n",
    "a2.asymptomatic = True\n",
    "a2.days_infected = 2\n",
    "assert a2.will_quarantine() == False\n",
    "\n",
    "a2.days_infected = 3\n",
    "assert a2.will_quarantine() == False\n",
    "\n",
    "a2.days_infected = 4\n",
    "assert a2.will_quarantine() == False\n"
   ]
  },
  {
   "cell_type": "code",
   "execution_count": 216,
   "metadata": {},
   "outputs": [
    {
     "name": "stdout",
     "output_type": "stream",
     "text": [
      "Test infection_over()\n"
     ]
    }
   ],
   "source": [
    "print('Test infection_over()')\n",
    "a3 = Agent((0,1), 'I', mask=True, distancing=True)\n",
    "a3.days_infected = 13\n",
    "assert a3.infection_over() == False\n",
    "\n",
    "a3.days_infected = 14\n",
    "assert a3.infection_over() == False\n",
    "\n",
    "a3.days_infected = 15\n",
    "assert a3.infection_over() == True\n"
   ]
  },
  {
   "cell_type": "code",
   "execution_count": 217,
   "metadata": {},
   "outputs": [
    {
     "name": "stdout",
     "output_type": "stream",
     "text": [
      "Test is_infected()\n"
     ]
    }
   ],
   "source": [
    "print('Test is_infected()')\n",
    "a1 = Agent((1,1), 'S', mask=True, distancing=True)\n",
    "a2 = Agent((0,1), 'I', mask=True, distancing=True)\n",
    "\n",
    "# test 1 adjacent, 1 infected, both masked\n",
    "a1.mask = True\n",
    "a2.mask = True\n",
    "num = 100000\n",
    "counter = 0\n",
    "for i in range(num):\n",
    "    if a1.is_infected([a2]):\n",
    "        counter += 1\n",
    "assert round(counter/num,4) == 0.0001\n",
    "\n",
    "# test 1 adjacent, 1 infected, only agent masked\n",
    "a1.mask = True\n",
    "a2.mask = False\n",
    "counter = 0\n",
    "for i in range(num):\n",
    "    if a1.is_infected([a2]):\n",
    "        counter += 1\n",
    "assert round(counter/num,2) == 0.01\n",
    "\n",
    "# test 1 adjacent, 1 infected, only adjacent masked\n",
    "a1.mask = False\n",
    "a2.mask = True\n",
    "counter = 0\n",
    "for i in range(num):\n",
    "    if a1.is_infected([a2]):\n",
    "        counter += 1\n",
    "assert round(counter/num,2) == 0.01\n",
    "\n",
    "# test 1 adjacent, 1 infected, no masks\n",
    "a1.mask = False\n",
    "a2.mask = False\n",
    "counter = 0\n",
    "for i in range(num):\n",
    "    if a1.is_infected([a2]):\n",
    "        counter += 1\n",
    "assert round(counter/num,2) == 0.25"
   ]
  },
  {
   "cell_type": "code",
   "execution_count": 218,
   "metadata": {},
   "outputs": [
    {
     "name": "stdout",
     "output_type": "stream",
     "text": [
      "Test is_infected()\n"
     ]
    }
   ],
   "source": [
    "print('Test is_infected()')\n",
    "a3 = Agent((1,2), 'R', mask=True, distancing=True)\n",
    "\n",
    "# test 2 adjacent, 1 infected, all masked\n",
    "a1.mask = True\n",
    "a2.mask = True\n",
    "a3.mask = True\n",
    "counter = 0\n",
    "for i in range(num):\n",
    "    if a1.is_infected([a2,a3]):\n",
    "        counter += 1\n",
    "assert round(counter/num,4) == 0.0001\n",
    "\n",
    "# test 2 adjacent, 1 infected, only agent masked\n",
    "a1.mask = True\n",
    "a2.mask = False\n",
    "a3.mask = False\n",
    "counter = 0\n",
    "for i in range(num):\n",
    "    if a1.is_infected([a2,a3]):\n",
    "        counter += 1\n",
    "assert round(counter/num,2) == 0.01\n",
    "\n",
    "# test 2 adjacent, 1 infected, no one masked\n",
    "a2.mask = False\n",
    "a3.mask = False\n",
    "a1.mask = False\n",
    "counter = 0\n",
    "for i in range(num):\n",
    "    if a1.is_infected([a2,a3]):\n",
    "        counter += 1\n",
    "assert round(counter/num,2) == 0.25"
   ]
  },
  {
   "cell_type": "code",
   "execution_count": 219,
   "metadata": {},
   "outputs": [
    {
     "name": "stdout",
     "output_type": "stream",
     "text": [
      "Test is_infected()\n",
      "0.0003\n",
      "0.02\n",
      "0.01\n",
      "0.44\n"
     ]
    }
   ],
   "source": [
    "print('Test is_infected()')\n",
    "# test 2 adjacent, 2 infected, all masked\n",
    "a3.status = 'I'\n",
    "a1.mask = True\n",
    "a2.mask = True\n",
    "a3.mask = True\n",
    "counter = 0\n",
    "for i in range(num):\n",
    "    if a1.is_infected([a2,a3]):\n",
    "        counter += 1\n",
    "print(round(counter/num,4))\n",
    "assert round(counter/num,4) > 0.0001\n",
    "\n",
    "# test 2 adjacent, 2 infected, agent masked\n",
    "a3.status = 'I'\n",
    "a1.mask = True\n",
    "a2.mask = False\n",
    "a3.mask = False\n",
    "counter = 0\n",
    "for i in range(num):\n",
    "    if a1.is_infected([a2,a3]):\n",
    "        counter += 1\n",
    "print(round(counter/num,2))\n",
    "assert round(counter/num,2) > 0.01\n",
    "\n",
    "# test 2 adjacent, 2 infected, agent masked, one adjacent masked\n",
    "a3.status = 'I'\n",
    "a1.mask = True\n",
    "a2.mask = True\n",
    "a3.mask = False\n",
    "counter = 0\n",
    "for i in range(num):\n",
    "    if a1.is_infected([a2,a3]):\n",
    "        counter += 1\n",
    "print(round(counter/num,2))\n",
    "assert round(counter/num,2) >= 0.01\n",
    "\n",
    "# test 2 adjacent, 2 infected, no one masked\n",
    "a3.status = 'I'\n",
    "a1.mask = False\n",
    "a2.mask = False\n",
    "a3.mask = False\n",
    "counter = 0\n",
    "for i in range(num):\n",
    "    if a1.is_infected([a2,a3]):\n",
    "        counter += 1\n",
    "print(round(counter/num,2))\n",
    "assert round(counter/num,2) > 0.25"
   ]
  },
  {
   "cell_type": "code",
   "execution_count": 220,
   "metadata": {},
   "outputs": [
    {
     "name": "stdout",
     "output_type": "stream",
     "text": [
      "Test update_status()\n",
      "Test R status...\n",
      "Test I status...\n",
      "Test Q status...\n",
      "Test S status...\n"
     ]
    }
   ],
   "source": [
    "print('Test update_status()')\n",
    "a1 = Agent((1,1), 'R', mask=True, distancing=True)\n",
    "a2 = Agent((0,1), 'I', mask=False, distancing=True)\n",
    "\n",
    "# test R status\n",
    "print('Test R status...')\n",
    "a1.update_status([a2])\n",
    "assert a1.status == 'R'\n",
    "\n",
    "# test I status\n",
    "print('Test I status...')\n",
    "\n",
    "a1.status = 'I'\n",
    "a1.days_infected = 0 # test not yet quarantined\n",
    "a1.asymptomatic = True\n",
    "a1.update_status([a2])  \n",
    "assert a1.status == 'I'\n",
    "\n",
    "\n",
    "a1.status = 'I'\n",
    "a1.days_infected = 3 # test change to quarantined\n",
    "a1.asymptomatic = False\n",
    "a1.update_status([a2]) \n",
    "assert a1.status == 'Q'\n",
    "\n",
    "a1.status = 'I'\n",
    "a1.days_infected = 15 # test change to recovered\n",
    "a1.asymptomatic = False\n",
    "a1.update_status([a2]) \n",
    "assert a1.status == 'R'\n",
    "\n",
    "# test Q status\n",
    "print('Test Q status...')\n",
    "a1.status = 'Q'\n",
    "a1.days_infected = 15 # test change to recovered\n",
    "a1.asymptomatic = False\n",
    "a1.update_status([a2]) \n",
    "assert a1.status == 'R'\n",
    "\n",
    "# test S status\n",
    "print('Test S status...')\n",
    "a1.status = 'S'\n",
    "a1.days_infected = 0\n",
    "a1.asymptomatic = False\n",
    "num = 10000\n",
    "counter = 0\n",
    "for i in range(num):\n",
    "    a1.status = 'S'\n",
    "    a1.update_status([a2])\n",
    "    if a1.status == 'I':\n",
    "        counter += 1\n",
    "assert round(counter/num,2) == 0.01"
   ]
  },
  {
   "cell_type": "code",
   "execution_count": 224,
   "metadata": {},
   "outputs": [
    {
     "name": "stdout",
     "output_type": "stream",
     "text": [
      "Test update_agent()\n"
     ]
    }
   ],
   "source": [
    "print('Test update_agent()')\n",
    "\n",
    "a1 = Agent((1,1), 'R', mask=False, distancing=True)\n",
    "a2 = Agent((0,1), 'I', mask=False, distancing=True)\n",
    "a1.update_agent((2,2), [a2])\n",
    "\n",
    "# check position\n",
    "assert a1.position == (2,2)\n",
    "\n",
    "# check days_infected\n",
    "a1.status = 'I'\n",
    "a1.update_agent((2,2), [a2])\n",
    "assert a1.days_infected == 1\n",
    "\n",
    "# check status if now recovered\n",
    "# check metrics if now recovered\n",
    "a1.status = 'I'\n",
    "a1.days_infected = 14\n",
    "a1.update_agent((2,2), [a2])\n",
    "assert a1.status == 'R'\n",
    "assert a1.days_infected == 0\n",
    "assert a1.asymptomatic == False\n",
    "\n",
    "# check status if now recovered\n",
    "# check metrics if now recovered\n",
    "a1.status = 'Q'\n",
    "a1.days_infected = 14\n",
    "a1.update_agent((2,2), [a2])\n",
    "assert a1.status == 'R'\n",
    "assert a1.days_infected == 0\n",
    "assert a1.asymptomatic == False\n",
    "    \n",
    "\n",
    "# check asymptomatic if now infected\n",
    "a1.status = 'S'\n",
    "a1.days_infected = 0\n",
    "a1.asymptomatic = False\n",
    "a1.update_agent((2,2), [a2])\n",
    "\n",
    "num = 100000\n",
    "counter = 0\n",
    "for i in range(num):\n",
    "    a1.status = 'S'\n",
    "    a1.asymptomatic = False\n",
    "    a1.update_agent((2,2), [a2])\n",
    "    if a1.asymptomatic == True:\n",
    "        counter += 1\n",
    "assert round(counter/num,2) == 0.05"
   ]
  },
  {
   "cell_type": "code",
   "execution_count": 222,
   "metadata": {},
   "outputs": [
    {
     "name": "stdout",
     "output_type": "stream",
     "text": [
      "All tests pass.\n"
     ]
    }
   ],
   "source": [
    "print('All tests pass.')"
   ]
  },
  {
   "cell_type": "code",
   "execution_count": null,
   "metadata": {},
   "outputs": [],
   "source": [
    "class ABM:\n",
    "    directions = [[-1,0], # left\n",
    "                [1,0], # right\n",
    "                [0,-1], # up\n",
    "                [0,1], # down\n",
    "                [-1,-1], # left & up\n",
    "                [-1,1], # left & down\n",
    "                [1,-1], # right & up\n",
    "                [1,1]] # right & down\n",
    "\n",
    "    statusColors = {'R': 'r', 'S': 'b', 'I': 'g', 'Q': 'k', 'D': 'm'}\n",
    "\n",
    "    def __init__(self, n, m, num_infected, percent_distancing, percent_mask, percent_vaccinated = 0):\n",
    "        \"\"\"\n",
    "        Initialize the world and agents in the world. \n",
    "\n",
    "        Parameters:\n",
    "          n: size of the world\n",
    "          m: number of agents \n",
    "\n",
    "        \"\"\"\n",
    "\n",
    "    def moveAgent(self, agent):\n",
    "        \"\"\"\n",
    "        Move an agent and update status based on conditions. \n",
    "\n",
    "        \"\"\"\n",
    "\n",
    "    def agent_dies(self,agent):\n",
    "        '''\n",
    "        Check if agent dies due to infection.\n",
    "        '''    \n",
    "\n",
    "\n",
    "    def remove_agent(self,agent):\n",
    "        '''\n",
    "        Remove agent from simulation if agent has died.\n",
    "        '''     \n",
    "\n",
    "\n",
    "\n",
    "    def addCounts(self):\n",
    "        counts = {'R': self.num_recovered, 'D': self.num_dead, 'I': self.num_infected, 'S': self.num_susceptible, 'Q': self.num_quarantine}\n",
    "        self.counts.append(counts)\n",
    "\n",
    "    def runSimulation(self, num_steps):\n",
    "        for t in range(num_steps):\n",
    "            for agent in self.agents:\n",
    "                self.moveAgent(agent)\n",
    "\n",
    "                self.addCounts()\n",
    "\n",
    "        return self.counts\n",
    "\n",
    "\n",
    "    def runAndVisualizeSimulation(self, num_steps):\n",
    "        \"\"\"\n",
    "        Helper function for de-bugging. \n",
    "\n",
    "        \"\"\"\n",
    "\n",
    "        fig = plt.figure()\n",
    "        ax = fig.add_subplot(1,1,1)\n",
    "\n",
    "        for t in range(num_steps):\n",
    "            ax.cla()\n",
    "\n",
    "        for agent in self.agents:\n",
    "            self.moveAgent(agent)\n",
    "            c = self.statusColors[agent.status]\n",
    "            m = 'o' if agent.is_distancing else 's'\n",
    "\n",
    "            ax.scatter(agent.x, agent.y, c=c, marker=m)\n",
    "\n",
    "        ax.grid(True)\n",
    "        ax.set_xticks(list(range(self.n)))\n",
    "        ax.set_yticks(list(range(self.n)))  \n",
    "\n",
    "        display(fig)\n",
    "        clear_output(wait=True)\n",
    "\n",
    "        plt.pause(5)\n",
    "        \n",
    "        "
   ]
  },
  {
   "cell_type": "code",
   "execution_count": null,
   "metadata": {
    "id": "qpnjzgwUOXcQ"
   },
   "outputs": [],
   "source": [
    " def runAndPlotSimulations(num_simulations, num_steps, world_size, num_agents, num_infected, percent_distancing, percent_mask, percent_vaccinated):\n",
    "    sim_counts = []\n",
    "    for i in range(num_simulations):\n",
    "      model = ABM(world_size, num_agents, num_infected, percent_distancing, percent_mask, percent_vaccinated)\n",
    "      counts = model.runSimulation(num_steps)\n",
    "      sim_counts.append(counts)\n",
    "\n",
    "\n",
    "    statusColors = {'R': 'r', 'S': 'b', 'I': 'g', 'Q': 'k', 'D': 'm'}\n",
    "    fig, ax = plt.subplots(figsize=(20, 10))\n",
    "    x = list(range(num_steps))\n",
    "\n",
    "    for status in ['R', 'S', 'I', 'Q', 'D']:\n",
    "      avgs = []\n",
    "      errs = []\n",
    "      for j in range(num_steps):\n",
    "        stats = np.array([counts[j][status] for counts in sim_counts])\n",
    "        avgs.append(np.mean(stats))\n",
    "        errs.append(np.std(stats))\n",
    "\n",
    "      ax.errorbar(x,avgs,yerr=errs, fmt=statusColors[status], label=status)\n",
    "\n",
    "    ax.legend(loc=\"upper left\", bbox_to_anchor=(1, 0.5))\n",
    "    plt.show()"
   ]
  },
  {
   "cell_type": "markdown",
   "metadata": {
    "id": "au-iJk4-W3P_"
   },
   "source": [
    "## 1.2 Run 10 simulations, each of which tracks 250 agents over 365 days in a 25 x 25 world with the following initial conditions: \n",
    "\n",
    "* 5 infected agents (I), the rest are susceptible (S)\n",
    "* 0% of agents wear masks\n",
    "* 0% of agents practice physical distancing\n",
    "\n",
    "Keep track of the number of S, I,Q,R, and D agents over time in each simulation. Plot the averages of these trajectories with standard error bars. \n",
    "What is the final value of R?\n",
    "What is the peak number of active cases (I+Q)? \n",
    "How many days does it take for the virus to go extinct (i.e. I+Q=0)? \n"
   ]
  },
  {
   "cell_type": "code",
   "execution_count": null,
   "metadata": {
    "id": "7HqPHPgoYqj6"
   },
   "outputs": [],
   "source": [
    "# runAndPlotSimulations(10, 365, 25, 250, num_infected, percent_distancing, percent_mask, percent_vaccinated)"
   ]
  },
  {
   "cell_type": "markdown",
   "metadata": {
    "id": "5wrdY0rtY8gl"
   },
   "source": [
    "## 1.3 Run 10 simulations, each of which tracks 250 agents over 365 days in a 25 x 25 world with the following initial conditions: \n",
    "\n",
    "\n",
    "*   5 infected agents (I), the rest are susceptible (S)\n",
    "*   p% of agents wear masks\n",
    "*   p% of agents practice physical distancing\n",
    "\n",
    "Keep track of the number of S, I,Q,R, and D agents over time in each simulation. Plot the averages of these trajectories with standard error bars. \n",
    "What value of p reduces the final value of R to roughly half of the final value of R you obtained for part 1.2?\n",
    "What is the final value of R?\n",
    "What is the peak number of active cases (I+Q)? \n",
    "How many days does it take for the virus to go extinct (i.e. I+Q=0)? "
   ]
  },
  {
   "cell_type": "code",
   "execution_count": null,
   "metadata": {
    "id": "P8lA2NpqY8Mq"
   },
   "outputs": [],
   "source": [
    "# runAndPlotSimulations(10, 365, 25, 250, num_infected, percent_distancing, percent_mask, percent_vaccinated)"
   ]
  },
  {
   "cell_type": "markdown",
   "metadata": {
    "id": "RiLt650YZetp"
   },
   "source": [
    "## 1.4 Run 10 simulations, each of which tracks 250 agents over 365 days in a 25 x 25 world with the following initial conditions: \n",
    "\n",
    "\n",
    "*   5 infected agents (I), p% of agents have been vaccinated (i.e., start in state R), the rest are susceptible (S)\n",
    "*   0% of agents wear masks\n",
    "*   0% of agents practice physical distancing\n",
    "\n",
    "\n",
    "Keep track of the number of S, I,Q,R, and D agents over time in each simulation. Plot the averages of these trajectories with standard errors. \n",
    "What value of p reduces the peak number of active cases (I+Q) to roughly half of the final value of (I+Q) you obtained for part 1.2?\n",
    "What is the final value of R?\n",
    "What is the peak number of active cases (I+Q)? \n",
    "How many days does it take for the virus to go extinct (i.e. I+Q=0)? "
   ]
  },
  {
   "cell_type": "code",
   "execution_count": null,
   "metadata": {
    "id": "fX_rIBLNZeJh"
   },
   "outputs": [],
   "source": [
    "# runAndPlotSimulations(10, 365, 25, 250, num_infected, percent_distancing, percent_mask, percent_vaccinated)"
   ]
  }
 ],
 "metadata": {
  "colab": {
   "collapsed_sections": [],
   "name": "02-518/02-718 Homework 4 Template",
   "provenance": []
  },
  "kernelspec": {
   "display_name": "Python 3",
   "language": "python",
   "name": "python3"
  },
  "language_info": {
   "codemirror_mode": {
    "name": "ipython",
    "version": 3
   },
   "file_extension": ".py",
   "mimetype": "text/x-python",
   "name": "python",
   "nbconvert_exporter": "python",
   "pygments_lexer": "ipython3",
   "version": "3.8.5"
  }
 },
 "nbformat": 4,
 "nbformat_minor": 1
}
